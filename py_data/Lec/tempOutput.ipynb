{
 "cells": [
  {
   "cell_type": "code",
   "execution_count": 1,
   "id": "c4f6ba5c-6bb6-479b-b8fa-793cbda9d7a7",
   "metadata": {},
   "outputs": [],
   "source": [
    "import random as rd;"
   ]
  },
  {
   "cell_type": "code",
   "execution_count": 2,
   "id": "96a1dcf8-f8ce-418a-be55-1c732944e527",
   "metadata": {},
   "outputs": [
    {
     "data": {
      "text/plain": [
       "0.52324739683462"
      ]
     },
     "execution_count": 2,
     "metadata": {},
     "output_type": "execute_result"
    }
   ],
   "source": [
    "rd.random() #float x, 0.0 <= x < 1.0."
   ]
  },
  {
   "cell_type": "code",
   "execution_count": 3,
   "id": "81808eda-62ab-4c13-b9b2-2eaf021a48e5",
   "metadata": {},
   "outputs": [
    {
     "data": {
      "text/plain": [
       "8.628469801521234"
      ]
     },
     "execution_count": 3,
     "metadata": {},
     "output_type": "execute_result"
    }
   ],
   "source": [
    "rd.uniform(1, 45) # float x, 0.0 <= x < 45.0"
   ]
  },
  {
   "cell_type": "code",
   "execution_count": 4,
   "id": "e4eb0475-b975-4acf-b8cf-254ef11d0c67",
   "metadata": {},
   "outputs": [
    {
     "data": {
      "text/plain": [
       "8"
      ]
     },
     "execution_count": 4,
     "metadata": {},
     "output_type": "execute_result"
    }
   ],
   "source": [
    "rd.randint(1, 45) # 정수 x, 1 <= x < 45 ;; endpoints include."
   ]
  },
  {
   "cell_type": "code",
   "execution_count": 5,
   "id": "03721853-f5fd-406c-8011-978d06f77ea5",
   "metadata": {},
   "outputs": [
    {
     "data": {
      "text/plain": [
       "10"
      ]
     },
     "execution_count": 5,
     "metadata": {},
     "output_type": "execute_result"
    }
   ],
   "source": [
    "# 함수로 만들어지는 정수 중에 하나를 랜덤하게 리턴.\n",
    "rd.randrange(0, 101, 2)"
   ]
  },
  {
   "cell_type": "code",
   "execution_count": 6,
   "id": "5bac2c43-edcc-4315-aaa9-1c5bc2af2f64",
   "metadata": {},
   "outputs": [
    {
     "data": {
      "text/plain": [
       "'p'"
      ]
     },
     "execution_count": 6,
     "metadata": {},
     "output_type": "execute_result"
    }
   ],
   "source": [
    "# 랜덤하게 하나의 원소를 선택.\n",
    "rd.choice('apple is good') # Choose a random element."
   ]
  },
  {
   "cell_type": "code",
   "execution_count": 7,
   "id": "50a6c06e-d143-4864-90a1-02411c030f18",
   "metadata": {},
   "outputs": [
    {
     "data": {
      "text/plain": [
       "[8, 1, 3, 6]"
      ]
     },
     "execution_count": 7,
     "metadata": {},
     "output_type": "execute_result"
    }
   ],
   "source": [
    "# 랜덤하게 여러개의 원소를 선택.\n",
    "rd.sample([1, 2, 3, 4, 5, 6, 7, 8], 4) # choice 4 random elements."
   ]
  },
  {
   "cell_type": "code",
   "execution_count": 8,
   "id": "eae3acf4-42ca-4c0d-9417-96f8850a335d",
   "metadata": {},
   "outputs": [
    {
     "name": "stdout",
     "output_type": "stream",
     "text": [
      "[1, 2, 3, 4, 5, 6, 7, 8]\n",
      "[6, 7, 2, 3, 1, 4, 8, 5]\n"
     ]
    }
   ],
   "source": [
    "# 요소를 랜덤하게 섞기\n",
    "a = [1,2,3,4,5,6,7,8] # shuffle in elements.\n",
    "print(a)\n",
    "\n",
    "rd.shuffle(a)\n",
    "print(a)"
   ]
  },
  {
   "cell_type": "code",
   "execution_count": 15,
   "id": "d884f456-e889-435f-88f5-cfe041cf6b91",
   "metadata": {},
   "outputs": [
    {
     "name": "stdout",
     "output_type": "stream",
     "text": [
      "[8, 19, 16, 23, 1, 44]\n"
     ]
    }
   ],
   "source": [
    "lslots = [] # lotto slots : max = 6\n",
    "max = 6\n",
    "rint = 0\n",
    "while True:\n",
    "    rint = rd.randint(1, 45)\n",
    "    if rint in lslots:\n",
    "        continue\n",
    "    else: \n",
    "        lslots.insert(-1, rint)\n",
    "    \n",
    "    if max <= len(lslots):\n",
    "        break\n",
    "\n",
    "print(lslots)"
   ]
  }
 ],
 "metadata": {
  "kernelspec": {
   "display_name": "Python 3 (ipykernel)",
   "language": "python",
   "name": "python3"
  },
  "language_info": {
   "codemirror_mode": {
    "name": "ipython",
    "version": 3
   },
   "file_extension": ".py",
   "mimetype": "text/x-python",
   "name": "python",
   "nbconvert_exporter": "python",
   "pygments_lexer": "ipython3",
   "version": "3.11.2"
  }
 },
 "nbformat": 4,
 "nbformat_minor": 5
}
