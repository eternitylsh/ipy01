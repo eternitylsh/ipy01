{
 "cells": [
  {
   "cell_type": "code",
   "execution_count": 5,
   "id": "7839675d-a15c-4176-9159-c14ef531d460",
   "metadata": {},
   "outputs": [],
   "source": [
    "# 사전 import\n",
    "import os\n",
    "import math\n",
    "\n",
    "import numpy as np\n",
    "from copy import copy"
   ]
  },
  {
   "cell_type": "markdown",
   "id": "e13259f7-3306-4b2d-a599-e6f0089fc10f",
   "metadata": {
    "jp-MarkdownHeadingCollapsed": true
   },
   "source": [
    "<div style=\"font-size: 2rem\"> ML 문법</div>\n",
    "<hr/>\n",
    "\n",
    "[점프 투 파이썬](\"https://wikidocs.net/book/1\")   \n",
    "<span style=\"color:orange; font-size:1.5rem;\"><strong>강조</strong></span>  "
   ]
  },
  {
   "cell_type": "markdown",
   "id": "844d8198-677f-48e3-9cb1-9ed48080277c",
   "metadata": {},
   "source": [
    "# [주피터랩 단축키]\n",
    "- a : 위 셀 집어넣기\r\n",
    "- b : 아래 셀 집어넣기\r\n",
    "- Ctrl +Shift + 위 : 셀 위로 이동\r\n",
    "- Ctrl +Shift + 아래 : 셀 아래로 이동\r\n",
    "- Shift + Enter : 셀 실행하며 아래 셀 생성\r\n",
    "- Ctrl + Enter : 그냥 셀 실행.\r\n",
    "- D 두번 : 셀 삭제. (실수 방지 목적으로 2번)\r\n",
    "- x : 셀 잘라내기\r\n",
    "- c : 셀 복사\r\n",
    "- v : 셀 붙여넣기\r\n",
    "- z : undo\r\n",
    "- Shift + z : redo\r\n",
    "- m : ML\r\n",
    "- y : code"
   ]
  },
  {
   "cell_type": "markdown",
   "id": "5b03bd22-3e77-4bc3-9019-ae3a04591532",
   "metadata": {},
   "source": [
    "# 기초, 자료형 p45"
   ]
  },
  {
   "cell_type": "markdown",
   "id": "b3f85cb9-7092-4e7b-84eb-91302f4fe9ec",
   "metadata": {},
   "source": [
    "## 숫자형"
   ]
  },
  {
   "cell_type": "markdown",
   "id": "5584deac-6d73-4c47-815e-b4dab3eb0e52",
   "metadata": {},
   "source": [
    "### 정수형"
   ]
  },
  {
   "cell_type": "code",
   "execution_count": 1,
   "id": "8070ec56-0105-4bfc-aef8-2e7a0cf54061",
   "metadata": {},
   "outputs": [],
   "source": [
    "a = 123\n",
    "b = -123\n",
    "c = 0"
   ]
  },
  {
   "cell_type": "code",
   "execution_count": 2,
   "id": "dd88e476-db33-4bc3-9354-502ef3ebc877",
   "metadata": {},
   "outputs": [
    {
     "name": "stdout",
     "output_type": "stream",
     "text": [
      "123 -123 0\n"
     ]
    }
   ],
   "source": [
    "print( a, b, c )"
   ]
  },
  {
   "cell_type": "markdown",
   "id": "6a91e387-61fd-4a88-930f-d01f78025626",
   "metadata": {},
   "source": [
    "### 실수형"
   ]
  },
  {
   "cell_type": "code",
   "execution_count": 3,
   "id": "0efb96dc-d1cc-4c6a-bd18-d21525289b59",
   "metadata": {},
   "outputs": [],
   "source": [
    "aa = 1.23\n",
    "bb = -3.1415\n",
    "cc = 3.14e10"
   ]
  },
  {
   "cell_type": "code",
   "execution_count": 4,
   "id": "0eeceb34-2e85-4572-9556-2e1644bebb65",
   "metadata": {},
   "outputs": [
    {
     "name": "stdout",
     "output_type": "stream",
     "text": [
      "1.23 -3.1415\n"
     ]
    }
   ],
   "source": [
    "print(aa, bb)"
   ]
  },
  {
   "cell_type": "markdown",
   "id": "28c7dc37-39b2-4b6b-99ef-97986d6f5578",
   "metadata": {},
   "source": [
    "### 8진수, 16진수 *\n",
    "    8진수 0o17, 16진수 0x17"
   ]
  },
  {
   "cell_type": "code",
   "execution_count": 7,
   "id": "57921422-7371-469c-b93d-f6a888ed0b67",
   "metadata": {},
   "outputs": [
    {
     "name": "stdout",
     "output_type": "stream",
     "text": [
      "15 23\n"
     ]
    }
   ],
   "source": [
    "a = 0o17\n",
    "b = 0x17\n",
    "print(a, b)"
   ]
  },
  {
   "cell_type": "markdown",
   "id": "75372d19-a9c1-47ed-a710-b22540cb1669",
   "metadata": {},
   "source": [
    "### 숫자형을 활용하기 위한 연산자"
   ]
  },
  {
   "cell_type": "markdown",
   "id": "57089f06-79c9-4761-bb07-7e12233cf93b",
   "metadata": {},
   "source": [
    "#### 사칙연산"
   ]
  },
  {
   "cell_type": "code",
   "execution_count": 16,
   "id": "7f6b08fe-7d11-44ff-8aea-b6e26d30e6af",
   "metadata": {},
   "outputs": [
    {
     "name": "stdout",
     "output_type": "stream",
     "text": [
      "6912\n",
      "-4444\n",
      "7006652\n",
      "0.2173300457907714\n",
      "411.3333333333333\n",
      "411\n",
      "1\n",
      "1522756 183056925752\n"
     ]
    }
   ],
   "source": [
    "a = 1234\n",
    "b = 5678\n",
    "print( a+b )\n",
    "print( a-b )\n",
    "print( a*b )\n",
    "print( a/b )\n",
    "print( a/3 )\n",
    "print( a//3 )\n",
    "print( a%3 )\n",
    "print( a**2, b**3 )"
   ]
  },
  {
   "cell_type": "markdown",
   "id": "d56b82ad-febb-43f0-b460-2f968a0e9bfa",
   "metadata": {},
   "source": [
    "## 문자열 자료형 p50"
   ]
  },
  {
   "cell_type": "markdown",
   "id": "43091986-8fb1-4e55-bd2e-d4b19c0ccfbd",
   "metadata": {},
   "source": [
    "### 문자열 만드는 법"
   ]
  },
  {
   "cell_type": "markdown",
   "id": "568d97aa-b6a0-4488-9071-4f506d9b0bcd",
   "metadata": {},
   "source": [
    "#### 큰따옴표 양쪽 둘러싸기"
   ]
  },
  {
   "cell_type": "code",
   "execution_count": 25,
   "id": "5109a602-3a7e-42e4-9aef-f6e546794a8c",
   "metadata": {},
   "outputs": [
    {
     "data": {
      "text/plain": [
       "'Hello World~'"
      ]
     },
     "execution_count": 25,
     "metadata": {},
     "output_type": "execute_result"
    }
   ],
   "source": [
    "\"Hello World~\""
   ]
  },
  {
   "cell_type": "markdown",
   "id": "cd3a0d53-9586-4a0d-88c7-b275221dc6d6",
   "metadata": {},
   "source": [
    "#### 작은따옴표 양쪽 둘러싸기"
   ]
  },
  {
   "cell_type": "code",
   "execution_count": 26,
   "id": "a74b63b4-9441-4c12-838f-01152790140e",
   "metadata": {},
   "outputs": [
    {
     "data": {
      "text/plain": [
       "'wow~!'"
      ]
     },
     "execution_count": 26,
     "metadata": {},
     "output_type": "execute_result"
    }
   ],
   "source": [
    "'wow~!'"
   ]
  },
  {
   "cell_type": "markdown",
   "id": "fd70f860-ee33-4a82-8213-e1d06622f9e2",
   "metadata": {},
   "source": [
    "#### 큰따옴표 3개 연속으로 쓰기"
   ]
  },
  {
   "cell_type": "code",
   "execution_count": 27,
   "id": "f2d51337-3eca-4c5e-bfb1-99d20ddc75ae",
   "metadata": {},
   "outputs": [
    {
     "data": {
      "text/plain": [
       "'\\n    Hello World~\\n    Nice too meet you~\\n'"
      ]
     },
     "execution_count": 27,
     "metadata": {},
     "output_type": "execute_result"
    }
   ],
   "source": [
    "\"\"\"\n",
    "    Hello World~\n",
    "    Nice too meet you~\n",
    "\"\"\""
   ]
  },
  {
   "cell_type": "markdown",
   "id": "8e3be2f1-0caf-44e2-8cc7-7cc307d57c73",
   "metadata": {},
   "source": [
    "#### 작은따옴표 3개를 연속으로 쓰기"
   ]
  },
  {
   "cell_type": "code",
   "execution_count": 28,
   "id": "6833f219-999c-4135-b575-fb8e6fce9295",
   "metadata": {},
   "outputs": [
    {
     "data": {
      "text/plain": [
       "'\\n    Thanks very much.\\n    Oh~! Nice Friend~\\n'"
      ]
     },
     "execution_count": 28,
     "metadata": {},
     "output_type": "execute_result"
    }
   ],
   "source": [
    "'''\n",
    "    Thanks very much.\n",
    "    Oh~! Nice Friend~\n",
    "'''"
   ]
  },
  {
   "cell_type": "markdown",
   "id": "1aa530ba-03a0-4221-a6f0-bd1c79132acd",
   "metadata": {},
   "source": [
    "### 문자열 안에 작은 따옴표 or 큰 따옴표"
   ]
  },
  {
   "cell_type": "markdown",
   "id": "49f74765-b414-4c42-b1e6-efaf2d80a313",
   "metadata": {},
   "source": [
    "#### 문자열에 작은따옴표 포함하기"
   ]
  },
  {
   "cell_type": "code",
   "execution_count": 32,
   "id": "878e02d7-b02f-4dba-8e23-48398db9b35e",
   "metadata": {},
   "outputs": [
    {
     "name": "stdout",
     "output_type": "stream",
     "text": [
      "He say 'Hello' so said.\n"
     ]
    }
   ],
   "source": [
    "say = \"He say 'Hello' so said.\"\n",
    "print(say)"
   ]
  },
  {
   "cell_type": "markdown",
   "id": "6c739f4c-919e-41bb-b730-8a7516c68350",
   "metadata": {},
   "source": [
    "#### 문자열에 큰따옴표 포함하기"
   ]
  },
  {
   "cell_type": "code",
   "execution_count": 33,
   "id": "c2c6a645-8fa4-4474-ad85-ce8cb711e2d4",
   "metadata": {},
   "outputs": [
    {
     "name": "stdout",
     "output_type": "stream",
     "text": [
      "He say \"Hello\" so said.\n"
     ]
    }
   ],
   "source": [
    "say = 'He say \"Hello\" so said.'\n",
    "print(say)"
   ]
  },
  {
   "cell_type": "markdown",
   "id": "74e71b9c-335d-492c-97f7-5296a8c0d431",
   "metadata": {},
   "source": [
    "#### 역슬래시로 이스케이프 문자 표현."
   ]
  },
  {
   "cell_type": "code",
   "execution_count": 30,
   "id": "b61a9457-e213-4b7a-81b6-75eafccaabef",
   "metadata": {},
   "outputs": [
    {
     "name": "stdout",
     "output_type": "stream",
     "text": [
      "He say \"Hello\" so said.\n"
     ]
    }
   ],
   "source": [
    "say = \"He say \\\"Hello\\\" so said.\"\n",
    "print(say)"
   ]
  },
  {
   "cell_type": "markdown",
   "id": "72c957d8-06a9-422b-a23b-1fa819c3336a",
   "metadata": {},
   "source": [
    "### 여러 줄인 문자열을 변수에 대입하고 싶을 때 (생략)"
   ]
  },
  {
   "cell_type": "markdown",
   "id": "c6b5312a-7246-445f-b0a6-fea174e9b243",
   "metadata": {},
   "source": [
    "### 문자열 연산"
   ]
  },
  {
   "cell_type": "markdown",
   "id": "208797aa-ecf8-4558-b0d3-a0f969bc1720",
   "metadata": {},
   "source": [
    "#### 문자열 더하기"
   ]
  },
  {
   "cell_type": "code",
   "execution_count": 35,
   "id": "57d4c613-55bc-4b34-9444-dafa74d0a0b7",
   "metadata": {},
   "outputs": [
    {
     "name": "stdout",
     "output_type": "stream",
     "text": [
      "Python is fun~\n"
     ]
    }
   ],
   "source": [
    "a = 'Python is '\n",
    "b = 'fun~'\n",
    "print( a + b )"
   ]
  },
  {
   "cell_type": "markdown",
   "id": "697083b8-fc72-4a9c-976b-16d205e02c45",
   "metadata": {},
   "source": [
    "#### 문자열 곱하기"
   ]
  },
  {
   "cell_type": "code",
   "execution_count": 39,
   "id": "a192d939-5181-43d8-9fd4-6c380513c399",
   "metadata": {},
   "outputs": [
    {
     "name": "stdout",
     "output_type": "stream",
     "text": [
      "I'm hungry!! I'm hungry!! I'm hungry!! \n"
     ]
    }
   ],
   "source": [
    "aa = 'I\\'m hungry!! '\n",
    "print( aa * 3 )"
   ]
  },
  {
   "cell_type": "markdown",
   "id": "f9686b9b-207b-4b3d-9193-6a8ffac38799",
   "metadata": {},
   "source": [
    "#### 문자열 곱하기(응용)"
   ]
  },
  {
   "cell_type": "code",
   "execution_count": 41,
   "id": "9fa31cee-a56d-4820-81d9-2e3c6e3347f1",
   "metadata": {},
   "outputs": [
    {
     "name": "stdout",
     "output_type": "stream",
     "text": [
      "==================================================\n",
      "                    My Program                    \n",
      "==================================================\n"
     ]
    }
   ],
   "source": [
    "print('=' * 50)\n",
    "print('My Program'.center(50))\n",
    "print('=' * 50)"
   ]
  },
  {
   "cell_type": "markdown",
   "id": "7e9b9fcc-a1fa-4fd3-a1cc-898171737d60",
   "metadata": {},
   "source": [
    "- '문자열'.center(...) 로 중앙정렬 가능 추후 자세한 설명기회를.."
   ]
  },
  {
   "cell_type": "markdown",
   "id": "40739c72-991e-4fe1-a023-e65efd994d24",
   "metadata": {},
   "source": [
    "#### 문자열 길이 구하기 *"
   ]
  },
  {
   "cell_type": "code",
   "execution_count": 43,
   "id": "2d2afa52-6ce9-4010-a8bb-16a25ac98394",
   "metadata": {},
   "outputs": [
    {
     "data": {
      "text/plain": [
       "17"
      ]
     },
     "execution_count": 43,
     "metadata": {},
     "output_type": "execute_result"
    }
   ],
   "source": [
    "a = \"Life is too short\"\n",
    "len(a)"
   ]
  },
  {
   "cell_type": "markdown",
   "id": "e7fff3b8-4eb2-405e-a82b-199d44e79e11",
   "metadata": {},
   "source": [
    "### 문자열 인덱싱, 슬라이싱 p56 **\n",
    "#### 문자열 인덱싱"
   ]
  },
  {
   "cell_type": "markdown",
   "id": "0fa6e1a9-7698-4dbd-ab49-9ef6c57673f4",
   "metadata": {},
   "source": [
    "a = \"Life is too short, You need Python\"\r\n"
   ]
  },
  {
   "cell_type": "markdown",
   "id": "df887038-c8d2-426d-81e9-20dc3fc7456b",
   "metadata": {},
   "source": [
    "![a data res](./res/02_2_indexing.png)"
   ]
  },
  {
   "cell_type": "code",
   "execution_count": 49,
   "id": "5521ce6c-675d-417b-b0ed-d5470ab32f02",
   "metadata": {},
   "outputs": [],
   "source": [
    "a = \"Life is too short, You need Python\""
   ]
  },
  {
   "cell_type": "code",
   "execution_count": 50,
   "id": "912dbb66-987d-4f72-b1f5-97a1468d3807",
   "metadata": {},
   "outputs": [
    {
     "data": {
      "text/plain": [
       "'e'"
      ]
     },
     "execution_count": 50,
     "metadata": {},
     "output_type": "execute_result"
    }
   ],
   "source": [
    "a[3]"
   ]
  },
  {
   "cell_type": "markdown",
   "id": "64d9c4fe-7d05-42b7-a6bc-9cdb1d639f42",
   "metadata": {},
   "source": [
    "#### 문자열 인덱싱 활용하기\n",
    "- 중요한 사항은 바로 아래에"
   ]
  },
  {
   "cell_type": "code",
   "execution_count": 55,
   "id": "3be5f177-7e5f-44d7-8d26-78d1f771f898",
   "metadata": {},
   "outputs": [
    {
     "name": "stdout",
     "output_type": "stream",
     "text": [
      "hn\n"
     ]
    }
   ],
   "source": [
    "a1 = a[-3]\n",
    "a2 = a[-1]\n",
    "print( a1 + a2 )"
   ]
  },
  {
   "cell_type": "code",
   "execution_count": 57,
   "id": "675cceb3-76bb-4bd2-8e3f-a4e376a54327",
   "metadata": {},
   "outputs": [],
   "source": [
    "arr = [ a[0], a[12], a[-1] ]"
   ]
  },
  {
   "cell_type": "code",
   "execution_count": 58,
   "id": "9fdc07fa-748d-4577-ad41-7fead3916f7b",
   "metadata": {},
   "outputs": [
    {
     "name": "stdout",
     "output_type": "stream",
     "text": [
      "['L', 's', 'n']\n"
     ]
    }
   ],
   "source": [
    "print( arr )"
   ]
  },
  {
   "cell_type": "code",
   "execution_count": 59,
   "id": "fe8113f5-9881-4c92-84b9-d4ef56afe9a9",
   "metadata": {},
   "outputs": [],
   "source": [
    "arr = [ a[-0], a[-2], a[-5] ]"
   ]
  },
  {
   "cell_type": "code",
   "execution_count": 60,
   "id": "482781dd-84e3-40a4-8a63-a01c5dd6a74b",
   "metadata": {},
   "outputs": [
    {
     "name": "stdout",
     "output_type": "stream",
     "text": [
      "['L', 'o', 'y']\n"
     ]
    }
   ],
   "source": [
    "print( arr )"
   ]
  },
  {
   "cell_type": "markdown",
   "id": "3ab345a7-9a36-419a-bce7-49aa38fcd12b",
   "metadata": {},
   "source": [
    "#### 문자열 슬라이싱"
   ]
  },
  {
   "cell_type": "code",
   "execution_count": 63,
   "id": "69e87ea4-e0c8-41e0-8002-94db7f0074ad",
   "metadata": {},
   "outputs": [
    {
     "name": "stdout",
     "output_type": "stream",
     "text": [
      "Life\n"
     ]
    }
   ],
   "source": [
    "a = \"Life is too short, You need Python\"\n",
    "# b = a[0] + a[1] + a[2] + a[3] <<--- 귀찮...\n",
    "b = a[0:4] # 이렇게 가능\n",
    "print(b)"
   ]
  },
  {
   "cell_type": "code",
   "execution_count": 74,
   "id": "2f690dee-3125-4e9c-af4e-6da86e02bf6e",
   "metadata": {},
   "outputs": [
    {
     "name": "stdout",
     "output_type": "stream",
     "text": [
      "Python\n"
     ]
    }
   ],
   "source": [
    "b = a[-6:] # js의 for (let i=-6; i < 0; i++)\n",
    "print(b)"
   ]
  },
  {
   "cell_type": "markdown",
   "id": "6a07d9e9-6a71-49c7-a1c6-12bdfdc9d58c",
   "metadata": {},
   "source": [
    "#### 문자열을 슬라이싱 하는 방법"
   ]
  },
  {
   "cell_type": "code",
   "execution_count": 78,
   "id": "352d5f0e-f394-4c3d-9dac-c166aff67e6d",
   "metadata": {},
   "outputs": [
    {
     "name": "stdout",
     "output_type": "stream",
     "text": [
      "is\n",
      "You need Python\n",
      "Life is too short\n",
      "Life is too short, You need Python\n",
      "You need\n"
     ]
    }
   ],
   "source": [
    "a = \"Life is too short, You need Python\"\n",
    "print(a[5:7])\n",
    "print(a[19:])\n",
    "print(a[:17])\n",
    "print(a[:])\n",
    "print(a[19:-7])"
   ]
  },
  {
   "cell_type": "markdown",
   "id": "3c19a9ee-cc83-4e9f-b482-29905ffbd717",
   "metadata": {},
   "source": [
    "#### 슬라이싱으로 문자열나누기 (생략)"
   ]
  },
  {
   "cell_type": "markdown",
   "id": "1a543cf7-d6aa-41ad-83ce-e2b227c8eef3",
   "metadata": {},
   "source": [
    "#### 슬라이싱과 대입 *"
   ]
  },
  {
   "cell_type": "code",
   "execution_count": 88,
   "id": "8eee081a-bb8f-4427-ac5b-d5aa7a46a948",
   "metadata": {},
   "outputs": [
    {
     "name": "stdout",
     "output_type": "stream",
     "text": [
      "Pithon >> Python\n"
     ]
    }
   ],
   "source": [
    "a = \"Pithon\"\n",
    "# a[1:2] = 'y' # 문자열은 낱개로 변경불가능한 자료형.\n",
    "t = a[0] + 'y' + a[2:]\n",
    "print( a, '>>', t )"
   ]
  },
  {
   "attachments": {
    "6ad6e471-94fd-481c-82b9-895ddb9ec666.png": {
     "image/png": "[encoded data removed]"
    }
   },
   "cell_type": "markdown",
   "id": "b8801fe4-4bec-4e74-b61c-8650ee83a13e",
   "metadata": {},
   "source": [
    "<span style=\"color: orange; font-size: 1.2rem;\">문자열은 낱개로 변경불가능한 자료형.</span>  \n",
    "![image.png](attachment:6ad6e471-94fd-481c-82b9-895ddb9ec666.png)"
   ]
  },
  {
   "attachments": {},
   "cell_type": "markdown",
   "id": "0f31bd7c-8115-44a7-bab5-68f202fc2e12",
   "metadata": {},
   "source": [
    "### 문자열 포메팅\n",
    "  \n",
    "<table style=\"float:left; font-size: 1.2rem;\">\n",
    "    <thead>\n",
    "        <tr>\n",
    "            <th>코드</th>\n",
    "            <th>설명</th>\n",
    "        </tr>\n",
    "    </thead>\n",
    "    <tbody>\n",
    "        <tr>\n",
    "            <td>%s</td>\n",
    "            <td>문자열(String)</td>\n",
    "        </tr>\n",
    "        <tr>\n",
    "            <td>%c</td>\n",
    "            <td>문자 1개(character)</td>\n",
    "        </tr>\n",
    "        <tr>\n",
    "            <td>%d</td>\n",
    "            <td>정수(Integer)</td>\n",
    "        </tr>\n",
    "        <tr>\n",
    "            <td>%f</td>\n",
    "            <td>부동소수(floating-point)</td>\n",
    "        </tr>\n",
    "        <tr>\n",
    "            <td>%o</td>\n",
    "            <td>8진수</td>\n",
    "        </tr>\n",
    "        <tr>\n",
    "            <td>%x</td>\n",
    "            <td>16진수</td>\n",
    "        </tr>\n",
    "        <tr>\n",
    "            <td>%%</td>\n",
    "            <td>Literal % (문자 `%` 자체)</td>\n",
    "        </tr>\n",
    "    </tbody>\n",
    "</table>"
   ]
  },
  {
   "cell_type": "markdown",
   "id": "a4896866-58c9-4861-a066-c1b968e3f4dd",
   "metadata": {},
   "source": [
    "#### 숫자 바로 대입"
   ]
  },
  {
   "cell_type": "code",
   "execution_count": 105,
   "id": "7b115145-36e7-43fa-8aee-780801800237",
   "metadata": {},
   "outputs": [
    {
     "name": "stdout",
     "output_type": "stream",
     "text": [
      "I eat 3 apples.\n",
      "I eat five apples.\n",
      "1234 >> octal >> 2322, 1234 >> Hex >> 4d2\n",
      "%f는 3.141593처럼 소숫점을 담을 수 있는데, 단순히 %s는 3.141592처럼 문자열로 바꾸어 대입하기에 복잡하게 생각안해도 된다.\n"
     ]
    }
   ],
   "source": [
    "# import math << 반드시 집어넣기. 위에서 넣어서 생략.\n",
    "\n",
    "print(\"I eat %d apples.\" % 3)\n",
    "print(\"I eat %s apples.\" % \"five\")\n",
    "print(\"%d >> octal >> %o, 1234 >> Hex >> %x\" %(1234, 1234, 1234) )\n",
    "print(\"%%f는 %f처럼 소숫점을 담을 수 있는데, 단순히 %%s는 %.8s처럼 문자열로 바꾸어 대입하기에 복잡하게 생각안해도 된다.\" %(math.pi, math.pi))"
   ]
  },
  {
   "cell_type": "markdown",
   "id": "d5991a05-f32f-4f5f-bf25-1ede60069e60",
   "metadata": {},
   "source": [
    "- '%.8s' 같은 정렬 및 표현에 관해서는 다음 코너에.."
   ]
  },
  {
   "cell_type": "markdown",
   "id": "e13d55d4-8187-4aca-ac0b-cbaaf65e9189",
   "metadata": {},
   "source": [
    "### 포맷코드와 숫자 함께 사용하기"
   ]
  },
  {
   "attachments": {
    "8cd68d0e-ba3a-41ce-b160-2b2121c6b24a.png": {
     "image/png": "[encoded data removed]"
    }
   },
   "cell_type": "markdown",
   "id": "2951bac9-3abe-43e5-be57-1a18f03c4597",
   "metadata": {},
   "source": [
    "#### 정렬과 공백\n",
    "오른쪽 정렬\n",
    "\n",
    "![image.png](attachment:8cd68d0e-ba3a-41ce-b160-2b2121c6b24a.png)  "
   ]
  },
  {
   "attachments": {
    "be0b811e-f6c8-4595-a894-94f48ba01d6c.png": {
     "image/png": "[encoded data removed]"
    }
   },
   "cell_type": "markdown",
   "id": "31243483-9c81-4272-9929-c57f45e99561",
   "metadata": {},
   "source": [
    "왼쪽 정렬\n",
    "\n",
    "![image.png](attachment:be0b811e-f6c8-4595-a894-94f48ba01d6c.png)"
   ]
  },
  {
   "cell_type": "code",
   "execution_count": 102,
   "id": "e17aa565-eb5d-4102-b4d4-b4d76ae70995",
   "metadata": {},
   "outputs": [
    {
     "name": "stdout",
     "output_type": "stream",
     "text": [
      "        hi\n"
     ]
    }
   ],
   "source": [
    "print(\"%10s\" % \"hi\")"
   ]
  },
  {
   "cell_type": "code",
   "execution_count": 103,
   "id": "0f8ee2b6-0870-40fc-a624-75070e593a82",
   "metadata": {},
   "outputs": [
    {
     "name": "stdout",
     "output_type": "stream",
     "text": [
      "hi        jane\n"
     ]
    }
   ],
   "source": [
    "print(\"%-10sjane\" % \"hi\")"
   ]
  },
  {
   "attachments": {
    "f4229b2e-c981-4cc3-bba1-8d8dc35f2c86.png": {
     "image/png": "[encoded data removed]"
    }
   },
   "cell_type": "markdown",
   "id": "9d448649-712b-4f0b-92b3-4340aef91b42",
   "metadata": {},
   "source": [
    "#### 소수점 표현하기\n",
    "\n",
    "![image.png](attachment:f4229b2e-c981-4cc3-bba1-8d8dc35f2c86.png)"
   ]
  },
  {
   "cell_type": "code",
   "execution_count": 111,
   "id": "51c1eedf-aea7-4c5b-9f83-3ba321c975ba",
   "metadata": {},
   "outputs": [
    {
     "name": "stdout",
     "output_type": "stream",
     "text": [
      "3.1416\n",
      "    3.1416math pi\n",
      "3.1416    pi\n"
     ]
    }
   ],
   "source": [
    "# import math\n",
    "\n",
    "print(\"%0.4f\" %math.pi)\n",
    "print(\"%10.4fmath pi\" %math.pi)\n",
    "print(\"%-10.4fpi\" %math.pi)"
   ]
  },
  {
   "cell_type": "markdown",
   "id": "5f6bb5cf-6dd3-43c2-be67-dbf28344fff8",
   "metadata": {},
   "source": [
    "### format 함수를 사용한 포매팅"
   ]
  },
  {
   "cell_type": "markdown",
   "id": "c5ca20c9-ab07-4bb7-99c7-0811247a5dd1",
   "metadata": {},
   "source": [
    "#### 숫자바로대입하기"
   ]
  },
  {
   "cell_type": "code",
   "execution_count": 2,
   "id": "44ced318-93ad-4093-a331-f6b62dd849f8",
   "metadata": {},
   "outputs": [
    {
     "name": "stdout",
     "output_type": "stream",
     "text": [
      "I eat 1004's 777EA apples\n"
     ]
    }
   ],
   "source": [
    "a = \"I eat {0}'s {1}EA apples\".format(1004, 777)\n",
    "print(a)"
   ]
  },
  {
   "cell_type": "markdown",
   "id": "3d8abb54-6062-44e9-9a38-02bfed76d76d",
   "metadata": {},
   "source": [
    "#### 숫자 값을 가진 변수로 대입하기"
   ]
  },
  {
   "cell_type": "code",
   "execution_count": 4,
   "id": "120473f6-032b-4b34-a22e-5e63088eaa12",
   "metadata": {},
   "outputs": [
    {
     "name": "stdout",
     "output_type": "stream",
     "text": [
      "I eat 1004's 777EA apples\n"
     ]
    }
   ],
   "source": [
    "a = 1004\n",
    "b = 777\n",
    "c = \"I eat {0}'s {1}EA apples\".format(a, b)\n",
    "print(c)"
   ]
  },
  {
   "cell_type": "markdown",
   "id": "63230097-72ed-46a1-b2eb-e7fc649830bc",
   "metadata": {},
   "source": [
    "#### 2개 이상의 값 넣기"
   ]
  },
  {
   "cell_type": "code",
   "execution_count": 5,
   "id": "25b478fb-f442-4981-864d-135c94e336c6",
   "metadata": {},
   "outputs": [
    {
     "data": {
      "text/plain": [
       "'I ate 10 apples. so I was sick for three days.'"
      ]
     },
     "execution_count": 5,
     "metadata": {},
     "output_type": "execute_result"
    }
   ],
   "source": [
    "n = 10\n",
    "day = \"three\"\n",
    "\"I ate {0} apples. so I was sick for {1} days.\".format(n, day)"
   ]
  },
  {
   "cell_type": "markdown",
   "id": "74ffd8d6-ef38-48e4-9b85-319107cd5de7",
   "metadata": {},
   "source": [
    "#### 이름으로 넣기"
   ]
  },
  {
   "cell_type": "code",
   "execution_count": 6,
   "id": "86cfc1be-5364-40de-ae4e-86df2e4a1142",
   "metadata": {},
   "outputs": [
    {
     "data": {
      "text/plain": [
       "'I ate 10 apples. so I was sick for 3 days.'"
      ]
     },
     "execution_count": 6,
     "metadata": {},
     "output_type": "execute_result"
    }
   ],
   "source": [
    "\"I ate {n} apples. so I was sick for {day} days.\".format(n=10, day=3)"
   ]
  },
  {
   "cell_type": "markdown",
   "id": "5e7204bf-06f5-4e79-9827-dc8aad4a2350",
   "metadata": {},
   "source": [
    "#### 인덱스와 이름을 혼용해서 넣기"
   ]
  },
  {
   "cell_type": "code",
   "execution_count": 7,
   "id": "e8210341-e606-4f59-ada1-8968ef8502e8",
   "metadata": {},
   "outputs": [
    {
     "data": {
      "text/plain": [
       "'I ate 10 apples. so I was sick for 3 days.'"
      ]
     },
     "execution_count": 7,
     "metadata": {},
     "output_type": "execute_result"
    }
   ],
   "source": [
    "\"I ate {0} apples. so I was sick for {day} days.\".format(10, day=3)"
   ]
  },
  {
   "cell_type": "markdown",
   "id": "fbecb564-1196-45da-9cd0-68600fe08a0c",
   "metadata": {},
   "source": [
    "#### 좌우 중앙 정렬"
   ]
  },
  {
   "cell_type": "code",
   "execution_count": 12,
   "id": "822b3eae-4740-40c1-86be-64409a0a878c",
   "metadata": {},
   "outputs": [
    {
     "data": {
      "text/plain": [
       "'hi        '"
      ]
     },
     "execution_count": 12,
     "metadata": {},
     "output_type": "execute_result"
    }
   ],
   "source": [
    "\"{0:<10}\".format(\"hi\") # 왼쪽\n"
   ]
  },
  {
   "cell_type": "code",
   "execution_count": 9,
   "id": "bcb3b57d-635d-45b0-81e1-1d4e649c7a4b",
   "metadata": {},
   "outputs": [
    {
     "data": {
      "text/plain": [
       "'        hi'"
      ]
     },
     "execution_count": 9,
     "metadata": {},
     "output_type": "execute_result"
    }
   ],
   "source": [
    "\"{0:>10}\".format(\"hi\") # 오른쪽"
   ]
  },
  {
   "cell_type": "code",
   "execution_count": 10,
   "id": "22fe5c64-7149-41b0-bd0c-f5043254ecb4",
   "metadata": {},
   "outputs": [
    {
     "data": {
      "text/plain": [
       "'    hi    '"
      ]
     },
     "execution_count": 10,
     "metadata": {},
     "output_type": "execute_result"
    }
   ],
   "source": [
    "\"{0:^10}\".format(\"hi\") # 중앙"
   ]
  },
  {
   "cell_type": "markdown",
   "id": "1dded8b5-2f71-49c4-b0e6-f35fb0894ff9",
   "metadata": {},
   "source": [
    "#### 공백 채우기"
   ]
  },
  {
   "cell_type": "code",
   "execution_count": 13,
   "id": "384eb9a7-6957-40f8-b4ee-187b11e00777",
   "metadata": {},
   "outputs": [
    {
     "data": {
      "text/plain": [
       "'====hi===='"
      ]
     },
     "execution_count": 13,
     "metadata": {},
     "output_type": "execute_result"
    }
   ],
   "source": [
    "\"{0:=^10}\".format(\"hi\")"
   ]
  },
  {
   "cell_type": "code",
   "execution_count": 14,
   "id": "e2581014-3f25-4073-85f5-0027226e0410",
   "metadata": {},
   "outputs": [
    {
     "data": {
      "text/plain": [
       "'hi!!!!!!!!'"
      ]
     },
     "execution_count": 14,
     "metadata": {},
     "output_type": "execute_result"
    }
   ],
   "source": [
    "\"{0:!<10}\".format(\"hi\")"
   ]
  },
  {
   "cell_type": "markdown",
   "id": "70701809-69b9-4883-a574-f9f520ee3e0e",
   "metadata": {},
   "source": [
    "#### 소수점 표현"
   ]
  },
  {
   "cell_type": "code",
   "execution_count": 17,
   "id": "80cc0aa8-bcec-41c8-a883-e8055b9f4cb7",
   "metadata": {},
   "outputs": [],
   "source": [
    "a = 3.42134234\n",
    "b = \"{0:x>10.4f}\".format(a)"
   ]
  },
  {
   "cell_type": "code",
   "execution_count": 18,
   "id": "76d80d54-257b-4e09-809a-e7edd0758132",
   "metadata": {},
   "outputs": [
    {
     "data": {
      "text/plain": [
       "'3.4213'"
      ]
     },
     "execution_count": 18,
     "metadata": {},
     "output_type": "execute_result"
    }
   ],
   "source": [
    " \"{0:0.4f}\".format(a)"
   ]
  },
  {
   "cell_type": "code",
   "execution_count": 19,
   "id": "f1a4a8d6-4d12-4819-94c1-b3520b9ea668",
   "metadata": {},
   "outputs": [
    {
     "name": "stdout",
     "output_type": "stream",
     "text": [
      "xxxx3.4213\n"
     ]
    }
   ],
   "source": [
    "print(b)"
   ]
  },
  {
   "cell_type": "markdown",
   "id": "bfad5ee0-5102-4299-8a79-eaa479c67770",
   "metadata": {},
   "source": [
    "#### { 또는 } 문자 표현"
   ]
  },
  {
   "cell_type": "code",
   "execution_count": 21,
   "id": "7443deba-8165-47ca-a41a-850f5d676f42",
   "metadata": {},
   "outputs": [
    {
     "name": "stdout",
     "output_type": "stream",
     "text": [
      "{ and } { and }\n"
     ]
    }
   ],
   "source": [
    "a = \"{{ and }}\".format()\n",
    "b = '{ and }'\n",
    "print(a, b)"
   ]
  },
  {
   "cell_type": "markdown",
   "id": "545a6d9f-529d-425f-acc0-9823eb6edbff",
   "metadata": {},
   "source": [
    "### <strong>f 문자열 포매팅</strong>\n",
    "- 3.6버전 이상만 가능"
   ]
  },
  {
   "cell_type": "code",
   "execution_count": 38,
   "id": "41841920-593d-4e52-89cf-6642ca525d24",
   "metadata": {},
   "outputs": [
    {
     "name": "stdout",
     "output_type": "stream",
     "text": [
      "이름은 nnn, 나이는 30\n",
      "\n",
      "이름은 nnn, 나이는 31\n",
      "\n",
      "이름은 super, 나이는 1300\n",
      "\n",
      "===nnn====\n",
      "====hi====\n"
     ]
    }
   ],
   "source": [
    "n = 'nnn'\n",
    "age = 30\n",
    "dic = {'n': 'super', 'age': 1300}\n",
    "print(f'이름은 {n}, 나이는 {age}\\n')\n",
    "print(f'이름은 {n}, 나이는 {age + 1}\\n')\n",
    "# dic = {n: 'super', age: 1300}\n",
    "# print(f'이름은 {dic[n]}, 나이는 {dic[age]}\\n') # 변수가 정의되지 않으면 못씀;;\n",
    "print(f'이름은 {dic[\"n\"]}, 나이는 {dic[\"age\"]}\\n')\n",
    "print(f'{n:=^10}')\n",
    "print(f'{\"hi\":=^10}')\n",
    "# ========== 위에 한 내용이므로 생략 =========="
   ]
  },
  {
   "cell_type": "code",
   "execution_count": 40,
   "id": "25267d90-c6e8-4d71-b90c-f4335aa55114",
   "metadata": {},
   "outputs": [
    {
     "name": "stdout",
     "output_type": "stream",
     "text": [
      "xxxx3.1416\n",
      "{ and }\n"
     ]
    }
   ],
   "source": [
    "# 생략이나.. 걍 진행.\n",
    "a = math.pi\n",
    "b = \"{ and }\"\n",
    "c = f'{a:x>10.4f}'\n",
    "d = f'{ b }'\n",
    "print(c)\n",
    "print(d)"
   ]
  },
  {
   "cell_type": "markdown",
   "id": "7315f89f-b8d5-46ba-8bdf-585bd80a0c1e",
   "metadata": {},
   "source": [
    "### 문자열 관련 함수들"
   ]
  },
  {
   "cell_type": "markdown",
   "id": "2873be7a-8c4c-4ed9-9bd9-a6cc535ace11",
   "metadata": {},
   "source": [
    "#### 문자 개수 세기 - count"
   ]
  },
  {
   "cell_type": "code",
   "execution_count": 44,
   "id": "f14ab6c0-b170-4837-ad9a-a5203ac55a55",
   "metadata": {},
   "outputs": [
    {
     "name": "stdout",
     "output_type": "stream",
     "text": [
      "'coffee' is 'f' count :  2\n"
     ]
    }
   ],
   "source": [
    "a = 'coffee'\n",
    "print('\\'coffee\\' is \\'f\\' count : ', a.count('f'))"
   ]
  },
  {
   "cell_type": "code",
   "execution_count": null,
   "id": "0fbde2c6-5911-432b-bfe7-0b519014797b",
   "metadata": {
    "scrolled": true
   },
   "outputs": [],
   "source": [
    "dir(a) \n",
    "dir(str) # 넘어가기..;;"
   ]
  },
  {
   "cell_type": "markdown",
   "id": "a7478840-ca11-483b-bcc3-f8dde555069b",
   "metadata": {},
   "source": [
    "#### 위치 알려 주기 1 - find\n",
    "- 문자열만 사용가능"
   ]
  },
  {
   "cell_type": "code",
   "execution_count": 67,
   "id": "bcfd3e59-e9a2-4f82-8c25-0ff91ddfa711",
   "metadata": {},
   "outputs": [
    {
     "name": "stdout",
     "output_type": "stream",
     "text": [
      "12\n",
      "5\n",
      "10\n"
     ]
    }
   ],
   "source": [
    " a = 'Milk Tea is the best choice in winter'\n",
    "print(a.find('t'))\n",
    "print(a.find('T'))\n",
    "print(a.find('s'))"
   ]
  },
  {
   "cell_type": "code",
   "execution_count": 71,
   "id": "4ca14f12-a85a-4cd6-809b-bd237aa03aee",
   "metadata": {},
   "outputs": [
    {
     "name": "stdin",
     "output_type": "stream",
     "text": [
      " w\n"
     ]
    },
    {
     "name": "stdout",
     "output_type": "stream",
     "text": [
      "yes 31 st\n"
     ]
    }
   ],
   "source": [
    "say = input()\n",
    "if -1 != a.find(say):\n",
    "    print('yes', a.find(say), 'st')\n",
    "else:\n",
    "    print('no!!')"
   ]
  },
  {
   "cell_type": "markdown",
   "id": "37da12cb-adb3-4852-bdfd-87f5c0276d6a",
   "metadata": {},
   "source": [
    "#### 위치 알려 주기 2 - index\n",
    "- 문자열 이외에 리스트와 튜플 자료형에도 사용가능.\n",
    "- 딕셔너리는 안됨;;"
   ]
  },
  {
   "cell_type": "code",
   "execution_count": 74,
   "id": "49c9f5d4-8925-4c9b-be47-9197b048cb2f",
   "metadata": {},
   "outputs": [
    {
     "name": "stdout",
     "output_type": "stream",
     "text": [
      "16\n"
     ]
    }
   ],
   "source": [
    "a = 'Milk Tea is the best choice in winter'\n",
    "print(a.index('b'))\n",
    "# print(a.index('q')) # 없으면 에러."
   ]
  },
  {
   "cell_type": "markdown",
   "id": "bc4f91d6-aeb3-41ee-a0fb-9c5a5220e4e8",
   "metadata": {},
   "source": [
    "#### 문자열 삽입 - join *"
   ]
  },
  {
   "cell_type": "code",
   "execution_count": 79,
   "id": "4122d838-5601-4642-a9cd-9798366f9a0a",
   "metadata": {},
   "outputs": [
    {
     "name": "stdout",
     "output_type": "stream",
     "text": [
      "a,b,c,d,e,f,g\n",
      "apple-orange-kiwi-melon-pear-banana\n"
     ]
    }
   ],
   "source": [
    "str = \"abcdefg\"\n",
    "arr = ['apple', 'orange', 'kiwi', 'melon', 'pear', 'banana']\n",
    "print(\",\".join(str))\n",
    "print(\"-\".join(arr))"
   ]
  },
  {
   "cell_type": "markdown",
   "id": "9de096f9-518e-4193-b2e4-a0234c483e39",
   "metadata": {},
   "source": [
    "#### 소문자 > 대문자, 대문자 > 소문자\n",
    "- 소 > 대 : upper\n",
    "- 대 > 소 : lower"
   ]
  },
  {
   "cell_type": "code",
   "execution_count": 80,
   "id": "d67860b2-7b86-49c0-975d-7bb216fde8c4",
   "metadata": {},
   "outputs": [
    {
     "data": {
      "text/plain": [
       "'CREATE'"
      ]
     },
     "execution_count": 80,
     "metadata": {},
     "output_type": "execute_result"
    }
   ],
   "source": [
    "a = 'create'\n",
    "a.upper()"
   ]
  },
  {
   "cell_type": "code",
   "execution_count": 81,
   "id": "ad2d0888-56a5-4fbb-b7fe-ce17a8c54bc9",
   "metadata": {},
   "outputs": [
    {
     "data": {
      "text/plain": [
       "'alter'"
      ]
     },
     "execution_count": 81,
     "metadata": {},
     "output_type": "execute_result"
    }
   ],
   "source": [
    "b = 'ALTER'\n",
    "b.lower()"
   ]
  },
  {
   "cell_type": "markdown",
   "id": "ab5e11ff-301b-4bd7-9693-5367cba15cb7",
   "metadata": {},
   "source": [
    "#### 공백제거\n",
    "- 왼쪽 공백 > lstrip\n",
    "- 오른쪽 공백 > rstrip\n",
    "- 양쪽 공백 > strip *"
   ]
  },
  {
   "cell_type": "code",
   "execution_count": 84,
   "id": "6ef3a5c9-ef1e-4250-9735-83171af5a2bb",
   "metadata": {},
   "outputs": [
    {
     "name": "stdout",
     "output_type": "stream",
     "text": [
      "hi\n",
      "        hi\n"
     ]
    }
   ],
   "source": [
    "a = \"{0:>10}\".format(\"hi\")\n",
    "print(a.lstrip())\n",
    "print(a.rstrip())"
   ]
  },
  {
   "cell_type": "code",
   "execution_count": 85,
   "id": "86ede11b-3eb5-4734-a62a-03fd99e156dd",
   "metadata": {},
   "outputs": [
    {
     "name": "stdout",
     "output_type": "stream",
     "text": [
      "hi        \n",
      "hi\n"
     ]
    }
   ],
   "source": [
    "b = \"{0:<10}\".format(\"hi\")\n",
    "print(b.lstrip())\n",
    "print(b.rstrip())"
   ]
  },
  {
   "cell_type": "code",
   "execution_count": 97,
   "id": "d943c824-67d1-43e8-b927-0018fcc2f5c0",
   "metadata": {},
   "outputs": [
    {
     "name": "stdout",
     "output_type": "stream",
     "text": [
      "    hi    \n",
      "hi\n"
     ]
    }
   ],
   "source": [
    "c = \"{0:^10}\".format(\"hi\")\n",
    "print(c)\n",
    "print(c.strip())"
   ]
  },
  {
   "cell_type": "code",
   "execution_count": 99,
   "id": "4a317088-7533-4e1b-b233-feae8e08655e",
   "metadata": {},
   "outputs": [
    {
     "name": "stdout",
     "output_type": "stream",
     "text": [
      "xxxxhixxxx\n",
      "hi\n"
     ]
    }
   ],
   "source": [
    "c = \"{0:x^10}\".format(\"hi\")\n",
    "print(c)\n",
    "print(c.strip('x'))"
   ]
  },
  {
   "cell_type": "markdown",
   "id": "14b2d244-3e03-4f00-b398-85b092e1b7bb",
   "metadata": {},
   "source": [
    "#### 문자열 바꾸기 - replace **"
   ]
  },
  {
   "cell_type": "code",
   "execution_count": 89,
   "id": "9ffc1981-ae93-4c89-bb71-0f8eadffab91",
   "metadata": {},
   "outputs": [
    {
     "name": "stdout",
     "output_type": "stream",
     "text": [
      "Life is too short\n",
      "Your stick is too short\n"
     ]
    }
   ],
   "source": [
    "a = \"Life is too short\"\n",
    "print(a)\n",
    "b = a.replace(\"Life\", \"Your stick\")\n",
    "print(b)"
   ]
  },
  {
   "cell_type": "markdown",
   "id": "67900cd1-8f93-4fc1-a5e0-b848774781c5",
   "metadata": {},
   "source": [
    "#### 문자열 나누기 - split **\n",
    "- 문자열을 배열로\n",
    "- 기준은 설정에 따라.."
   ]
  },
  {
   "cell_type": "code",
   "execution_count": 92,
   "id": "ff6ac9c7-7c03-490a-b869-310f979e7f4f",
   "metadata": {},
   "outputs": [
    {
     "name": "stdout",
     "output_type": "stream",
     "text": [
      "['Your', 'stick', 'is', 'too', 'short']\n"
     ]
    }
   ],
   "source": [
    "print(b.split())"
   ]
  },
  {
   "cell_type": "code",
   "execution_count": 96,
   "id": "ef81328d-758f-4954-af73-f7ab61672116",
   "metadata": {},
   "outputs": [
    {
     "name": "stdout",
     "output_type": "stream",
     "text": [
      "['', 'home', 'pi01', 'py_test', 'py_data', 'Lec']\n"
     ]
    }
   ],
   "source": [
    "path = os.getcwd()\n",
    "parr = path.split('/')\n",
    "print(parr)"
   ]
  },
  {
   "cell_type": "code",
   "execution_count": 3,
   "id": "1994cb6b-cbe4-4df5-8d89-2b4678dcaf51",
   "metadata": {},
   "outputs": [
    {
     "name": "stdout",
     "output_type": "stream",
     "text": [
      "MilkTeaisthebestchoiceinwinter\n",
      "M*i*l*k*T*e*a*i*s*t*h*e*b*e*s*t*c*h*o*i*c*e*i*n*w*i*n*t*e*r\n",
      "['M', 'i', 'l', 'k', 'T', 'e', 'a', 'i', 's', 't', 'h', 'e', 'b', 'e', 's', 't', 'c', 'h', 'o', 'i', 'c', 'e', 'i', 'n', 'w', 'i', 'n', 't', 'e', 'r']\n"
     ]
    }
   ],
   "source": [
    "# 이렇게 응용 가능.\n",
    "s = 'Milk Tea is the best choice in winter'\n",
    "n1 = s.replace(' ', '')\n",
    "print(n1)\n",
    "n2 = \"*\".join(n1)\n",
    "print(n2)\n",
    "n3 = n2.split('*')\n",
    "print(n3)"
   ]
  },
  {
   "cell_type": "markdown",
   "id": "b4311479-d7c3-4750-a82c-265f32a687ec",
   "metadata": {},
   "source": [
    "## 리스트 자료형"
   ]
  },
  {
   "cell_type": "markdown",
   "id": "a9a1aa56-832c-48bb-a732-f2c3e8e7ab44",
   "metadata": {},
   "source": [
    "### 리스트 표현"
   ]
  },
  {
   "cell_type": "code",
   "execution_count": 110,
   "id": "f8f74c69-b9af-46bf-888c-ef0e9d235a95",
   "metadata": {},
   "outputs": [],
   "source": [
    "odd = [1,3,5,7,9]\n",
    "even = [2,4,6,8,10]"
   ]
  },
  {
   "cell_type": "markdown",
   "id": "c633059f-bfff-4bc4-a003-af22026c0e51",
   "metadata": {},
   "source": [
    "### 리스트의 인덱싱과 슬라이싱"
   ]
  },
  {
   "cell_type": "markdown",
   "id": "23e1e540-981e-4c27-9834-125155f64696",
   "metadata": {},
   "source": [
    "#### 리스트의 인덱싱"
   ]
  },
  {
   "cell_type": "code",
   "execution_count": 116,
   "id": "f5a86f1f-7807-4796-b46b-66fd8d85785a",
   "metadata": {},
   "outputs": [
    {
     "name": "stdout",
     "output_type": "stream",
     "text": [
      "1\n",
      "['a', 'b', 'c']\n",
      "b\n"
     ]
    }
   ],
   "source": [
    "a=[1, 2, 3, ['a', 'b', 'c']]\n",
    "print(a[0])\n",
    "print(a[-1])\n",
    "print(a[-1][1])"
   ]
  },
  {
   "cell_type": "markdown",
   "id": "53a94cd4-c25a-4cb9-877f-d7c60ca2ccd5",
   "metadata": {},
   "source": [
    "#### 리스트의 슬라이싱 *"
   ]
  },
  {
   "cell_type": "code",
   "execution_count": 122,
   "id": "77f6f279-c9f7-479a-80ea-a1a98f2657b5",
   "metadata": {},
   "outputs": [
    {
     "data": {
      "text/plain": [
       "[1, 2, 3, 4, 5, 6, 7, 8, 9]"
      ]
     },
     "execution_count": 122,
     "metadata": {},
     "output_type": "execute_result"
    }
   ],
   "source": [
    "a = [1, 2, 3, 4, 5, 6, 7, 8, 9]\n",
    "a"
   ]
  },
  {
   "cell_type": "code",
   "execution_count": 132,
   "id": "fc567c74-e931-4c36-913e-66d3797cda5b",
   "metadata": {},
   "outputs": [
    {
     "name": "stdout",
     "output_type": "stream",
     "text": [
      "[0, 1, 2, 3, 4, 5, 6, 7, 8, 9]\n",
      "[0, 1, 2]\n",
      "[3, 4, 5, 6, 7, 8, 9]\n"
     ]
    }
   ],
   "source": [
    "a = np.arange(10).tolist()\n",
    "print(a[:])\n",
    "print(a[:3])\n",
    "print(a[3:])"
   ]
  },
  {
   "cell_type": "code",
   "execution_count": 134,
   "id": "5b2d6fc6-d487-4063-af90-2ef907c79d0a",
   "metadata": {},
   "outputs": [
    {
     "name": "stdout",
     "output_type": "stream",
     "text": [
      "['a', 'b', 'c']\n",
      "[3, ['a', 'b', 'c'], 4]\n",
      "['a', 'b']\n"
     ]
    }
   ],
   "source": [
    "b=[1, 2, 3, ['a', 'b', 'c'], 4, 5]\n",
    "print(b[-3])\n",
    "print(b[2:5])\n",
    "print(b[-3][:2])"
   ]
  },
  {
   "cell_type": "markdown",
   "id": "92473f74-ead1-43bd-bdf5-74bfffcf685d",
   "metadata": {},
   "source": [
    "### 리스트 연산하기"
   ]
  },
  {
   "cell_type": "markdown",
   "id": "7281b834-1a65-49b4-bf94-6f9565d4d1e6",
   "metadata": {},
   "source": [
    "#### 리스트 더하기(+)"
   ]
  },
  {
   "cell_type": "code",
   "execution_count": 141,
   "id": "e2dc2fb0-3bcb-4111-82fe-a85162e62f94",
   "metadata": {},
   "outputs": [
    {
     "name": "stdout",
     "output_type": "stream",
     "text": [
      "[1, 2, 3, 4, 5, 6]\n"
     ]
    }
   ],
   "source": [
    "a = np.arange(1, 4).tolist()\n",
    "b = np.arange(4, 7).tolist()\n",
    "print(a + b)"
   ]
  },
  {
   "cell_type": "markdown",
   "id": "4532e93e-4788-4d97-b00f-601d45c8730e",
   "metadata": {},
   "source": [
    "#### 리스트 반복하기(*)"
   ]
  },
  {
   "cell_type": "code",
   "execution_count": 143,
   "id": "025dfab3-ef5c-42a2-a303-831fab3fc596",
   "metadata": {},
   "outputs": [
    {
     "name": "stdout",
     "output_type": "stream",
     "text": [
      "[1, 2, 3, 1, 2, 3, 1, 2, 3]\n",
      "[1, 2, 3, 1, 2, 3, 1, 2, 3, 1, 2, 3, 1, 2, 3]\n"
     ]
    }
   ],
   "source": [
    "print(a * 3) # [1, 2, 3] * 3\n",
    "c = a * 5\n",
    "print(c)"
   ]
  },
  {
   "cell_type": "markdown",
   "id": "cabc34cb-68e0-44b9-867c-4a100a9b6d4a",
   "metadata": {},
   "source": [
    "#### 리스트 길이 구하기"
   ]
  },
  {
   "cell_type": "code",
   "execution_count": 2,
   "id": "98ef1840-d97d-4719-b168-88e88496b3cb",
   "metadata": {},
   "outputs": [
    {
     "name": "stdout",
     "output_type": "stream",
     "text": [
      "7 91\n",
      "4개\n",
      "4개\n"
     ]
    }
   ],
   "source": [
    "a = np.arange(1, 8).tolist()\n",
    "b = a * 13\n",
    "print(len(a), len(b))\n",
    "print(f'{a[3]}개')\n",
    "print(str(a[3])+'개')"
   ]
  },
  {
   "cell_type": "markdown",
   "id": "877d30ea-9db5-43c4-9546-7c9b33aef25e",
   "metadata": {},
   "source": [
    "### 리스트의 수정과 삭제"
   ]
  },
  {
   "cell_type": "markdown",
   "id": "997fb27d-da6d-497a-81ae-4d2d232be4aa",
   "metadata": {},
   "source": [
    "#### 리스트의 값 수정하기"
   ]
  },
  {
   "cell_type": "code",
   "execution_count": 4,
   "id": "9b21db96-9f69-4a8d-952a-0a989b2cbe06",
   "metadata": {},
   "outputs": [
    {
     "name": "stdout",
     "output_type": "stream",
     "text": [
      "[1, 2, 4]\n"
     ]
    }
   ],
   "source": [
    "a = [1, 2, 3]\n",
    "a[2] = 4\n",
    "print(a)"
   ]
  },
  {
   "cell_type": "markdown",
   "id": "bc1b0ec5-4e98-4f81-a385-1fd58e97c34c",
   "metadata": {},
   "source": [
    "#### del 함수를 사용해 리스트 요소 삭제하기"
   ]
  },
  {
   "cell_type": "code",
   "execution_count": 6,
   "id": "69c3de4f-480e-49dd-934d-193c618a4f18",
   "metadata": {},
   "outputs": [
    {
     "name": "stdout",
     "output_type": "stream",
     "text": [
      "[1, 3]\n"
     ]
    }
   ],
   "source": [
    "a = [1, 2, 3]\n",
    "del(a[1])\n",
    "print(a)"
   ]
  },
  {
   "cell_type": "markdown",
   "id": "0237274b-28bf-4b72-b9fc-4978e2695ad2",
   "metadata": {},
   "source": [
    "### 리스트 관련 함수 **"
   ]
  },
  {
   "cell_type": "markdown",
   "id": "9a216d70-aa0b-407c-91af-acf722e25a2b",
   "metadata": {},
   "source": [
    "#### 요소 추가하기 - append"
   ]
  },
  {
   "cell_type": "code",
   "execution_count": 12,
   "id": "d224ea17-7f52-4a5e-8950-fb97faf90345",
   "metadata": {},
   "outputs": [
    {
     "name": "stdout",
     "output_type": "stream",
     "text": [
      "[1, 2, 3, 4]\n",
      "[1, 2, 3, 4, [22, 11, 33]]\n"
     ]
    }
   ],
   "source": [
    "a = np.arange(1, 4).tolist()\n",
    "a.append(4)\n",
    "print(a)\n",
    "a.append([22, 11, 33])\n",
    "print(a)"
   ]
  },
  {
   "cell_type": "markdown",
   "id": "d222015f-37f0-48b0-a417-6f9df3d960c2",
   "metadata": {},
   "source": [
    "#### 리스트 정렬 - sort\n",
    "- 얘는 타입이 한종류로만 들어가야함.\n",
    "- 즉 타입이 모두 같은 배열이어야 기능이 작동함."
   ]
  },
  {
   "cell_type": "code",
   "execution_count": 13,
   "id": "c54a1651-e4b8-4f90-84ce-b277bf66d8c2",
   "metadata": {},
   "outputs": [
    {
     "name": "stdout",
     "output_type": "stream",
     "text": [
      "[1, 2, 3, 4]\n"
     ]
    }
   ],
   "source": [
    "a = [1, 3, 4, 2]\n",
    "a.sort()\n",
    "print(a)"
   ]
  },
  {
   "cell_type": "markdown",
   "id": "5b6aad20-708a-4207-8c06-e38e39cd02d4",
   "metadata": {},
   "source": [
    "#### 리스트 뒤집기 - reverse"
   ]
  },
  {
   "cell_type": "code",
   "execution_count": 14,
   "id": "6f09f43d-013f-4e61-929d-9efecae9f6a5",
   "metadata": {},
   "outputs": [
    {
     "name": "stdout",
     "output_type": "stream",
     "text": [
      "[4, 3, 2, 1]\n"
     ]
    }
   ],
   "source": [
    "a.reverse()\n",
    "print(a)"
   ]
  },
  {
   "cell_type": "code",
   "execution_count": 21,
   "id": "964ac6ef-f7ae-4982-9cc9-786ab785673c",
   "metadata": {},
   "outputs": [
    {
     "name": "stdout",
     "output_type": "stream",
     "text": [
      "[10, 6, 5, 3, 2, 1, 0]\n"
     ]
    }
   ],
   "source": [
    "# 만일 여러 난잡한 순의 숫자배열을 역순까지 정렬하려한다면..\n",
    "# sort -> reverse -> print 이와 같은 순서로 진행하면됨.\n",
    "a = [1, 5, 2, 10, 3, 0, 6]\n",
    "a.sort()\n",
    "a.reverse()\n",
    "print(a)"
   ]
  },
  {
   "cell_type": "markdown",
   "id": "3ca4ec2a-e38c-4724-ab2d-6151b8da001e",
   "metadata": {},
   "source": [
    "#### 인덱스 반환 - index\n",
    "- 위 index와 마찬가지로 없으면 에러."
   ]
  },
  {
   "cell_type": "code",
   "execution_count": 19,
   "id": "776e8a49-3b14-41fa-afcd-4a8958f5c12c",
   "metadata": {},
   "outputs": [
    {
     "name": "stdout",
     "output_type": "stream",
     "text": [
      "[4, 3, 2, 1]\n",
      "1\n",
      "3\n"
     ]
    }
   ],
   "source": [
    "print(a)\n",
    "print(a.index(3))\n",
    "print(a.index(1))"
   ]
  },
  {
   "cell_type": "markdown",
   "id": "06b01e1e-b084-457e-891f-477e58c4e0b7",
   "metadata": {},
   "source": [
    "#### 리스트에 요소 삽입 - insert *"
   ]
  },
  {
   "cell_type": "code",
   "execution_count": 31,
   "id": "f84fd202-28ec-48f1-b207-2b4c6163fead",
   "metadata": {},
   "outputs": [
    {
     "name": "stdout",
     "output_type": "stream",
     "text": [
      "[4, 1, 2, 3]\n"
     ]
    }
   ],
   "source": [
    "a = [1, 2, 3]\n",
    "a.insert(0, 4)\n",
    "print(a)"
   ]
  },
  {
   "cell_type": "code",
   "execution_count": 32,
   "id": "f9b7f4db-484d-40fb-87b6-5bbfc16507da",
   "metadata": {},
   "outputs": [
    {
     "name": "stdout",
     "output_type": "stream",
     "text": [
      "[4, 1, 2, 5, 3]\n"
     ]
    }
   ],
   "source": [
    "a.insert(3, 5)\n",
    "print(a)"
   ]
  },
  {
   "cell_type": "code",
   "execution_count": 33,
   "id": "f8131835-a71c-4887-bcf9-5fe85b8b1ad8",
   "metadata": {},
   "outputs": [
    {
     "name": "stdout",
     "output_type": "stream",
     "text": [
      "[4, 1, 2, 5, 'a', 3]\n"
     ]
    }
   ],
   "source": [
    "a.insert(-1, 'a')\n",
    "print(a)"
   ]
  },
  {
   "cell_type": "markdown",
   "id": "b77691ad-4212-40ea-bfe5-3899fdc71d08",
   "metadata": {},
   "source": [
    "#### 리스트 요소 제거 - remove"
   ]
  },
  {
   "cell_type": "code",
   "execution_count": 34,
   "id": "2120c9a2-de0b-4ee0-8737-ee9f5550a9a5",
   "metadata": {},
   "outputs": [
    {
     "name": "stdout",
     "output_type": "stream",
     "text": [
      "[1, 2, 1, 2, 3]\n"
     ]
    }
   ],
   "source": [
    "a = np.arange(1, 4).tolist() * 2\n",
    "a.remove(3)\n",
    "print(a) # 첫번째 3만 제거."
   ]
  },
  {
   "cell_type": "markdown",
   "id": "a5ec0c9f-b11b-4a85-82e1-a34cfc4c103a",
   "metadata": {},
   "source": [
    "#### 리스트 요소 끄집어 내기 - pop\n",
    "- pop(index) 이렇게 빼내는.."
   ]
  },
  {
   "cell_type": "code",
   "execution_count": 35,
   "id": "6119c047-ca84-4bea-acf0-c8737e16b65e",
   "metadata": {},
   "outputs": [
    {
     "data": {
      "text/plain": [
       "[1, 2]"
      ]
     },
     "execution_count": 35,
     "metadata": {},
     "output_type": "execute_result"
    }
   ],
   "source": [
    "a = [1, 2, 3]\n",
    "a.pop()\n",
    "a"
   ]
  },
  {
   "cell_type": "code",
   "execution_count": 47,
   "id": "3ca6cc54-e0e2-4999-9b84-e9d5ac036790",
   "metadata": {},
   "outputs": [
    {
     "name": "stdout",
     "output_type": "stream",
     "text": [
      "[1, 3, 4]\n",
      "[1, 3]\n",
      "[1]\n"
     ]
    }
   ],
   "source": [
    "a = [1, 2, 3, 4]\n",
    "a.pop(1)\n",
    "print(a)\n",
    "a.pop(-1) # == a.pop()\n",
    "print(a)\n",
    "a.pop()\n",
    "print(a)"
   ]
  },
  {
   "cell_type": "code",
   "execution_count": 54,
   "id": "f78eef5a-b834-4aa2-bd96-91847663e19e",
   "metadata": {},
   "outputs": [
    {
     "name": "stdin",
     "output_type": "stream",
     "text": [
      "[1, 2, 3, 4, 5]중에 제거할 숫자의 인덱스 입력. 2\n"
     ]
    },
    {
     "name": "stdout",
     "output_type": "stream",
     "text": [
      "3를 꺼내면 [1, 2, 4, 5]가 됨.\n"
     ]
    }
   ],
   "source": [
    "a = np.arange(1, 6).tolist()\n",
    "ch = int(input(f'{a}중에 제거할 숫자의 인덱스 입력.'))\n",
    "if ch in a:\n",
    "    b = a.pop(ch)\n",
    "    print( f'{b}를 꺼내면 {a}가 됨.' )\n",
    "else:\n",
    "    print(f'{a}의 인덱스 범위내로 입력해주세요.')"
   ]
  },
  {
   "cell_type": "markdown",
   "id": "62349c4d-6027-4059-b02d-d0897562cd83",
   "metadata": {},
   "source": [
    "#### 리스트에 포함된 요소 x의 개수 세기 - count"
   ]
  },
  {
   "cell_type": "code",
   "execution_count": 44,
   "id": "bc029a17-35ba-4bda-9325-080f94ee7eb4",
   "metadata": {},
   "outputs": [
    {
     "name": "stdout",
     "output_type": "stream",
     "text": [
      "5\n"
     ]
    }
   ],
   "source": [
    "a = np.full(5, 1).tolist()\n",
    "print(a.count(1))\n"
   ]
  },
  {
   "cell_type": "markdown",
   "id": "13b1bb24-f4a0-46b7-ab2d-9d6c6be131c5",
   "metadata": {},
   "source": [
    "#### 리스트 확장 - extend\n",
    "- extend([]) 이 (...) 안에 리스트만 들어갈 수 있음."
   ]
  },
  {
   "cell_type": "code",
   "execution_count": 45,
   "id": "f412a019-3ca2-41c9-90d7-36ff06f774a4",
   "metadata": {},
   "outputs": [
    {
     "name": "stdout",
     "output_type": "stream",
     "text": [
      "[1, 2, 3, 11, 3]\n"
     ]
    }
   ],
   "source": [
    "a = [1, 2, 3]\n",
    "b = [11, 3]\n",
    "a.extend(b)\n",
    "print(a)"
   ]
  },
  {
   "cell_type": "markdown",
   "id": "dd3f449a-2466-4b5a-9788-c574a8f6e914",
   "metadata": {},
   "source": [
    "- 추후 리스트확장에서 문자+숫자 도전..(딱히..)"
   ]
  },
  {
   "cell_type": "code",
   "execution_count": 1,
   "id": "397af71e-d900-47ea-b8f6-5f20948966c7",
   "metadata": {},
   "outputs": [],
   "source": [
    "a = [1,2,3,4,5]\n",
    "# ..."
   ]
  },
  {
   "cell_type": "markdown",
   "id": "367efbfd-5eb3-4e9e-bc67-4163e7e61450",
   "metadata": {},
   "source": [
    "## 튜플 자료형\n",
    "- 간단하게 예시보여주기"
   ]
  },
  {
   "cell_type": "markdown",
   "id": "a47b32ca-fbf9-4b45-a478-1dde3af07c41",
   "metadata": {},
   "source": [
    "#### 튜플형식"
   ]
  },
  {
   "cell_type": "code",
   "execution_count": 3,
   "id": "3ee9c834-7d8f-47c2-b429-c7b5457be18c",
   "metadata": {},
   "outputs": [
    {
     "name": "stdout",
     "output_type": "stream",
     "text": [
      "() (1,) (1, 2, 3) (1, 2, 3) ('a', 'b', ('ab', 'cd'))\n"
     ]
    }
   ],
   "source": [
    "t1 = ()\n",
    "t2 = (1,) #*\n",
    "t3 = (1, 2, 3)\n",
    "t4 = 1,2,3 #*\n",
    "t5 = ('a','b',('ab', 'cd'))\n",
    "\n",
    "print(t1, t2, t3, t4, t5)"
   ]
  },
  {
   "cell_type": "markdown",
   "id": "01ec1f0b-9dde-4716-9cd2-fbe4076e1a87",
   "metadata": {},
   "source": [
    "### 튜플 삭제나 변경은?"
   ]
  },
  {
   "cell_type": "markdown",
   "id": "d913c308-36b6-48e4-91a9-78fd16e9fc86",
   "metadata": {},
   "source": [
    "#### 튜플 요소값 삭제?"
   ]
  },
  {
   "cell_type": "code",
   "execution_count": null,
   "id": "7fffb516-8957-4a44-a3fc-4b8ecab9b2fa",
   "metadata": {
    "scrolled": true
   },
   "outputs": [],
   "source": [
    "t1 = (1,2,'a','b')\n",
    "del t1[0]"
   ]
  },
  {
   "attachments": {
    "0de9aec2-6635-4d25-8231-ec63207c7902.png": {
     "image/png": "[encoded data removed]"
    }
   },
   "cell_type": "markdown",
   "id": "b89f1c3c-a5b2-4f5b-b032-92075f5bd1ad",
   "metadata": {},
   "source": [
    "![image.png](attachment:0de9aec2-6635-4d25-8231-ec63207c7902.png)"
   ]
  },
  {
   "cell_type": "markdown",
   "id": "7794b2af-9cd2-4c63-9837-343303251ddd",
   "metadata": {},
   "source": [
    "#### 튜플 요소값 변경?"
   ]
  },
  {
   "cell_type": "code",
   "execution_count": null,
   "id": "c0f41c96-c63c-4324-b11f-258a8f0f5067",
   "metadata": {
    "scrolled": true
   },
   "outputs": [],
   "source": [
    "# t1값은 위 셀에..\n",
    "t1[0] = 'c'"
   ]
  },
  {
   "attachments": {
    "f3dd42b8-7f12-499e-9234-5280310ca3bb.png": {
     "image/png": "[encoded data removed]"
    }
   },
   "cell_type": "markdown",
   "id": "db8f98f9-22e5-4240-b18c-1386bb44250d",
   "metadata": {},
   "source": [
    "![image.png](attachment:f3dd42b8-7f12-499e-9234-5280310ca3bb.png)"
   ]
  },
  {
   "cell_type": "markdown",
   "id": "3cfe299a-d3a8-43a2-ad81-994af4ef3b0f",
   "metadata": {},
   "source": [
    "### 튜플 다루기"
   ]
  },
  {
   "cell_type": "markdown",
   "id": "0cc04529-5763-49f1-b684-4e7bd5e46ad1",
   "metadata": {},
   "source": [
    "#### 인덱싱하기"
   ]
  },
  {
   "cell_type": "code",
   "execution_count": 7,
   "id": "f1c85e1a-6af6-4cb8-a9fd-df361a15a574",
   "metadata": {},
   "outputs": [
    {
     "name": "stdout",
     "output_type": "stream",
     "text": [
      "1\n",
      "b\n"
     ]
    }
   ],
   "source": [
    "# t1 예시는 위에..\n",
    "# 인덱싱 가능.\n",
    "print(t1[0])\n",
    "print(t1[3])"
   ]
  },
  {
   "cell_type": "markdown",
   "id": "cd56edbf-5269-484c-b1df-08a0961a6a92",
   "metadata": {},
   "source": [
    "#### 슬라이싱 하기"
   ]
  },
  {
   "cell_type": "code",
   "execution_count": 10,
   "id": "5b40069a-e919-49cc-a482-ed327c81cabf",
   "metadata": {},
   "outputs": [
    {
     "name": "stdout",
     "output_type": "stream",
     "text": [
      "(2, 'a', 'b')\n"
     ]
    }
   ],
   "source": [
    "print(t1[1:])"
   ]
  },
  {
   "cell_type": "markdown",
   "id": "5bf7cb41-bd81-400a-8288-dc28a3bb10d1",
   "metadata": {},
   "source": [
    "#### 튜플 더하기"
   ]
  },
  {
   "cell_type": "code",
   "execution_count": 11,
   "id": "5d1e95ac-4ae5-471e-99ee-eb3fda4312e7",
   "metadata": {},
   "outputs": [
    {
     "name": "stdout",
     "output_type": "stream",
     "text": [
      "(1, 2, 'a', 'b', 3, 4)\n"
     ]
    }
   ],
   "source": [
    "# t1...\n",
    "t2 = (3, 4)\n",
    "t3 = t1 + t2\n",
    "print(t3)"
   ]
  },
  {
   "cell_type": "markdown",
   "id": "5686dee1-fbae-474c-b794-6f5bccf492b7",
   "metadata": {},
   "source": [
    "#### 튜플 곱하기"
   ]
  },
  {
   "cell_type": "code",
   "execution_count": 12,
   "id": "ac973241-1379-43f1-8376-84e041dcaace",
   "metadata": {},
   "outputs": [
    {
     "name": "stdout",
     "output_type": "stream",
     "text": [
      "(3, 4, 3, 4, 3, 4)\n"
     ]
    }
   ],
   "source": [
    "# t2..\n",
    "t3 = t2 * 3\n",
    "print(t3)"
   ]
  },
  {
   "cell_type": "markdown",
   "id": "db93ff4a-9faf-4e13-8f55-9e49c4ea81ad",
   "metadata": {},
   "source": [
    "#### 튜플 길이구하기"
   ]
  },
  {
   "cell_type": "code",
   "execution_count": 13,
   "id": "aacafa08-3c4d-44ab-8b91-f3a8ca198ae0",
   "metadata": {},
   "outputs": [
    {
     "name": "stdout",
     "output_type": "stream",
     "text": [
      "6\n"
     ]
    }
   ],
   "source": [
    "t3 = t1 + t2\n",
    "print(len(t3))"
   ]
  },
  {
   "cell_type": "markdown",
   "id": "c0d25bd5-0727-42ae-960b-8f633802ad4b",
   "metadata": {},
   "source": [
    "#### 1분코딩\n",
    "- (1, 2, 3) 튜플에 4를 추가하기"
   ]
  },
  {
   "cell_type": "code",
   "execution_count": 16,
   "id": "394dca06-d5ba-4365-8474-f3929af472f9",
   "metadata": {},
   "outputs": [
    {
     "name": "stdout",
     "output_type": "stream",
     "text": [
      "(1, 2, 3, 4)\n"
     ]
    }
   ],
   "source": [
    "tt = (1, 2, 3)\n",
    "tt = tt + (4, )\n",
    "print(tt)"
   ]
  },
  {
   "cell_type": "markdown",
   "id": "05a4908c-fcd0-4585-a24a-f3e913a133d7",
   "metadata": {},
   "source": [
    "## 딕셔너리 자료형"
   ]
  },
  {
   "cell_type": "code",
   "execution_count": 21,
   "id": "b49d5ffe-2218-4991-98e5-ac9da2a551f3",
   "metadata": {},
   "outputs": [],
   "source": [
    "#여기서만 쓰일거 같아 여기서 import\n",
    "import json"
   ]
  },
  {
   "cell_type": "markdown",
   "id": "fc9db28c-c112-4f34-bdf9-44755c1023f1",
   "metadata": {},
   "source": [
    "### 딕셔너리"
   ]
  },
  {
   "cell_type": "code",
   "execution_count": 34,
   "id": "09eac78b-0f22-4e0a-a714-bd9c0b9b69dc",
   "metadata": {},
   "outputs": [
    {
     "name": "stdout",
     "output_type": "stream",
     "text": [
      "{0: 'ok', 1: 'hey'}\n",
      "ok\n",
      "{'name': 'hi', 'phone': '010-999-1234', 'birth': '1118'}\n",
      "hi\n",
      "{'a': [1, 2, 3, 4]}\n",
      "[1, 2, 3, 4]\n",
      "<class 'dict'>\n",
      "<class 'list'>\n"
     ]
    }
   ],
   "source": [
    "dic = {'name': 'hi', 'phone':'010-999-1234','birth':'1118'}\n",
    "a = {0:'ok', 1:'hey'}\n",
    "b = {'a':[1,2,3,4]}\n",
    "print(a)\n",
    "print(a[0])\n",
    "print(dic)\n",
    "print(dic['name'])\n",
    "print(b)\n",
    "print(b['a'])\n",
    "print(type(b))\n",
    "print(type(b['a']))"
   ]
  },
  {
   "cell_type": "code",
   "execution_count": 26,
   "id": "5060810a-9547-452f-b19c-5a7881cb23c3",
   "metadata": {},
   "outputs": [
    {
     "name": "stdout",
     "output_type": "stream",
     "text": [
      "{\"name\": \"hi\", \"phone\": \"010-999-1234\", \"birth\": \"1118\"}\n"
     ]
    }
   ],
   "source": [
    "# 잠깐 json으로 변환예시..\n",
    "js1 = json.dumps(dic)\n",
    "print(js1)"
   ]
  },
  {
   "cell_type": "markdown",
   "id": "f78abae4-92e6-4836-b76e-446659729ef1",
   "metadata": {},
   "source": [
    "### 딕셔너리 쌍 수정하기(추가, 삭제)"
   ]
  },
  {
   "cell_type": "markdown",
   "id": "ae3a64d7-65fc-4d19-9e48-a537e291f4f6",
   "metadata": {},
   "source": [
    "#### 딕셔너리 쌍 추가하기"
   ]
  },
  {
   "cell_type": "code",
   "execution_count": 35,
   "id": "814804c8-7a1e-44de-b398-cc1e2e8f7c92",
   "metadata": {},
   "outputs": [
    {
     "data": {
      "text/plain": [
       "{1: 'a', 2: 'b', 'name': 'pey', 'arr': [1, 2, 3, 4]}"
      ]
     },
     "execution_count": 35,
     "metadata": {},
     "output_type": "execute_result"
    }
   ],
   "source": [
    "a = {1:'a'}\n",
    "a[2] = 'b'\n",
    "a['name'] = 'pey'\n",
    "a['arr'] = [1,2,3,4]\n",
    "a"
   ]
  },
  {
   "cell_type": "markdown",
   "id": "289b0ffe-e78f-4c17-bdcd-eede28977c63",
   "metadata": {},
   "source": [
    "#### 딕셔너리 요소 삭제하기"
   ]
  },
  {
   "cell_type": "code",
   "execution_count": 36,
   "id": "6483aff5-1ff3-461e-9901-a4dc9bfdbf69",
   "metadata": {},
   "outputs": [
    {
     "name": "stdout",
     "output_type": "stream",
     "text": [
      "{1: 'a', 2: 'b', 'arr': [1, 2, 3, 4]}\n"
     ]
    }
   ],
   "source": [
    "aa = {1: 'a', 2: 'b', 'name': 'pey', 'arr': [1, 2, 3, 4]}\n",
    "del aa['name']\n",
    "print(aa)"
   ]
  },
  {
   "cell_type": "markdown",
   "id": "82e9fd45-3735-4404-865f-f984b45f7153",
   "metadata": {},
   "source": [
    "#### 딕셔너리 사용방법"
   ]
  },
  {
   "cell_type": "code",
   "execution_count": 38,
   "id": "5d8bfd83-e694-4fbc-8435-02cc3d67f4af",
   "metadata": {},
   "outputs": [
    {
     "data": {
      "text/plain": [
       "'파이썬'"
      ]
     },
     "execution_count": 38,
     "metadata": {},
     "output_type": "execute_result"
    }
   ],
   "source": [
    "dex1 = {\"김연아\": \"피겨스케이팅\", \"류현진\": \"야구\", \"손흥민\": \"축구\", \"귀도\": \"파이썬\"}\n",
    "dex1[\"귀도\"]"
   ]
  },
  {
   "cell_type": "markdown",
   "id": "c74a4b66-3233-4ca0-a1fe-31ac66be2485",
   "metadata": {},
   "source": [
    "#### 딕셔너리에서 key를 사용해 Value 얻기"
   ]
  },
  {
   "cell_type": "code",
   "execution_count": 42,
   "id": "7891987b-186a-4f57-9649-fc7bcec7b41c",
   "metadata": {},
   "outputs": [
    {
     "name": "stdout",
     "output_type": "stream",
     "text": [
      "10\n",
      "hi\n",
      "010-999-1234\n",
      "1118\n"
     ]
    }
   ],
   "source": [
    "grade = {'pay':10, 'lane':99}\n",
    "dic = {'name': 'hi', 'phone': '010-999-1234', 'birth': '1118'}\n",
    "print(grade['pay'])\n",
    "print(dic['name'])\n",
    "print(dic['phone'])\n",
    "print(dic['birth'])"
   ]
  },
  {
   "cell_type": "markdown",
   "id": "c4b3ebb1-c7d7-4b4a-b559-5ded7dfb6f6d",
   "metadata": {},
   "source": [
    "#### 딕셔너리 만들 때 주의할 사항\n",
    "- 유일한 값은 말 그대로 중복되면 안됨\n",
    "    - a={'1':'a', '1':'b'} : 이러면 키값 중복사용했기에 앞에 1:'a'가 무시됨.\n",
    "- 키 값을 리스트로는 불가\n",
    "    - a={[1,2]:'hi'} # 오류발생;;"
   ]
  },
  {
   "cell_type": "markdown",
   "id": "8e53c644-08ef-4f0d-978a-e6376aeca926",
   "metadata": {},
   "source": [
    "### 딕셔너리 관련 함수"
   ]
  },
  {
   "cell_type": "markdown",
   "id": "87ac998c-875f-4878-890b-95b7be25c6d0",
   "metadata": {},
   "source": [
    "#### key 리스트 만들기 - keys *"
   ]
  },
  {
   "cell_type": "code",
   "execution_count": 50,
   "id": "f53c2c5a-2db2-4f4e-97bd-3dcffba1452f",
   "metadata": {},
   "outputs": [
    {
     "name": "stdout",
     "output_type": "stream",
     "text": [
      "1: dict_keys(['name', 'phone', 'birth']) <class 'dict_keys'>\n",
      "2: ['name', 'phone', 'birth'] <class 'list'>\n",
      "3: ('name', 'phone', 'birth') <class 'tuple'>\n"
     ]
    }
   ],
   "source": [
    "a = {'name': 'hi', 'phone': '010-999-1234', 'birth': '1118'}\n",
    "print('1:', a.keys(), type(a.keys()))\n",
    "\n",
    "list_keys = list(a.keys())\n",
    "print('2:', list_keys, type(list_keys))\n",
    "\n",
    "t_keys = tuple(list_keys)\n",
    "print('3:', t_keys, type(t_keys))"
   ]
  },
  {
   "cell_type": "code",
   "execution_count": 47,
   "id": "095ee4c8-4ab1-4f69-a685-ad2cc7208aaa",
   "metadata": {},
   "outputs": [
    {
     "name": "stdout",
     "output_type": "stream",
     "text": [
      "name\n",
      "phone\n",
      "birth\n"
     ]
    }
   ],
   "source": [
    "'''\n",
    "    dict_keys 객체는 리스트를 사용하는 것과 별 차이는 없지만, 리스트 고유의...\n",
    "    append, insert, pop, remove, sort 함수는 실행할 수 없다.\n",
    "'''\n",
    "for k in a.keys():\n",
    "    print(k)"
   ]
  },
  {
   "cell_type": "markdown",
   "id": "2e56efb1-874c-4886-93a0-837ba6296c48",
   "metadata": {},
   "source": [
    "#### Value 리스트 만들기 - values(dict_values) *"
   ]
  },
  {
   "cell_type": "code",
   "execution_count": 48,
   "id": "10b0eb65-a2a9-4141-94fc-149e4f35b903",
   "metadata": {},
   "outputs": [
    {
     "name": "stdout",
     "output_type": "stream",
     "text": [
      "1: dict_values(['pay', '010-999-1234', '1118']) <class 'dict_values'>\n",
      "2: ['pay', '010-999-1234', '1118'] <class 'list'>\n",
      "3: ('pay', '010-999-1234', '1118') <class 'tuple'>\n"
     ]
    }
   ],
   "source": [
    "a = {(1,2,3): 'pay', 'phone': '010-999-1234', 'birth': '1118'}\n",
    "print('1:', a.values(), type(a.values()))\n",
    "\n",
    "list_values = list(a.values())\n",
    "print('2:', list_values, type(list_values))\n",
    "\n",
    "t_values = tuple(list_values)\n",
    "print('3:', t_values, type(t_values))"
   ]
  },
  {
   "cell_type": "markdown",
   "id": "a311396d-4011-4f01-a374-42ef170313c6",
   "metadata": {},
   "source": [
    "#### key, value 쌍 얻기 - items"
   ]
  },
  {
   "cell_type": "code",
   "execution_count": 54,
   "id": "01d89988-a95f-43fb-8510-dc0b3ea26e56",
   "metadata": {},
   "outputs": [
    {
     "name": "stdout",
     "output_type": "stream",
     "text": [
      "1: dict_items([((1, 2, 3), 'pay'), ('phone', '010-999-1234'), ('birth', '1118')]) <class 'dict_items'>\n",
      "2: [((1, 2, 3), 'pay'), ('phone', '010-999-1234'), ('birth', '1118')] <class 'list'>\n",
      "3: (((1, 2, 3), 'pay'), ('phone', '010-999-1234'), ('birth', '1118')) <class 'tuple'>\n"
     ]
    }
   ],
   "source": [
    "a = {(1,2,3): 'pay', 'phone': '010-999-1234', 'birth': '1118'}\n",
    "print('1:', a.items(), type(a.items()))\n",
    "\n",
    "list_items = list(a.items())\n",
    "print('2:', list_items, type(list_items))\n",
    "\n",
    "t_items = tuple(list_items)\n",
    "print('3:', t_items, type(t_items))"
   ]
  },
  {
   "cell_type": "markdown",
   "id": "8fb46680-ac7f-42a7-9023-f7d00725017a",
   "metadata": {},
   "source": [
    "#### Key:Value 쌍 모두 지우기 - clear *"
   ]
  },
  {
   "cell_type": "code",
   "execution_count": 55,
   "id": "cfadb754-fffa-4bd5-8359-9a975c6d02b1",
   "metadata": {},
   "outputs": [
    {
     "name": "stdout",
     "output_type": "stream",
     "text": [
      "{}\n",
      "전 :  {(1, 2, 3): 'pay', 'phone': '010-999-1234', 'birth': '1118'}\n",
      "후 :  {}\n"
     ]
    }
   ],
   "source": [
    "b = a.copy()\n",
    "a.clear()\n",
    "print(a)\n",
    "print('전 : ', b)\n",
    "b.clear()\n",
    "print('후 : ', b)"
   ]
  },
  {
   "cell_type": "markdown",
   "id": "a2614d3e-0800-4bbb-a4a4-c857c17400e6",
   "metadata": {},
   "source": [
    "#### Key로 Value 얻기 - get"
   ]
  },
  {
   "cell_type": "code",
   "execution_count": 62,
   "id": "f11d876d-6672-4901-871c-49e87a9f6651",
   "metadata": {},
   "outputs": [
    {
     "name": "stdout",
     "output_type": "stream",
     "text": [
      "None\n",
      "Not have ele..\n"
     ]
    }
   ],
   "source": [
    "a = {(1,2,3): 'pay', 'phone': '010-999-1234', 'birth': '1118'}\n",
    "# print(a['hi']) # error\n",
    "print(a.get('hi')) # 없을경우 None 반환.\n",
    "\n",
    "if None is a.get('hi') :\n",
    "    print('Not have ele..')"
   ]
  },
  {
   "cell_type": "code",
   "execution_count": 67,
   "id": "cfc10b05-843d-43c3-a327-16926f73db66",
   "metadata": {},
   "outputs": [
    {
     "name": "stdin",
     "output_type": "stream",
     "text": [
      "찾고자 하는 키 입력. phone\n"
     ]
    },
    {
     "name": "stdout",
     "output_type": "stream",
     "text": [
      "찾고자 하는 키의 값은 010-999-1234 입니다.\n"
     ]
    }
   ],
   "source": [
    "key = input('찾고자 하는 키 입력.')\n",
    "if a.get(key):\n",
    "    print(f'찾고자 하는 키의 값은 {a[key]} 입니다.')\n",
    "else:\n",
    "    print('찾고자 하는 키는 없습니다.')"
   ]
  },
  {
   "cell_type": "markdown",
   "id": "6745e84f-248d-4b35-aa80-bf110d91c471",
   "metadata": {},
   "source": [
    "- 살짝 응용해보자"
   ]
  },
  {
   "cell_type": "code",
   "execution_count": 73,
   "id": "ac442431-9ef4-499a-9641-02de28c6516e",
   "metadata": {},
   "outputs": [
    {
     "name": "stdin",
     "output_type": "stream",
     "text": [
      "찾고자 하는 키 입력. b3\n"
     ]
    },
    {
     "name": "stdout",
     "output_type": "stream",
     "text": [
      "code77 찾고자 하는 키는 없습니다.\n"
     ]
    }
   ],
   "source": [
    "# 이렇게도 가능..\n",
    "key = input('찾고자 하는 키 입력.')\n",
    "nokey = 'code77'\n",
    "if nokey is not a.get(key, nokey):\n",
    "    print(f'찾고자 하는 키의 값은 {a[key]} 입니다.')\n",
    "else:\n",
    "    print(nokey, '찾고자 하는 키는 없습니다.')"
   ]
  },
  {
   "cell_type": "markdown",
   "id": "9c5d55d0-31f1-499e-bb2f-f1a4b259e3e2",
   "metadata": {},
   "source": [
    "#### 해당 key가 딕셔너리 안에 있는지 조사하기 - in *"
   ]
  },
  {
   "cell_type": "code",
   "execution_count": 76,
   "id": "65a8e37f-e826-4dbd-bdfb-116af85a88a0",
   "metadata": {},
   "outputs": [
    {
     "name": "stdout",
     "output_type": "stream",
     "text": [
      "False\n",
      "True\n",
      "False\n"
     ]
    }
   ],
   "source": [
    "# a = {(1,2,3): 'pay', 'phone': '010-999-1234', 'birth': '1118'}\n",
    "print('name' in a)\n",
    "print((1,2,3) in a)\n",
    "print('hi' in a)"
   ]
  },
  {
   "cell_type": "markdown",
   "id": "51a292c0-77c2-45c0-a7f4-9f868ba35fe9",
   "metadata": {},
   "source": [
    "## 집합 자료형 *"
   ]
  },
  {
   "cell_type": "markdown",
   "id": "9f629c5f-add9-4ebc-beb2-b4184bd84867",
   "metadata": {},
   "source": [
    "### 집합자료형 - set"
   ]
  },
  {
   "cell_type": "code",
   "execution_count": 78,
   "id": "1d260ab3-ecf3-40cf-96e0-6da33e777ac1",
   "metadata": {},
   "outputs": [
    {
     "name": "stdout",
     "output_type": "stream",
     "text": [
      "{1, 2, 3, 4, 5}\n",
      "{'e', 'o', 'C', 'f'}\n"
     ]
    }
   ],
   "source": [
    "s1 = set([5, 1, 2, 3, 3, 2, 1, 4])\n",
    "s2 = set('Coffee')\n",
    "print(s1)\n",
    "print(s2)"
   ]
  },
  {
   "cell_type": "markdown",
   "id": "5627b8dd-e370-4b8a-9e08-da48c0ab696e",
   "metadata": {},
   "source": [
    "- 자동 유니크 단일화, sort...\n",
    "- 문자열도.."
   ]
  },
  {
   "cell_type": "markdown",
   "id": "724859b5-ed30-4831-8724-98c23d78dd31",
   "metadata": {},
   "source": [
    "### 집합자료형 특징\n",
    "- 중복을 허용안함.\n",
    "- 순서가 없다.(unordered)\n",
    "- 필터로 사용가능.\n",
    "- 리스트나 튜플로 사용하면 요소에 접근가능"
   ]
  },
  {
   "cell_type": "code",
   "execution_count": 86,
   "id": "0e9fb4e9-0443-47a2-8351-15ee2b460168",
   "metadata": {},
   "outputs": [
    {
     "name": "stdout",
     "output_type": "stream",
     "text": [
      "origin:  [5, 1, 2, 3, 3, 2, 1, 4]\n",
      "set:  {1, 2, 3, 4, 5}\n",
      "to list:  [1, 2, 3, 4, 5] idx2 -  3\n",
      "to tuple:  (1, 2, 3, 4, 5) idx2 -  3\n"
     ]
    }
   ],
   "source": [
    "s = [5, 1, 2, 3, 3, 2, 1, 4]\n",
    "s1 = set(s)\n",
    "l1 = list(s1)\n",
    "t1 = tuple(s1)\n",
    "print('origin: ', s)\n",
    "print('set: ', s1)\n",
    "print('to list: ', l1,'idx2 - ', l1[2])\n",
    "print('to tuple: ', t1,'idx2 - ', t1[2])"
   ]
  },
  {
   "cell_type": "markdown",
   "id": "b8fd60f1-6f5e-4b9c-b1bf-a23a4759cf40",
   "metadata": {},
   "source": [
    "### 교집합, 합집합, 차집합 구하기"
   ]
  },
  {
   "cell_type": "code",
   "execution_count": 87,
   "id": "136e9af6-f0ac-4062-a70b-629e5573b5e8",
   "metadata": {},
   "outputs": [],
   "source": [
    "s1 = set([1, 2, 3, 4, 5, 6])\n",
    "s2 = set([4, 5, 6, 7, 8, 9])"
   ]
  },
  {
   "cell_type": "markdown",
   "id": "6face72e-aa3f-4424-8144-6392cfdc440b",
   "metadata": {},
   "source": [
    "#### 교집합 구하기"
   ]
  },
  {
   "cell_type": "code",
   "execution_count": 90,
   "id": "20a2a048-f41d-44c1-893b-b202ad15451b",
   "metadata": {},
   "outputs": [
    {
     "name": "stdout",
     "output_type": "stream",
     "text": [
      "{4, 5, 6} <class 'set'>\n"
     ]
    }
   ],
   "source": [
    "s3 = s1 & s2\n",
    "print(s3, type(s3))"
   ]
  },
  {
   "cell_type": "code",
   "execution_count": 96,
   "id": "645f7238-c172-498f-a348-64ba5cc30e17",
   "metadata": {},
   "outputs": [
    {
     "name": "stdout",
     "output_type": "stream",
     "text": [
      "{4, 5, 6}\n"
     ]
    }
   ],
   "source": [
    "s3 = s1.intersection(s2)\n",
    "print(s3)"
   ]
  },
  {
   "cell_type": "markdown",
   "id": "8d9748b9-7a1a-418a-a4b5-4fbbbf804719",
   "metadata": {},
   "source": [
    "#### 합집합 구하기"
   ]
  },
  {
   "cell_type": "code",
   "execution_count": 91,
   "id": "c96a2fbf-b513-4736-8fad-3245d3906447",
   "metadata": {},
   "outputs": [
    {
     "name": "stdout",
     "output_type": "stream",
     "text": [
      "{1, 2, 3, 4, 5, 6, 7, 8, 9} <class 'set'>\n"
     ]
    }
   ],
   "source": [
    "s4 = s1 | s2\n",
    "print(s4, type(s4))"
   ]
  },
  {
   "cell_type": "code",
   "execution_count": 93,
   "id": "98fdb289-37ee-44b0-ad0c-1ce729e50f82",
   "metadata": {},
   "outputs": [
    {
     "name": "stdout",
     "output_type": "stream",
     "text": [
      "{1, 2, 3, 4, 5, 6, 7, 8, 9}\n"
     ]
    }
   ],
   "source": [
    "s4 = s1.union(s2) # 위와 같음.\n",
    "print(s4)"
   ]
  },
  {
   "cell_type": "markdown",
   "id": "d7065f4b-7210-4f57-b3a0-e29ad4fc48fd",
   "metadata": {},
   "source": [
    "#### 차집합 구하기"
   ]
  },
  {
   "cell_type": "code",
   "execution_count": 94,
   "id": "0f56b220-100e-4be7-8046-dfec483ac63d",
   "metadata": {},
   "outputs": [
    {
     "name": "stdout",
     "output_type": "stream",
     "text": [
      "{1, 2, 3}\n",
      "{8, 9, 7}\n"
     ]
    }
   ],
   "source": [
    "s5 = s1 - s2\n",
    "s6 = s2 - s1\n",
    "print(s5)\n",
    "print(s6)"
   ]
  },
  {
   "cell_type": "code",
   "execution_count": 98,
   "id": "6610fc10-63c0-4a45-9f86-487e97bf7c79",
   "metadata": {},
   "outputs": [
    {
     "name": "stdout",
     "output_type": "stream",
     "text": [
      "{1, 2, 3}\n",
      "{8, 9, 7}\n"
     ]
    }
   ],
   "source": [
    "# 위와 같음.\n",
    "s5 = s1.difference(s2)\n",
    "s6 = s2.difference(s1)\n",
    "print(s5)\n",
    "print(s6)"
   ]
  },
  {
   "cell_type": "markdown",
   "id": "9e76412a-19d0-45a7-a40a-62c5fd0b6508",
   "metadata": {},
   "source": [
    "- 그냥 여기서 intersection, union, difference 등은 그냥 참고용.."
   ]
  },
  {
   "cell_type": "markdown",
   "id": "e5e5634c-168b-410d-97be-5006fac92cec",
   "metadata": {},
   "source": [
    "### 집합자료형 관련 함수"
   ]
  },
  {
   "cell_type": "markdown",
   "id": "761844f6-9f2a-44d8-8906-49e24d3c6327",
   "metadata": {},
   "source": [
    "#### 값 1개 추가하기 - add"
   ]
  },
  {
   "cell_type": "code",
   "execution_count": 100,
   "id": "abeb99de-2ec6-456f-8ec9-6d3d485cb4b0",
   "metadata": {},
   "outputs": [
    {
     "name": "stdout",
     "output_type": "stream",
     "text": [
      "{1, 2, 3, 4}\n"
     ]
    }
   ],
   "source": [
    "s1 = set([1, 2, 3])\n",
    "s1.add(4)\n",
    "print(s1)"
   ]
  },
  {
   "cell_type": "markdown",
   "id": "1f5f75f4-89b0-44f5-8b0f-b15f64b5f498",
   "metadata": {},
   "source": [
    "#### 값 여러 개 추가하기 - update"
   ]
  },
  {
   "cell_type": "code",
   "execution_count": 101,
   "id": "cf50da03-a162-48e0-b242-60959eb5781f",
   "metadata": {},
   "outputs": [
    {
     "name": "stdout",
     "output_type": "stream",
     "text": [
      "{1, 2, 3, 4, 5, 6}\n"
     ]
    }
   ],
   "source": [
    "s1 = set([1, 2, 3])\n",
    "s1.update([4, 5, 6])\n",
    "print(s1)"
   ]
  },
  {
   "cell_type": "markdown",
   "id": "317af7c4-86b5-47e7-bebc-613e6886d7eb",
   "metadata": {},
   "source": [
    "#### 특정 값 제거하기 - remove"
   ]
  },
  {
   "cell_type": "code",
   "execution_count": 102,
   "id": "65f62cc9-40a3-4032-904b-62d73567349e",
   "metadata": {},
   "outputs": [
    {
     "name": "stdout",
     "output_type": "stream",
     "text": [
      "{1, 3}\n"
     ]
    }
   ],
   "source": [
    "s1 = set([1, 2, 3])\n",
    "s1.remove(2)\n",
    "print(s1)"
   ]
  },
  {
   "cell_type": "markdown",
   "id": "2c6183d6-796b-47da-bae7-f04851bba6c9",
   "metadata": {},
   "source": [
    "## 불 자료형 *"
   ]
  },
  {
   "cell_type": "markdown",
   "id": "a78eec7c-18c9-4b0b-8a79-41117f96f173",
   "metadata": {},
   "source": [
    "### 불 자료형 (True, False)"
   ]
  },
  {
   "cell_type": "code",
   "execution_count": 105,
   "id": "23a3ba91-43fc-4ec6-af14-01816019d26c",
   "metadata": {},
   "outputs": [
    {
     "name": "stdout",
     "output_type": "stream",
     "text": [
      "True <class 'bool'>\n",
      "True <class 'bool'>\n",
      "False <class 'bool'>\n",
      "False <class 'bool'>\n",
      "False <class 'bool'>\n",
      "False <class 'bool'>\n"
     ]
    }
   ],
   "source": [
    "b1 = (1 == 1)\n",
    "b2 = (2 > 1)\n",
    "b3 = (2 < 1)\n",
    "b4 = bool(())\n",
    "b5 = bool([])\n",
    "b6 = bool({})\n",
    "\n",
    "print(b1, type(b1))\n",
    "print(b2, type(b2))\n",
    "print(b3, type(b3))\n",
    "print(b4, type(b4))\n",
    "print(b5, type(b5))\n",
    "print(b6, type(b6))"
   ]
  },
  {
   "cell_type": "markdown",
   "id": "841d49f3-ceed-4823-96b2-c9bbc161f81f",
   "metadata": {},
   "source": [
    "### 자료형의 참, 거짓"
   ]
  },
  {
   "cell_type": "code",
   "execution_count": 108,
   "id": "5b5052bd-55d9-41f4-8e01-9fc92f2e085c",
   "metadata": {},
   "outputs": [
    {
     "name": "stdout",
     "output_type": "stream",
     "text": [
      "[1, 2, 3, 4] 5\n",
      "[1, 2, 3] 4\n",
      "[1, 2] 3\n",
      "[1] 2\n",
      "[] 1\n"
     ]
    }
   ],
   "source": [
    "a = [1, 2, 3, 4, 5]\n",
    "while a:\n",
    "    print(a, a.pop())"
   ]
  },
  {
   "cell_type": "markdown",
   "id": "3d73d1cc-c83c-4829-adfe-3fe24c152fcd",
   "metadata": {},
   "source": [
    "### 불 연산"
   ]
  },
  {
   "cell_type": "code",
   "execution_count": 114,
   "id": "a0a600ef-5978-4019-8f1f-c86001e80e6f",
   "metadata": {},
   "outputs": [
    {
     "name": "stdout",
     "output_type": "stream",
     "text": [
      "bool([1, 2, 3]):True\n",
      "bool([]):False\n",
      "bool(0):False\n",
      "bool(3):True\n"
     ]
    }
   ],
   "source": [
    "b1 = bool([1, 2, 3])\n",
    "b2 = bool([])\n",
    "b3 = bool(0)\n",
    "b4 = bool(3)\n",
    "print(f'bool([1, 2, 3]):{b1}')\n",
    "print('bool([]):%s' %(b2)) # 이런 표현법도 있는...\n",
    "print(f'bool(0):{b3}')\n",
    "print(f'bool(3):{b4}')"
   ]
  },
  {
   "cell_type": "markdown",
   "id": "07a99017-1df5-4f4a-905c-b50857feebab",
   "metadata": {},
   "source": [
    "## 자료형의 값을 저장하는 공간, 변수"
   ]
  },
  {
   "cell_type": "markdown",
   "id": "4d534598-a33d-4940-bfbc-ca2ab5294140",
   "metadata": {},
   "source": [
    "### 변수 variable\n",
    "- 변수 이름 - 변수에 저장할 값의 그릇이름?"
   ]
  },
  {
   "cell_type": "markdown",
   "id": "1557cfac-25ee-4e54-8ddd-839ff655a4f2",
   "metadata": {},
   "source": [
    "### 변수란 무엇인가?"
   ]
  },
  {
   "cell_type": "code",
   "execution_count": 123,
   "id": "6738b595-c83c-4d65-bd8e-c794855b8630",
   "metadata": {},
   "outputs": [
    {
     "name": "stdout",
     "output_type": "stream",
     "text": [
      "4037859272\n",
      "4037860360\n",
      "4037859272\n",
      "True\n",
      "4047852904\n",
      "[1, 4, 3]\n",
      "[1, 4, 3]\n"
     ]
    }
   ],
   "source": [
    "a = [1, 2, 3]\n",
    "b = [1, 2, 3]\n",
    "c = a\n",
    "d = a[:]\n",
    "print(id(a))\n",
    "print(id(b))\n",
    "print(id(c))\n",
    "print(a is c)\n",
    "print(id(d))\n",
    "\n",
    "c[1] = 4\n",
    "print(a)\n",
    "print(c)"
   ]
  },
  {
   "cell_type": "code",
   "execution_count": 120,
   "id": "71c18912-648f-42a1-be55-5307ee6cc4df",
   "metadata": {},
   "outputs": [
    {
     "name": "stdout",
     "output_type": "stream",
     "text": [
      "5655360\n",
      "5655360\n",
      "5655360\n"
     ]
    }
   ],
   "source": [
    "# 변수는 복사보단 늘 가리키기에 같은 주소..\n",
    "a = 3\n",
    "b = 3\n",
    "c = a\n",
    "print(id(a))\n",
    "print(id(b))\n",
    "print(id(c))"
   ]
  },
  {
   "cell_type": "code",
   "execution_count": 129,
   "id": "7bcece42-629c-4990-8801-56e18772801f",
   "metadata": {},
   "outputs": [
    {
     "name": "stdout",
     "output_type": "stream",
     "text": [
      "4148043456\n",
      "4148043456\n",
      "4148043456\n",
      "4148043456\n"
     ]
    }
   ],
   "source": [
    "# 문자열은?\n",
    "a = 'sample'\n",
    "b = 'sample'\n",
    "c = a\n",
    "d = a[:]\n",
    "\n",
    "print(id(a))\n",
    "print(id(b))\n",
    "print(id(c))\n",
    "print(id(d))"
   ]
  },
  {
   "cell_type": "markdown",
   "id": "c46ecb7e-f449-43d7-98c7-6a9f9d886e71",
   "metadata": {},
   "source": [
    "- 결론.. 이러한 id의 예시로는 리스트등 자료나열형 및 객체 애들한정으로 가능함을 보임."
   ]
  },
  {
   "cell_type": "markdown",
   "id": "57ed6791-1ac6-4c8c-9031-9415063604c8",
   "metadata": {},
   "source": [
    "### 리스트 복사"
   ]
  },
  {
   "cell_type": "markdown",
   "id": "2050c9b3-8ab7-4743-945e-3d276c962411",
   "metadata": {},
   "source": [
    "#### [:] 이용"
   ]
  },
  {
   "cell_type": "code",
   "execution_count": 127,
   "id": "2ad4b694-5bfd-48a2-905d-e5ac65fa5cac",
   "metadata": {},
   "outputs": [
    {
     "name": "stdout",
     "output_type": "stream",
     "text": [
      "4047852936 [1, 2, 3]\n",
      "4047854984 [1, 2, 3]\n",
      "4047852936 [1, 2, 3]\n",
      "True\n",
      "4048367848 [1, 2, 3]\n"
     ]
    }
   ],
   "source": [
    "a = [1, 2, 3]\n",
    "b = [1, 2, 3]\n",
    "c = a\n",
    "d = a[:]\n",
    "print(id(a), a)\n",
    "print(id(b), b)\n",
    "print(id(c), c)\n",
    "print(a is c)\n",
    "print(id(d), d)"
   ]
  },
  {
   "cell_type": "markdown",
   "id": "3f804c08-62fc-436b-af70-bfae197ad5e7",
   "metadata": {},
   "source": [
    "#### copy() 이용"
   ]
  },
  {
   "cell_type": "code",
   "execution_count": 128,
   "id": "1e64682d-a756-4a2e-8fe4-2818814d63dc",
   "metadata": {},
   "outputs": [
    {
     "name": "stdout",
     "output_type": "stream",
     "text": [
      "4047853864 [1, 2, 3]\n",
      "4047835176 [1, 2, 3]\n",
      "4047853864 [1, 2, 3]\n",
      "True\n",
      "4048307432 [1, 2, 3]\n"
     ]
    }
   ],
   "source": [
    "a = [1, 2, 3]\n",
    "b = [1, 2, 3]\n",
    "c = a\n",
    "d = a.copy()\n",
    "print(id(a), a)\n",
    "print(id(b), b)\n",
    "print(id(c), c)\n",
    "print(a is c)\n",
    "print(id(d), d)"
   ]
  },
  {
   "cell_type": "code",
   "execution_count": 138,
   "id": "a35da0f4-3da9-45a1-ab0a-af046f8240ec",
   "metadata": {},
   "outputs": [
    {
     "name": "stdout",
     "output_type": "stream",
     "text": [
      "[1, 2, 3]\n",
      "4048457512\n",
      "4048500776\n"
     ]
    }
   ],
   "source": [
    "# from copy import copy # 이런방법도 있음.\n",
    "a = [1, 2, 3]\n",
    "b = copy(a)\n",
    "print(b)\n",
    "print(id(a))\n",
    "print(id(b))"
   ]
  },
  {
   "cell_type": "code",
   "execution_count": 141,
   "id": "be020c4e-f34b-4d72-8572-08d6cad5d228",
   "metadata": {},
   "outputs": [
    {
     "name": "stdout",
     "output_type": "stream",
     "text": [
      "4119243520\n",
      "4119243520\n",
      "4119243520\n",
      "4119243520\n"
     ]
    }
   ],
   "source": [
    "# [:] 이걸 쓰면 같은데.. import copy로 하면..\n",
    "\n",
    "s1 = \"hello\"\n",
    "s2 = s1[:]\n",
    "print(id(s1))\n",
    "print(id(s2))\n",
    "\n",
    "s2 = copy(s1)\n",
    "print(id(s1))\n",
    "print(id(s2))"
   ]
  },
  {
   "cell_type": "code",
   "execution_count": 149,
   "id": "e233d81e-2788-4434-88a8-33c3a6be43d0",
   "metadata": {},
   "outputs": [
    {
     "name": "stdout",
     "output_type": "stream",
     "text": [
      "dictinary test\n",
      "4000360320\n",
      "4000360280\n",
      "tuple test\n",
      "4000390088\n",
      "4000390088\n"
     ]
    }
   ],
   "source": [
    "a = {(1,2,3): 'pay', 'phone': '010-999-1234', 'birth': '1118'}\n",
    "b = a.copy()\n",
    "print(\"dictinary test\")\n",
    "print(id(a))\n",
    "print(id(b))\n",
    "\n",
    "a1 = (1, 2, 3)\n",
    "b1 = copy(a1)\n",
    "print(\"tuple test\")\n",
    "print(id(a1))\n",
    "print(id(b1))"
   ]
  },
  {
   "cell_type": "code",
   "execution_count": 150,
   "id": "acd23393-e979-4116-ae6c-f3c344c8af1f",
   "metadata": {},
   "outputs": [
    {
     "name": "stdout",
     "output_type": "stream",
     "text": [
      "각 등식 비교\n",
      "dictinary test\n",
      "False\n",
      "True\n",
      "tuple test\n",
      "True\n",
      "True\n"
     ]
    }
   ],
   "source": [
    "print(\"각 등식 비교\")\n",
    "print(\"dictinary test\")\n",
    "print( a is b )\n",
    "print( a == b )\n",
    "\n",
    "print(\"tuple test\") # list, dic 외에 모든 집합및 데이터는 그러할듯함.\n",
    "print(a1 is b1)\n",
    "print(a1 == b1)\n"
   ]
  },
  {
   "cell_type": "markdown",
   "id": "ba84f5ba-80ce-4529-b4c6-62dadaf521cd",
   "metadata": {},
   "source": [
    "- 늘 그렇듯 리스트, 딕 에서만.. 단순 숫자및 문자열, 그외 집합변수들은..."
   ]
  },
  {
   "cell_type": "markdown",
   "id": "9bd5adb4-21be-402a-9baa-8680dcb2dfbe",
   "metadata": {},
   "source": [
    "### 변수를 만드는 여러가지 방법"
   ]
  },
  {
   "cell_type": "code",
   "execution_count": 157,
   "id": "d96fe20e-5cc2-4371-835e-9d92b189ea72",
   "metadata": {},
   "outputs": [
    {
     "name": "stdout",
     "output_type": "stream",
     "text": [
      "python life\n",
      "python life\n",
      "python life\n",
      "python life\n"
     ]
    }
   ],
   "source": [
    "a1, b1 = ('python', 'life')\n",
    "a2, b2 = 'python', 'life'\n",
    "(a3, b3) = 'python', 'life'\n",
    "(a4, b4) = ('python', 'life')\n",
    "print(a1, b1)\n",
    "print(a2, b2)\n",
    "print(a3, b3)\n",
    "print(a4, b4)"
   ]
  },
  {
   "cell_type": "code",
   "execution_count": 160,
   "id": "1df628ce-b238-4b73-83f0-71f8049a923a",
   "metadata": {},
   "outputs": [
    {
     "name": "stdout",
     "output_type": "stream",
     "text": [
      "python life\n",
      "python life\n",
      "python life\n",
      "python life\n"
     ]
    }
   ],
   "source": [
    "[a1, b1] = ['python', 'life']\n",
    "a2, b2 = ['python', 'life']\n",
    "[a3, b3] = 'python', 'life'\n",
    "[a4, b4] = ('python', 'life')\n",
    "print(a1, b1)\n",
    "print(a2, b2)\n",
    "print(a3, b3)\n",
    "print(a4, b4)"
   ]
  },
  {
   "cell_type": "code",
   "execution_count": 162,
   "id": "4f28e309-2427-41f7-97b0-aff68fe6756c",
   "metadata": {},
   "outputs": [
    {
     "name": "stdout",
     "output_type": "stream",
     "text": [
      "a b c\n"
     ]
    }
   ],
   "source": [
    "[a1, b1, c1] = 'abc'\n",
    "print( a1, b1, c1 )"
   ]
  },
  {
   "cell_type": "code",
   "execution_count": 163,
   "id": "10182863-6aa1-4ef6-8fb1-d07377fb7d29",
   "metadata": {},
   "outputs": [
    {
     "name": "stdout",
     "output_type": "stream",
     "text": [
      "py py py\n",
      "py\n"
     ]
    }
   ],
   "source": [
    "# 여러 개의 변수값..\n",
    "a = b = c = ㄴ = 'py'\n",
    "print(a, b, c)\n",
    "print(ㄴ)"
   ]
  },
  {
   "cell_type": "code",
   "execution_count": 167,
   "id": "e1697e26-a7a5-4dbd-b426-c50f5d56ca8b",
   "metadata": {},
   "outputs": [
    {
     "name": "stdout",
     "output_type": "stream",
     "text": [
      "a:3 b:5\n",
      "a:5 b:3\n",
      "a:5 b:3\n"
     ]
    }
   ],
   "source": [
    "a = 3\n",
    "b = 5\n",
    "print('a:%d b:%d' %(a, b)) # 1\n",
    "a, b = b, a\n",
    "print('a:{0} b:{1}'.format(a, b)) # 2\n",
    "print(f'a:{a} b:{b}') # 3"
   ]
  },
  {
   "cell_type": "markdown",
   "id": "6722500e-66ae-4d41-b614-ee5528102d7a",
   "metadata": {},
   "source": [
    "# 제어문"
   ]
  },
  {
   "cell_type": "markdown",
   "id": "54e7eb5b-936e-4a15-9ac7-2cc23e95bc6e",
   "metadata": {},
   "source": [
    "## if 문"
   ]
  },
  {
   "cell_type": "markdown",
   "id": "7ea08294-741c-4e27-b08e-0022a7ebfc34",
   "metadata": {},
   "source": [
    "### 조건문이란"
   ]
  },
  {
   "cell_type": "code",
   "execution_count": 169,
   "id": "0369450f-246d-4f5c-bc07-1a312467c254",
   "metadata": {},
   "outputs": [
    {
     "name": "stdout",
     "output_type": "stream",
     "text": [
      "true\n"
     ]
    }
   ],
   "source": [
    "if True:\n",
    "    print('true')\n",
    "else:\n",
    "    print('false')"
   ]
  },
  {
   "cell_type": "markdown",
   "id": "e9f1d8cb-7bd0-4db0-8a71-48939e620252",
   "metadata": {},
   "source": [
    "#### 비교연산자"
   ]
  },
  {
   "cell_type": "markdown",
   "id": "7638a220-9a87-4a90-8975-bcf8ac86f462",
   "metadata": {},
   "source": [
    "<table style=\"float:left; font-size: 1.2rem;\">\r\n",
    "<thead>\r\n",
    "<tr>\r\n",
    "<th>비교연산자</th>\r\n",
    "<th>설명</th>\r\n",
    "</tr>\r\n",
    "</thead>\r\n",
    "<tbody>\r\n",
    "<tr>\r\n",
    "<td>x &lt; y</td>\r\n",
    "<td>x가 y보다 작다.</td>\r\n",
    "</tr>\r\n",
    "<tr>\r\n",
    "<td>x &gt; y</td>\r\n",
    "<td>x가 y보다 크다.</td>\r\n",
    "</tr>\r\n",
    "<tr>\r\n",
    "<td>x == y</td>\r\n",
    "<td>x와 y가 같다.</td>\r\n",
    "</tr>\r\n",
    "<tr>\r\n",
    "<td>x != y</td>\r\n",
    "<td>x와 y가 같지 않다.</td>\r\n",
    "</tr>\r\n",
    "<tr>\r\n",
    "<td>x &gt;= y</td>\r\n",
    "<td>x가 y보다 크거나 같다.</td>\r\n",
    "</tr>\r\n",
    "<tr>\r\n",
    "<td>x &lt;= y</td>\r\n",
    "<td>x가 y보다 작거나 같다.</td>\r\n",
    "</tr>\r\n",
    "</tbody>\r\n",
    "</table>"
   ]
  },
  {
   "cell_type": "code",
   "execution_count": 173,
   "id": "2def6480-a234-4019-9e25-c5bc20bcaad9",
   "metadata": {},
   "outputs": [
    {
     "name": "stdout",
     "output_type": "stream",
     "text": [
      "x=3 y=2 일때..\n",
      "x <  y :  False\n",
      "x >  y :  True\n",
      "x == y :  False\n",
      "x != y :  True\n",
      "x >= y :  False\n",
      "x <= y :  False\n"
     ]
    }
   ],
   "source": [
    "x,y = 3, 2\n",
    "\n",
    "print(f'x={x} y={y} 일때..')\n",
    "print('x <  y : ', x < y )\n",
    "print('x >  y : ', x > y )\n",
    "print('x == y : ', x == y )\n",
    "print('x != y : ', x != y )\n",
    "print('x >= y : ', x <= y )\n",
    "print('x <= y : ', x <= y )"
   ]
  },
  {
   "cell_type": "code",
   "execution_count": 181,
   "id": "195a3421-d539-43f2-96c4-eb92a39a3b5c",
   "metadata": {},
   "outputs": [
    {
     "name": "stdin",
     "output_type": "stream",
     "text": [
      "How many have you money? \n"
     ]
    },
    {
     "name": "stdout",
     "output_type": "stream",
     "text": [
      "you recommend go to walk\n"
     ]
    }
   ],
   "source": [
    "# 만약 3000원 이상의 돈을 가지고 있으면 택시를 타고 가고, 그렇지 않으면 걸어가라.\n",
    "# 디폴트로 값 없을때 1500 기본. 아래처럼.\n",
    "money = int(input('How many have you money?') or 1500)\n",
    "if 3000 <= money:\n",
    "    print('you recommend in texi!')\n",
    "else:\n",
    "    print('you recommend go to walk')"
   ]
  },
  {
   "cell_type": "markdown",
   "id": "e74d00fc-56cc-44d6-a253-348742bb7efe",
   "metadata": {},
   "source": [
    "#### and, or, not"
   ]
  },
  {
   "cell_type": "markdown",
   "id": "39673312-5fb9-4b44-92be-dd10921bbae5",
   "metadata": {},
   "source": [
    "<table style=\"float:left; font-size: 1.2rem;\">\r\n",
    "<thead>\r\n",
    "<tr>\r\n",
    "<th>연산자</th>\r\n",
    "<th>설명</th>\r\n",
    "</tr>\r\n",
    "</thead>\r\n",
    "<tbody>\r\n",
    "<tr>\r\n",
    "<td>x or y</td>\r\n",
    "<td>x와 y 둘 중 하나만 참이어도 참이다.</td>\r\n",
    "</tr>\r\n",
    "<tr>\r\n",
    "<td>x and y</td>\r\n",
    "<td>x와 y 모두 참이어야 참이다.</td>\r\n",
    "</tr>\r\n",
    "<tr>\r\n",
    "<td>not x</td>\r\n",
    "<td>x가 거짓이면 참이다.</td>\r\n",
    "</tr>\r\n",
    "</tbody>\r\n",
    "</table>"
   ]
  },
  {
   "cell_type": "code",
   "execution_count": 186,
   "id": "77ca4b5b-039d-4036-a3f3-e09b9ed497a5",
   "metadata": {},
   "outputs": [
    {
     "name": "stdin",
     "output_type": "stream",
     "text": [
      "How many have you money? 1000\n"
     ]
    },
    {
     "name": "stdout",
     "output_type": "stream",
     "text": [
      "you recommend in texi!\n"
     ]
    }
   ],
   "source": [
    "# 돈이 3000원 이상 있거나 카드가 있다면 택시를 타고 가고, 그렇지 않으면 걸어가라.\n",
    "card = False\n",
    "money = int(input('How many have you money?') or 1500)\n",
    "if 30000 <= money or not card: # 어떤값 들어가도.. 카드만 있다면..\n",
    "    print('you recommend in texi!')\n",
    "else:\n",
    "    print('you recommend go to walk')"
   ]
  },
  {
   "cell_type": "markdown",
   "id": "973a2c3c-fb39-4440-8d02-e9bb37703368",
   "metadata": {},
   "source": [
    "#### in, not in *"
   ]
  },
  {
   "cell_type": "code",
   "execution_count": 190,
   "id": "e8b03c35-5ed4-4760-bc90-84897dd3c24e",
   "metadata": {},
   "outputs": [
    {
     "name": "stdout",
     "output_type": "stream",
     "text": [
      "True\n",
      "False\n",
      "True\n",
      "True\n",
      "True\n"
     ]
    }
   ],
   "source": [
    "print(1 in [1,2,3])\n",
    "print(3 not in [1, 2, 3])\n",
    "print('a' in ('a', 'b', 'c'))\n",
    "print('j' not in 'python')\n",
    "print('j' in 'javascript')"
   ]
  },
  {
   "cell_type": "code",
   "execution_count": 196,
   "id": "09473498-b6dc-417e-b4c6-a22ebec74716",
   "metadata": {},
   "outputs": [
    {
     "name": "stdout",
     "output_type": "stream",
     "text": [
      "you recommend in texi!\n"
     ]
    }
   ],
   "source": [
    "# 만약 주머니에 돈이 있으면 택시를 타고 가고, 없으면 걸어가라.\n",
    "pocket = 'paper', 'cellphone', 'money'\n",
    "if 'money' in pocket:\n",
    "    print('you recommend in texi!')\n",
    "else:\n",
    "    print('you recommend go to walk')"
   ]
  },
  {
   "cell_type": "code",
   "execution_count": 197,
   "id": "d7c4b68c-ad50-4463-b669-23250f7ca408",
   "metadata": {},
   "outputs": [],
   "source": [
    "# 주머니에 돈이 있으면 가만히 있고, 주머니에 돈이 없으면 카드를 꺼내라.\n",
    "pocket = 'paper', 'cellphone', 'money'\n",
    "if 'money' in pocket:\n",
    "    pass\n",
    "else:\n",
    "    print('you just activated trap card..')"
   ]
  },
  {
   "cell_type": "code",
   "execution_count": 203,
   "id": "87958c71-1161-466d-9077-b659a40f08c8",
   "metadata": {},
   "outputs": [
    {
     "name": "stdout",
     "output_type": "stream",
     "text": [
      "you must in texi..\n"
     ]
    }
   ],
   "source": [
    "# 주머니에 돈이 있으면 택시를 타고 가고, 주머니에 돈은 없지만 카드가 있으면 택시를 타고 가고, 돈도 없고 카드도 없으면 걸어가라.\n",
    "\n",
    "mypocket = { 'paper':'receipt', 'cellphone':'some installment', 'key':'home key' }\n",
    "card = True\n",
    "pocket = mypocket.keys()\n",
    "\n",
    "if 'money' in pocket:\n",
    "    print('it\\'s find. we recommend in texi.')\n",
    "elif card:\n",
    "    print('you must in texi..')\n",
    "else:\n",
    "    print('not.. I\\'m finding..')"
   ]
  },
  {
   "cell_type": "code",
   "execution_count": 205,
   "id": "d3cb1d42-7549-4c2f-a47d-712e9d0cb410",
   "metadata": {},
   "outputs": [
    {
     "name": "stdout",
     "output_type": "stream",
     "text": [
      "you just activated trap card..\n"
     ]
    }
   ],
   "source": [
    "pocket = ['paper', 'cellphone', 'money']\n",
    "\n",
    "if 'money' not in pocket: pass\n",
    "else: print('you just activated trap card..')"
   ]
  },
  {
   "cell_type": "markdown",
   "id": "f058eebd-c611-496c-98bc-8b133427598e",
   "metadata": {},
   "source": [
    "### 조건부 표현식\n",
    "- 삼항연산자 *"
   ]
  },
  {
   "cell_type": "code",
   "execution_count": 214,
   "id": "aa09cb81-4f0e-498c-aac4-bf1030a65a5b",
   "metadata": {},
   "outputs": [
    {
     "name": "stdin",
     "output_type": "stream",
     "text": [
      "You In Score! 75\n"
     ]
    },
    {
     "name": "stdout",
     "output_type": "stream",
     "text": [
      "success\n"
     ]
    }
   ],
   "source": [
    "'''\n",
    "if score >= 60:\n",
    "    message = \"success\"\n",
    "else:\n",
    "    message = \"failure\"\n",
    "'''\n",
    "# 조건부 표현식(삼항연산조건표현식)으로..\n",
    "score = int(input('You In Score!')) or 60\n",
    "msg = \"success\" if 60 <= score else \"failure\"\n",
    "print(msg)"
   ]
  },
  {
   "cell_type": "markdown",
   "id": "7b6c03cc-4e3a-42d4-a8bc-ef603b4116d0",
   "metadata": {},
   "source": [
    "## while문"
   ]
  },
  {
   "cell_type": "markdown",
   "id": "5c9928e2-64e3-4978-b414-40bd8cac47c9",
   "metadata": {},
   "source": [
    "### while 문의 기본구조"
   ]
  },
  {
   "cell_type": "code",
   "execution_count": 216,
   "id": "8c0b4d98-44de-4718-a54c-17d03541d610",
   "metadata": {},
   "outputs": [
    {
     "name": "stdout",
     "output_type": "stream",
     "text": [
      "나무를 1번 찍었습니다.\n",
      "나무를 2번 찍었습니다.\n",
      "나무를 3번 찍었습니다.\n",
      "나무를 4번 찍었습니다.\n",
      "나무를 5번 찍었습니다.\n",
      "나무를 6번 찍었습니다.\n",
      "나무를 7번 찍었습니다.\n",
      "나무를 8번 찍었습니다.\n",
      "나무를 9번 찍었습니다.\n",
      "나무를 10번 찍었습니다.\n",
      "나무 넘어갑니다.\n"
     ]
    }
   ],
   "source": [
    "treeHit = 0\n",
    "while treeHit < 10:\n",
    "     treeHit = treeHit +1\n",
    "     print(\"나무를 %d번 찍었습니다.\" % treeHit)\n",
    "     if treeHit == 10:\n",
    "         print(\"나무 넘어갑니다.\")"
   ]
  },
  {
   "cell_type": "markdown",
   "id": "a2ab4084-b345-48c7-b7b2-fe3c375d5cd0",
   "metadata": {},
   "source": [
    "### While문 만들기"
   ]
  },
  {
   "cell_type": "code",
   "execution_count": 217,
   "id": "164fabc3-06e0-4a03-b289-8e0929f79156",
   "metadata": {},
   "outputs": [],
   "source": [
    "prompt = \"\"\"\n",
    "\n",
    "1. Add\n",
    "2. Del\n",
    "3. List\n",
    "4. Quit\n",
    "\n",
    "Enter number: \"\"\""
   ]
  },
  {
   "cell_type": "code",
   "execution_count": 220,
   "id": "a9935e34-81ec-4d87-a13b-65fa274236ba",
   "metadata": {},
   "outputs": [
    {
     "name": "stdout",
     "output_type": "stream",
     "text": [
      "\n",
      "\n",
      "1. Add\n",
      "2. Del\n",
      "3. List\n",
      "4. Quit\n",
      "\n",
      "Enter number: \n"
     ]
    },
    {
     "name": "stdin",
     "output_type": "stream",
     "text": [
      " 1\n"
     ]
    },
    {
     "name": "stdout",
     "output_type": "stream",
     "text": [
      "\n",
      "\n",
      "1. Add\n",
      "2. Del\n",
      "3. List\n",
      "4. Quit\n",
      "\n",
      "Enter number: \n"
     ]
    },
    {
     "name": "stdin",
     "output_type": "stream",
     "text": [
      " 2\n"
     ]
    },
    {
     "name": "stdout",
     "output_type": "stream",
     "text": [
      "\n",
      "\n",
      "1. Add\n",
      "2. Del\n",
      "3. List\n",
      "4. Quit\n",
      "\n",
      "Enter number: \n"
     ]
    },
    {
     "name": "stdin",
     "output_type": "stream",
     "text": [
      " 3\n"
     ]
    },
    {
     "name": "stdout",
     "output_type": "stream",
     "text": [
      "\n",
      "\n",
      "1. Add\n",
      "2. Del\n",
      "3. List\n",
      "4. Quit\n",
      "\n",
      "Enter number: \n"
     ]
    },
    {
     "name": "stdin",
     "output_type": "stream",
     "text": [
      " 4\n"
     ]
    }
   ],
   "source": [
    "number = 0\n",
    "while number != 4:\n",
    "    print(prompt)\n",
    "    number = int(input())"
   ]
  },
  {
   "cell_type": "markdown",
   "id": "0c852f9a-105f-4ff1-8108-6a363ec9564b",
   "metadata": {},
   "source": [
    "### while문 강제로 빠져나가기"
   ]
  },
  {
   "cell_type": "code",
   "execution_count": 226,
   "id": "8451f6f6-5af0-4b70-99c6-ff3c042b66e4",
   "metadata": {},
   "outputs": [
    {
     "name": "stdin",
     "output_type": "stream",
     "text": [
      "Please money. \n"
     ]
    },
    {
     "name": "stdout",
     "output_type": "stream",
     "text": [
      "Thank you Order. This order Milk Tea here. : 9\n"
     ]
    },
    {
     "name": "stdin",
     "output_type": "stream",
     "text": [
      "Please money. 300\n"
     ]
    },
    {
     "name": "stdout",
     "output_type": "stream",
     "text": [
      "Thank you Order. This order Milk Tea here. : 8\n"
     ]
    },
    {
     "name": "stdin",
     "output_type": "stream",
     "text": [
      "Please money. 450\n"
     ]
    },
    {
     "name": "stdout",
     "output_type": "stream",
     "text": [
      "Thank you Order. This order Milk Tea here. This change 150. : 7\n"
     ]
    },
    {
     "name": "stdin",
     "output_type": "stream",
     "text": [
      "Please money. 400\n"
     ]
    },
    {
     "name": "stdout",
     "output_type": "stream",
     "text": [
      "Thank you Order. This order Milk Tea here. This change 100. : 6\n"
     ]
    },
    {
     "name": "stdin",
     "output_type": "stream",
     "text": [
      "Please money. 120\n"
     ]
    },
    {
     "name": "stdout",
     "output_type": "stream",
     "text": [
      "Sorry too hear that.\n",
      "leftover milk tea : 6\n"
     ]
    },
    {
     "name": "stdin",
     "output_type": "stream",
     "text": [
      "Please money. 500\n"
     ]
    },
    {
     "name": "stdout",
     "output_type": "stream",
     "text": [
      "Thank you Order. This order Milk Tea here. This change 200. : 5\n"
     ]
    },
    {
     "name": "stdin",
     "output_type": "stream",
     "text": [
      "Please money. \n"
     ]
    },
    {
     "name": "stdout",
     "output_type": "stream",
     "text": [
      "Thank you Order. This order Milk Tea here. : 4\n"
     ]
    },
    {
     "name": "stdin",
     "output_type": "stream",
     "text": [
      "Please money. \n"
     ]
    },
    {
     "name": "stdout",
     "output_type": "stream",
     "text": [
      "Thank you Order. This order Milk Tea here. : 3\n"
     ]
    },
    {
     "name": "stdin",
     "output_type": "stream",
     "text": [
      "Please money. \n"
     ]
    },
    {
     "name": "stdout",
     "output_type": "stream",
     "text": [
      "Thank you Order. This order Milk Tea here. : 2\n"
     ]
    },
    {
     "name": "stdin",
     "output_type": "stream",
     "text": [
      "Please money. \n"
     ]
    },
    {
     "name": "stdout",
     "output_type": "stream",
     "text": [
      "Thank you Order. This order Milk Tea here. : 1\n"
     ]
    },
    {
     "name": "stdin",
     "output_type": "stream",
     "text": [
      "Please money. \n"
     ]
    },
    {
     "name": "stdout",
     "output_type": "stream",
     "text": [
      "Thank you Order. This order Milk Tea here. : 0\n",
      "We are closed today because we have run out of milk tea for today.\n"
     ]
    }
   ],
   "source": [
    "mtea = 10\n",
    "while True:\n",
    "    money = int(input('Please money.') or 300)\n",
    "    if 300 == money:\n",
    "        mtea -= 1\n",
    "        print(\"Thank you Order. This order Milk Tea here. : \" + str(mtea))\n",
    "    elif 300 < money:\n",
    "        mtea -= 1\n",
    "        print(f'Thank you Order. This order Milk Tea here. This change {money - 300}. : {str(mtea)}')\n",
    "    else:\n",
    "        print(f'Sorry too hear that.')\n",
    "        print('leftover milk tea : {0}'.format(mtea))\n",
    "\n",
    "    if 0 == mtea:\n",
    "        print('We are closed today because we have run out of milk tea for today.')\n",
    "        break"
   ]
  },
  {
   "cell_type": "markdown",
   "id": "c6c76b14-6bfc-46be-ab42-e06e5a8d675e",
   "metadata": {},
   "source": [
    "### while 문의 맨 처음으로 돌아가기"
   ]
  },
  {
   "cell_type": "code",
   "execution_count": 232,
   "id": "cbe0ba29-a28d-4ba8-94e0-ee19ff58f52b",
   "metadata": {},
   "outputs": [
    {
     "name": "stdout",
     "output_type": "stream",
     "text": [
      "1\n",
      "3\n",
      "5\n",
      "7\n",
      "9\n"
     ]
    }
   ],
   "source": [
    "a = 0\n",
    "\n",
    "while 10 > a:\n",
    "    a += 1\n",
    "    if a % 2 == 0: \n",
    "        # print(f'{a}...')\n",
    "        continue\n",
    "    print(a)"
   ]
  },
  {
   "cell_type": "markdown",
   "id": "9bbcb4d7-1583-4a13-9618-553b669acf92",
   "metadata": {},
   "source": [
    "### 무한루프"
   ]
  },
  {
   "cell_type": "code",
   "execution_count": 241,
   "id": "d0e556de-73c3-4641-9de7-7ea92e961acb",
   "metadata": {
    "scrolled": true
   },
   "outputs": [],
   "source": [
    "while not 'Loop Loop Loop..': # 실행시킨다면 not 제거..\n",
    "    print(\"This is here Jupyter-lab.. Can't use CTRL+C;;\")"
   ]
  },
  {
   "cell_type": "code",
   "execution_count": 238,
   "id": "49568929-02b1-425a-aa56-8fc81c9a68e7",
   "metadata": {},
   "outputs": [
    {
     "name": "stdout",
     "output_type": "stream",
     "text": [
      "Python 3.11.2\n"
     ]
    }
   ],
   "source": [
    "!python -V"
   ]
  },
  {
   "cell_type": "code",
   "execution_count": 236,
   "id": "9e5aaa8f-05be-420d-8f21-e66f22c5fe26",
   "metadata": {},
   "outputs": [
    {
     "name": "stdout",
     "output_type": "stream",
     "text": [
      "Selected Jupyter core packages...\n",
      "IPython          : 8.19.0\n",
      "ipykernel        : 6.28.0\n",
      "ipywidgets       : not installed\n",
      "jupyter_client   : 8.6.0\n",
      "jupyter_core     : 5.7.0\n",
      "jupyter_server   : 2.12.1\n",
      "jupyterlab       : 4.0.10\n",
      "nbclient         : 0.9.0\n",
      "nbconvert        : 7.14.0\n",
      "nbformat         : 5.9.2\n",
      "notebook         : not installed\n",
      "qtconsole        : not installed\n",
      "traitlets        : 5.14.1\n"
     ]
    }
   ],
   "source": [
    "!jupyter --version"
   ]
  },
  {
   "cell_type": "markdown",
   "id": "c86df07b-1b21-486e-ac31-a2b39a042faa",
   "metadata": {},
   "source": [
    "## for 문"
   ]
  },
  {
   "cell_type": "markdown",
   "id": "2d00d3cb-9ec3-48cb-abef-74aa216238bb",
   "metadata": {},
   "source": [
    "### for 구문\n",
    "- for <b>변수</b> in <mark>리스트(또는 튜플, 문자열)</mark>"
   ]
  },
  {
   "cell_type": "markdown",
   "id": "f018f8c8-7049-406d-8147-be9f9b7bf0d1",
   "metadata": {},
   "source": [
    "#### 전형적인 for문"
   ]
  },
  {
   "cell_type": "code",
   "execution_count": 243,
   "id": "877fe32b-4dac-4fa9-8aec-83c0b76511c5",
   "metadata": {},
   "outputs": [
    {
     "name": "stdout",
     "output_type": "stream",
     "text": [
      "1\n",
      "2\n",
      "3\n",
      "4\n",
      "5\n",
      "6\n",
      "7\n",
      "8\n",
      "9\n"
     ]
    }
   ],
   "source": [
    "for i in np.arange(1, 10).tolist():\n",
    "    print(i)"
   ]
  },
  {
   "cell_type": "markdown",
   "id": "4d9353c6-11fc-4d96-9f2a-112fa14f3f7e",
   "metadata": {},
   "source": [
    "#### 다양한 for 문의 사용"
   ]
  },
  {
   "cell_type": "code",
   "execution_count": 244,
   "id": "9ce46a08-b42d-4e5c-bef9-99382f38cce1",
   "metadata": {},
   "outputs": [
    {
     "name": "stdout",
     "output_type": "stream",
     "text": [
      "1 + 2 = 3\n",
      "3 + 4 = 7\n",
      "5 + 6 = 11\n"
     ]
    }
   ],
   "source": [
    "a = [(1,2), (3, 4), (5, 6)]\n",
    "for f,r in a:\n",
    "    print(f'{f} + {r} = {f + r}')"
   ]
  },
  {
   "cell_type": "code",
   "execution_count": 250,
   "id": "55ea78df-7249-4aaa-9668-2a47a1d31d2a",
   "metadata": {},
   "outputs": [
    {
     "name": "stdout",
     "output_type": "stream",
     "text": [
      "1 + 11 = 12 / 9\n",
      "2 + 22 = 24 / 8\n",
      "3 + 33 = 36 / 7\n",
      "4 + 44 = 48 / 6\n",
      "5 + 55 = 60 / 5\n",
      "6 + 66 = 72 / 4\n",
      "7 + 77 = 84 / 3\n",
      "8 + 88 = 96 / 2\n",
      "9 + 99 = 108 / 1\n"
     ]
    }
   ],
   "source": [
    "# for과 zip 운영.\n",
    "\n",
    "a = np.arange(1, 10).tolist()\n",
    "b = [11, 22, 33, 44, 55, 66, 77, 88, 99]\n",
    "c = np.arange(1, 10).tolist()\n",
    "c.reverse()\n",
    "for i, j, k in zip(a, b, c):\n",
    "    print(f'{i} + {j} = {i + j} / {k}')"
   ]
  },
  {
   "attachments": {
    "7a23da3c-9473-4ced-a5d5-5ed22d42a98c.png": {
     "image/png": "[encoded data removed]"
    }
   },
   "cell_type": "markdown",
   "id": "8b3bf510-d561-40d2-a746-0cf473c5d68c",
   "metadata": {},
   "source": [
    "<hr>\n",
    "- 다음 문제를 for, if를 통해 풀어보기  \n",
    "\n",
    "![image.png](attachment:7a23da3c-9473-4ced-a5d5-5ed22d42a98c.png)\n"
   ]
  },
  {
   "cell_type": "code",
   "execution_count": 252,
   "id": "fa2cb97a-8ce5-4572-9c6a-419f3c6a0889",
   "metadata": {},
   "outputs": [
    {
     "name": "stdout",
     "output_type": "stream",
     "text": [
      "1번 학생 합격!\n",
      "2번 학생 불합격!\n",
      "3번 학생 합격!\n",
      "4번 학생 불합격!\n",
      "5번 학생 합격!\n"
     ]
    }
   ],
   "source": [
    "#총 5명의 학생이 시험을 보았는데 시험 점수가 60점 이상이면 합격이고 그렇지 않으면 불합격이다. 합격인지, 불합격인지 결과를 보여 주시오.\n",
    "marks = [90, 25, 67, 45, 80] # [15, 30, 80, 75, 60]\n",
    "\n",
    "num = 0\n",
    "for mark in marks:\n",
    "    num += 1\n",
    "    if 60 <= mark:\n",
    "        print(f'{num}번 학생 합격!')\n",
    "    else:\n",
    "        print(f'{num}번 학생 불합격!')"
   ]
  },
  {
   "cell_type": "markdown",
   "id": "6d1a7fb1-3f5c-4b93-ac18-04c3f9022a4a",
   "metadata": {},
   "source": [
    "### for / continue 문 *"
   ]
  },
  {
   "cell_type": "code",
   "execution_count": 254,
   "id": "9f40d2dd-751a-4f1a-adb5-5c00d4b0e6df",
   "metadata": {},
   "outputs": [
    {
     "name": "stdout",
     "output_type": "stream",
     "text": [
      "1번 학생 90 합격!\n",
      "3번 학생 67 합격!\n",
      "5번 학생 80 합격!\n"
     ]
    }
   ],
   "source": [
    "marks = [90, 25, 67, 45, 80] # [15, 30, 80, 75, 60]\n",
    "\n",
    "num = 0\n",
    "for mark in marks:\n",
    "    num += 1\n",
    "    if 60 > mark:\n",
    "        continue;\n",
    "    print(f'{num}번 학생 {mark} 합격!')\n",
    "    "
   ]
  },
  {
   "cell_type": "markdown",
   "id": "b0a29c2c-1936-4386-ae8a-0523ce6f2bfa",
   "metadata": {},
   "source": [
    "### for문과 range함수 **"
   ]
  },
  {
   "cell_type": "code",
   "execution_count": 269,
   "id": "6c0dd894-943e-4081-8df8-ac7b499e5150",
   "metadata": {},
   "outputs": [
    {
     "name": "stdout",
     "output_type": "stream",
     "text": [
      "[0, 1, 2, 3, 4, 5, 6, 7, 8, 9]\n",
      "(0, 1, 2, 3, 4, 5, 6, 7, 8, 9)\n",
      "{0, 1, 2, 3, 4, 5, 6, 7, 8, 9}\n",
      "[0, 1, 2, 3, 4, 5, 6, 7, 8, 9]\n"
     ]
    }
   ],
   "source": [
    "a = range(10) # 0 <= a < 10, ex   # js : for (let i =0; i < 10; i++)\n",
    "print(list(a))\n",
    "print(tuple(a))\n",
    "print(set(a))\n",
    "\n",
    "b = np.arange(10).tolist()\n",
    "print(b)"
   ]
  },
  {
   "cell_type": "markdown",
   "id": "22b6c724-d795-49dc-887e-db68af151c15",
   "metadata": {},
   "source": [
    "- range함수의 예시"
   ]
  },
  {
   "cell_type": "code",
   "execution_count": 275,
   "id": "5292706d-2139-4b2b-9d95-cf943efd190b",
   "metadata": {
    "scrolled": true
   },
   "outputs": [
    {
     "name": "stdout",
     "output_type": "stream",
     "text": [
      "55\n",
      "55\n"
     ]
    }
   ],
   "source": [
    "add = 0\n",
    "for i in range(1, 11):\n",
    "    add += i\n",
    "print(add)\n",
    "\n",
    "add = 0\n",
    "for i in np.arange(1, 11):\n",
    "    add += i\n",
    "print(add)"
   ]
  },
  {
   "cell_type": "markdown",
   "id": "3fb27dfc-04ad-4d58-bbaa-bb2a16ab9b5e",
   "metadata": {},
   "source": [
    "- 응용1"
   ]
  },
  {
   "cell_type": "code",
   "execution_count": 280,
   "id": "a858faa9-6feb-444c-93c9-f5095859c294",
   "metadata": {},
   "outputs": [
    {
     "name": "stdout",
     "output_type": "stream",
     "text": [
      "1번 학생 80 합격!\n",
      "3번 학생 80 합격!\n",
      "5번 학생 80 합격!\n"
     ]
    }
   ],
   "source": [
    "marks = [90, 25, 67, 45, 80] # [15, 30, 80, 75, 60]\n",
    "\n",
    "num = 0\n",
    "for idx in range(len(marks)):\n",
    "    num += 1\n",
    "    if 60 > marks[idx]:\n",
    "        continue;\n",
    "    print(f'{num}번 학생 {mark} 합격!')"
   ]
  },
  {
   "cell_type": "markdown",
   "id": "3ed0519d-0977-44f0-afa8-a2b0f549c979",
   "metadata": {},
   "source": [
    "- 응용2"
   ]
  },
  {
   "cell_type": "code",
   "execution_count": 286,
   "id": "ef630f7a-faec-4a75-89ff-f41e364c22da",
   "metadata": {},
   "outputs": [
    {
     "name": "stdout",
     "output_type": "stream",
     "text": [
      "[0, 1, 2, 3, 4, 5, 6, 7, 8, 9]\n",
      "[0, 1, 2, 3, 4, 5, 6, 7, 8, 9]\n",
      "True\n",
      "[4, 6, 8, 10, 12, 14, 16, 18]\n",
      "[10, 9, 8, 7, 6, 5, 4, 3, 2, 1]\n"
     ]
    }
   ],
   "source": [
    "a = range(0, 10, 1)\n",
    "b = range(10)\n",
    "print(list(a))\n",
    "print(list(b))\n",
    "print(a == b)\n",
    "print(list(range(4, 20, 2)))\n",
    "print(list(range(10, 0 , -1)))"
   ]
  },
  {
   "cell_type": "code",
   "execution_count": 284,
   "id": "7f46fa1f-2f4e-4393-ac6a-652d5d5b1256",
   "metadata": {},
   "outputs": [
    {
     "name": "stdout",
     "output_type": "stream",
     "text": [
      "0 90\n",
      "1 25\n",
      "2 67\n",
      "3 45\n",
      "4 80\n"
     ]
    }
   ],
   "source": [
    "marks = [90, 25, 67, 45, 80]\n",
    "\n",
    "for i, v in enumerate(marks):\n",
    "    print(i, v)\n"
   ]
  },
  {
   "cell_type": "code",
   "execution_count": 283,
   "id": "df2a00f7-783b-48f4-8d6a-50901e229907",
   "metadata": {},
   "outputs": [
    {
     "name": "stdout",
     "output_type": "stream",
     "text": [
      "1 1 0\n",
      "4 2 1\n",
      "9 3 2\n",
      "16 4 3\n",
      "25 5 4\n",
      "36 6 5\n",
      "49 7 6\n",
      "64 8 7\n",
      "81 9 8\n",
      "100 10 9\n",
      "100\n"
     ]
    }
   ],
   "source": [
    "add = 0\n",
    "for i, v in enumerate(range(1, 11)):\n",
    "    add += (v + i)\n",
    "    print(add, v, i)\n",
    "print(add)"
   ]
  },
  {
   "cell_type": "markdown",
   "id": "71dc5203-272e-4713-9df3-f8c1cccef623",
   "metadata": {},
   "source": [
    "#### for, range를 이용한 구구단\n",
    "- 별거아닌.."
   ]
  },
  {
   "cell_type": "code",
   "execution_count": 322,
   "id": "9044de53-df2f-42aa-9fe8-eb6b9ffb91aa",
   "metadata": {},
   "outputs": [
    {
     "name": "stdout",
     "output_type": "stream",
     "text": [
      "====1단====\t====2단====\t====3단====\t====4단====\t====5단====\t====6단====\t\n",
      "1 * 1 = 1\t1 * 2 = 2\t1 * 3 = 3\t1 * 4 = 4\t1 * 5 = 5\t1 * 6 = 6\t\n",
      "2 * 1 = 2\t2 * 2 = 4\t2 * 3 = 6\t2 * 4 = 8\t2 * 5 = 10\t2 * 6 = 12\t\n",
      "3 * 1 = 3\t3 * 2 = 6\t3 * 3 = 9\t3 * 4 = 12\t3 * 5 = 15\t3 * 6 = 18\t\n",
      "4 * 1 = 4\t4 * 2 = 8\t4 * 3 = 12\t4 * 4 = 16\t4 * 5 = 20\t4 * 6 = 24\t\n",
      "5 * 1 = 5\t5 * 2 = 10\t5 * 3 = 15\t5 * 4 = 20\t5 * 5 = 25\t5 * 6 = 30\t\n",
      "6 * 1 = 6\t6 * 2 = 12\t6 * 3 = 18\t6 * 4 = 24\t6 * 5 = 30\t6 * 6 = 36\t\n",
      "7 * 1 = 7\t7 * 2 = 14\t7 * 3 = 21\t7 * 4 = 28\t7 * 5 = 35\t7 * 6 = 42\t\n",
      "8 * 1 = 8\t8 * 2 = 16\t8 * 3 = 24\t8 * 4 = 32\t8 * 5 = 40\t8 * 6 = 48\t\n",
      "9 * 1 = 9\t9 * 2 = 18\t9 * 3 = 27\t9 * 4 = 36\t9 * 5 = 45\t9 * 6 = 54\t\n",
      "\n"
     ]
    }
   ],
   "source": [
    "out = \"\"\n",
    "\n",
    "# 시간 읍읍..\n",
    "# min_gugu = 1\n",
    "# max_gugu = 10\n",
    "# max_oneline = 5\n",
    "\n",
    "for i in range(1, (6 + 1)):\n",
    "    out += (f'{str(i) + \"단\":=^10}\\t')\n",
    "\n",
    "out += \"\\n\"\n",
    "\n",
    "for i in range(1, (9 + 1)):\n",
    "    for j in range(1, (6 + 1)):\n",
    "        out += f'{i} * {j} = {i * j}\\t'\n",
    "    out += '\\n'\n",
    "print(out)"
   ]
  },
  {
   "cell_type": "markdown",
   "id": "1d8cd4e6-61f7-4979-bf0d-ed3ebad2f60d",
   "metadata": {},
   "source": [
    "### 리스트 컴프리헨션 **"
   ]
  },
  {
   "cell_type": "code",
   "execution_count": 316,
   "id": "7d7b4490-89e0-439a-bd4f-1084fa36d855",
   "metadata": {},
   "outputs": [
    {
     "name": "stdout",
     "output_type": "stream",
     "text": [
      "[1, 2, 3, 4, 5]\n",
      "[3, 6, 9, 12, 15]\n"
     ]
    }
   ],
   "source": [
    "# 일반적.\n",
    "a = range(1, 5+1) # 1, 2, 3, 4, 5\n",
    "res = []\n",
    "print(list(a))\n",
    "\n",
    "for num in a:\n",
    "    res.append(num * 3)\n",
    "print(res)"
   ]
  },
  {
   "cell_type": "code",
   "execution_count": 324,
   "id": "14514621-4e34-4108-b50e-5bdb2665b9ec",
   "metadata": {},
   "outputs": [
    {
     "name": "stdout",
     "output_type": "stream",
     "text": [
      "[1, 2, 3, 4, 5]\n",
      "[3, 6, 9, 12, 15]\n"
     ]
    }
   ],
   "source": [
    "# 리스트 컴프리헨션\n",
    "a = range(1, 5+1) # 1, 2, 3, 4, 5\n",
    "res = [num * 3 for num in a] # 기억할 것.\n",
    "print(list(a))\n",
    "print(res)"
   ]
  },
  {
   "cell_type": "code",
   "execution_count": 327,
   "id": "f3f8559b-ffa3-494d-aeb5-57291e45aec9",
   "metadata": {},
   "outputs": [
    {
     "name": "stdout",
     "output_type": "stream",
     "text": [
      "[1, 2, 3, 4, 5]\n",
      "[6, 12]\n"
     ]
    }
   ],
   "source": [
    "# 리스트 컴프리헨션 (if와 사용할 때)\n",
    "a = range(1, 5+1) # 1, 2, 3, 4, 5\n",
    "res = [num * 3 for num in a if 0 == num%2] # 기억할 것.\n",
    "print(list(a))\n",
    "print(res)"
   ]
  },
  {
   "cell_type": "code",
   "execution_count": 329,
   "id": "8ebd7276-84f3-48da-86d1-19fdc7ff849f",
   "metadata": {},
   "outputs": [
    {
     "name": "stdout",
     "output_type": "stream",
     "text": [
      "[2, 4, 6, 8, 10, 12, 14, 16, 18, 3, 6, 9, 12, 15, 18, 21, 24, 27, 4, 8, 12, 16, 20, 24, 28, 32, 36, 5, 10, 15, 20, 25, 30, 35, 40, 45, 6, 12, 18, 24, 30, 36, 42, 48, 54, 7, 14, 21, 28, 35, 42, 49, 56, 63, 8, 16, 24, 32, 40, 48, 56, 64, 72, 9, 18, 27, 36, 45, 54, 63, 72, 81]\n"
     ]
    }
   ],
   "source": [
    "# \n",
    "res = [ i*j for i in range(2, 10)\n",
    "              for j in range(1, 10) ]\n",
    "print(res)"
   ]
  },
  {
   "cell_type": "markdown",
   "id": "174b2e96-55db-4dfc-8c1e-49f709dae18e",
   "metadata": {},
   "source": [
    "### 풀이"
   ]
  },
  {
   "cell_type": "markdown",
   "id": "ac6ac593-29b4-4c23-8d54-abbc9254708d",
   "metadata": {},
   "source": [
    "1. 자판기 만들어보기\n",
    "2. a) 물건 값 입력, b) 지불할 돈을 입력\n",
    "3. 거스름돈을 계산.\n",
    "   - 단, 1000원 짜리 몇장 500원 짜리 몇개 등으로 잔돈을 구비하여 출력.\n",
    "4. 예) 물건 값: 3200원, 지불한 돈: 10000원.  \n",
    "　　　　　　10000원 x 0장  \n",
    "　　　　　　&nbsp;5000원 x 1장  \n",
    "　　　　　　&nbsp;1000원 x 1장  \n",
    "　　　　　　&nbsp;&nbsp;500원 x 1개  \n",
    "　　　　　　&nbsp;&nbsp;100원 x 3개  \n",
    "　　　　　　&nbsp;&nbsp;&nbsp;50원 x 0개 ...  \n",
    "　　등의 표현으로 출력.  "
   ]
  },
  {
   "cell_type": "code",
   "execution_count": 2,
   "id": "142f841f-117c-49ab-abab-97abcf6085c8",
   "metadata": {},
   "outputs": [
    {
     "name": "stdin",
     "output_type": "stream",
     "text": [
      "물건 값 입력 :  30000\n",
      "지불한 값 입력 :  143250\n"
     ]
    },
    {
     "name": "stdout",
     "output_type": "stream",
     "text": [
      "거스름돈 : 113250\n",
      "10000원 x 11개\n",
      "5000원 x 0개\n",
      "1000원 x 3개\n",
      "500원 x 0개\n",
      "100원 x 2개\n",
      "50원 x 1개\n",
      "10원 x 0개\n"
     ]
    }
   ],
   "source": [
    "a = int( input('물건 값 입력 : ') or 3000 )\n",
    "b = int( input('지불한 값 입력 : ') or 5000 )\n",
    "money = [10000, 5000, 1000, 500, 100, 50 , 10]\n",
    "\n",
    "# left money.\n",
    "lm = b - a\n",
    "\n",
    "if 0 > lm :\n",
    "    print(f'돈 부족 합니다... 물건 값: {a}, 지불한 돈: {b}')\n",
    "else:\n",
    "    print(f'거스름돈 : {lm}') \n",
    "    # mcv : money count val\n",
    "    for mcv in money:\n",
    "        mc = int(lm / mcv)\n",
    "        if money[-1] < lm: lm -= (mc * mcv)\n",
    "        print(f'{mcv}원 x {mc}개')"
   ]
  },
  {
   "cell_type": "markdown",
   "id": "80b3a94b-7123-4049-917a-7a517c0dea08",
   "metadata": {},
   "source": [
    "# 파이썬 입출력"
   ]
  },
  {
   "cell_type": "markdown",
   "id": "43915ee2-15a4-4bfb-858e-1e9ddd31099b",
   "metadata": {},
   "source": [
    "## 함수"
   ]
  },
  {
   "cell_type": "markdown",
   "id": "396ae2aa-551d-4e10-8736-6f15fb9d6452",
   "metadata": {},
   "source": [
    "### 파이썬 함수"
   ]
  },
  {
   "cell_type": "code",
   "execution_count": 4,
   "id": "6a662452-5ec0-4c0b-aff4-617bf7be3d77",
   "metadata": {},
   "outputs": [],
   "source": [
    "def add(a, b):\n",
    "    print('입력하신 {0}과 {1}을 더하면 {2}입니다.'.format(a, b, a + b))\n",
    "    return a+b"
   ]
  },
  {
   "cell_type": "code",
   "execution_count": 5,
   "id": "4f19308e-4867-4e2d-80e6-142f0da657c6",
   "metadata": {},
   "outputs": [
    {
     "name": "stdout",
     "output_type": "stream",
     "text": [
      "입력하신 3과 4을 더하면 7입니다.\n"
     ]
    },
    {
     "data": {
      "text/plain": [
       "7"
      ]
     },
     "execution_count": 5,
     "metadata": {},
     "output_type": "execute_result"
    }
   ],
   "source": [
    "add(3, 4)"
   ]
  },
  {
   "cell_type": "markdown",
   "id": "3fccdf89-620d-4e81-a5f4-8b954efbeb2c",
   "metadata": {},
   "source": [
    "### 매개변수와 인수"
   ]
  },
  {
   "attachments": {
    "23c71d40-aa25-4e50-ba14-f29ce2c14a5a.png": {
     "image/png": "[encoded data removed]"
    }
   },
   "cell_type": "markdown",
   "id": "2ce300f7-e5ca-405e-aad5-ea84fb69c023",
   "metadata": {},
   "source": [
    "- 매개변수와 인수는 혼용  \n",
    "      - 매개변수 : 함수에 입력으로 전달된 값을 받는 변수  \n",
    "      - 인수     : 함수를 호출할 때 전달하는 입력값\n",
    "\n",
    "### 입력값과 리턴값에 따른 함수의 형태\n",
    "\n",
    "![image.png](attachment:23c71d40-aa25-4e50-ba14-f29ce2c14a5a.png)"
   ]
  },
  {
   "cell_type": "markdown",
   "id": "45af7ca1-ce94-4b27-a2c2-dca8a7c8e993",
   "metadata": {},
   "source": [
    "#### 일반적인 함수"
   ]
  },
  {
   "cell_type": "code",
   "execution_count": 6,
   "id": "42942871-a9aa-43d3-bce5-eefafa2058f5",
   "metadata": {},
   "outputs": [],
   "source": [
    "def mul(a, b):\n",
    "    return a * b"
   ]
  },
  {
   "cell_type": "markdown",
   "id": "f99afae3-b34a-4a46-b555-1a2dceeb054e",
   "metadata": {},
   "source": [
    "#### 입력값이 없는 함수"
   ]
  },
  {
   "cell_type": "code",
   "execution_count": 9,
   "id": "b9aa3d6b-386f-4352-a978-59baa27836d5",
   "metadata": {},
   "outputs": [],
   "source": [
    "def say():\n",
    "    print('I\\'ll say that Hello Hi.')\n",
    "    return 'Hi'"
   ]
  },
  {
   "cell_type": "code",
   "execution_count": 10,
   "id": "b3e50a06-bd67-49df-9214-d683e6280e92",
   "metadata": {},
   "outputs": [
    {
     "name": "stdout",
     "output_type": "stream",
     "text": [
      "I'll say that Hello Hi.\n"
     ]
    }
   ],
   "source": [
    "a = say()"
   ]
  },
  {
   "cell_type": "code",
   "execution_count": 11,
   "id": "ffcff4f2-64a6-40b3-b1e6-f100995964d7",
   "metadata": {},
   "outputs": [
    {
     "name": "stdout",
     "output_type": "stream",
     "text": [
      "Hi\n"
     ]
    }
   ],
   "source": [
    "print(a)"
   ]
  },
  {
   "cell_type": "code",
   "execution_count": 12,
   "id": "555fa90c-ec8c-4ac3-a85e-da9573e69ef2",
   "metadata": {},
   "outputs": [],
   "source": [
    "a = say # 함수의 복사 실행은 안됨."
   ]
  },
  {
   "cell_type": "code",
   "execution_count": 13,
   "id": "5eee3245-a851-42c3-8d5f-a1984e06e180",
   "metadata": {},
   "outputs": [
    {
     "name": "stdout",
     "output_type": "stream",
     "text": [
      "<function say at 0xf03992a8>\n",
      "I'll say that Hello Hi.\n",
      "Hi\n"
     ]
    }
   ],
   "source": [
    "print(a)\n",
    "print(a())"
   ]
  },
  {
   "cell_type": "markdown",
   "id": "f59ee024-5e54-49fb-905f-2361f84b08d1",
   "metadata": {},
   "source": [
    "- 함수호출시 결과는 print함수가 포함될때는 나오며..\n",
    "- 반환값 있을 경우 그 값을 찍을때 코드대로 반환값이 나오므로 혼동없길 바람."
   ]
  },
  {
   "cell_type": "markdown",
   "id": "dc89d7bd-a1d1-4904-af1c-7be5af704f8e",
   "metadata": {},
   "source": [
    "#### 리턴값이 없는 함수"
   ]
  },
  {
   "cell_type": "code",
   "execution_count": 14,
   "id": "357ca70d-b379-469d-bf43-b08dceb8cf5c",
   "metadata": {},
   "outputs": [],
   "source": [
    "def add(a, b):\n",
    "    print(\"%d, %d의 합은 %d입니다.\" % (a, b, (a+b)))"
   ]
  },
  {
   "cell_type": "code",
   "execution_count": 15,
   "id": "31d6c628-943f-4af3-972e-ec2828c478b1",
   "metadata": {},
   "outputs": [
    {
     "name": "stdout",
     "output_type": "stream",
     "text": [
      "3, 4의 합은 7입니다.\n"
     ]
    }
   ],
   "source": [
    "add( 3, 4 )"
   ]
  },
  {
   "cell_type": "code",
   "execution_count": 19,
   "id": "24167258-470c-4b2b-b547-1719ece1a1fe",
   "metadata": {},
   "outputs": [
    {
     "name": "stdout",
     "output_type": "stream",
     "text": [
      "3, 4의 합은 7입니다.\n",
      "None\n"
     ]
    }
   ],
   "source": [
    "a = add(3, 4)\n",
    "print(a)"
   ]
  },
  {
   "cell_type": "markdown",
   "id": "20774c35-9ec2-489e-bf1d-fde82a6721ff",
   "metadata": {},
   "source": [
    "#### 입력값도, 리턴값도 없는 함수"
   ]
  },
  {
   "cell_type": "code",
   "execution_count": 20,
   "id": "dec01d56-48a7-4425-aa2b-1e97ea1daa1f",
   "metadata": {},
   "outputs": [],
   "source": [
    "def say():\n",
    "    print('hi')\n",
    "    # none return"
   ]
  },
  {
   "cell_type": "code",
   "execution_count": 21,
   "id": "c39c730f-63ed-4713-826d-f6f24daa8681",
   "metadata": {},
   "outputs": [
    {
     "name": "stdout",
     "output_type": "stream",
     "text": [
      "hi\n"
     ]
    }
   ],
   "source": [
    "say()"
   ]
  },
  {
   "cell_type": "markdown",
   "id": "b58fe233-e74f-4ad3-b1ec-5addf6966c7e",
   "metadata": {},
   "source": [
    "### 매개변수를 지정하여 호출하기(초기값)"
   ]
  },
  {
   "cell_type": "code",
   "execution_count": 22,
   "id": "4f7e2377-40bc-497f-ba42-d1ab5c75a051",
   "metadata": {},
   "outputs": [],
   "source": [
    "def sub(a=7, b=3): # 순서는 상관없음(b=5, a=3)\n",
    "    return a - b"
   ]
  },
  {
   "cell_type": "code",
   "execution_count": 23,
   "id": "0b5c7a77-2fb3-48aa-892d-6d5057aca358",
   "metadata": {},
   "outputs": [
    {
     "name": "stdout",
     "output_type": "stream",
     "text": [
      "4\n"
     ]
    }
   ],
   "source": [
    "res = sub()\n",
    "print(res)"
   ]
  },
  {
   "cell_type": "markdown",
   "id": "86730a0a-e8e3-49aa-aadd-ca2e1fd0bfb4",
   "metadata": {},
   "source": [
    "### 입력값이 몇 개가 될지 모를 때"
   ]
  },
  {
   "cell_type": "markdown",
   "id": "2e36765c-8452-449f-bd45-bcb11f5b2bc2",
   "metadata": {},
   "source": [
    "#### 여러 개의 입력값을 받는 함수 만들기"
   ]
  },
  {
   "cell_type": "code",
   "execution_count": 26,
   "id": "351664b5-a1d7-4813-bec2-398a32caa856",
   "metadata": {},
   "outputs": [],
   "source": [
    "def add_many(*args):\n",
    "    res = 0\n",
    "    print(type(args), args)\n",
    "    for i in args:\n",
    "        res += i\n",
    "    return res"
   ]
  },
  {
   "cell_type": "code",
   "execution_count": 27,
   "id": "c6e0467b-b2de-49b6-ab44-366294dd035c",
   "metadata": {},
   "outputs": [
    {
     "name": "stdout",
     "output_type": "stream",
     "text": [
      "<class 'tuple'> (1, 2, 3, 4, 5, 6, 7, 8, 9, 10)\n",
      "55\n"
     ]
    }
   ],
   "source": [
    "res = add_many(1,2,3,4,5,6,7,8,9,10)\n",
    "print(res)"
   ]
  },
  {
   "cell_type": "code",
   "execution_count": 28,
   "id": "6d3d83be-0cbf-4d03-b723-15743ed4804d",
   "metadata": {},
   "outputs": [],
   "source": [
    "def add_mul(choice, *args):\n",
    "    if 'add' == choice:\n",
    "        res = 0\n",
    "        for i in args:\n",
    "            res += i\n",
    "    elif 'mul' == choice:\n",
    "        res = 1\n",
    "        for i in args:\n",
    "            res *= i\n",
    "    return res"
   ]
  },
  {
   "cell_type": "code",
   "execution_count": 30,
   "id": "20136cd0-b450-421f-9196-714656e5d2b2",
   "metadata": {},
   "outputs": [
    {
     "name": "stdout",
     "output_type": "stream",
     "text": [
      "15\n",
      "120\n"
     ]
    }
   ],
   "source": [
    "res = add_mul('add', 1,2,3,4,5)\n",
    "res2 = add_mul('mul', 1,2,3,4,5)\n",
    "print(res)\n",
    "print(res2)"
   ]
  },
  {
   "cell_type": "markdown",
   "id": "6ef30003-e144-4ade-849d-366bb0da3e25",
   "metadata": {},
   "source": [
    "- 응용1 변수에 튜플담아서 변수에 *"
   ]
  },
  {
   "cell_type": "code",
   "execution_count": 31,
   "id": "ba2fd68b-db4b-44ea-81cb-3b053ccebdd8",
   "metadata": {},
   "outputs": [
    {
     "name": "stdout",
     "output_type": "stream",
     "text": [
      "45\n",
      "55\n"
     ]
    }
   ],
   "source": [
    "rp = 1,2,3,4,5,6,7,8,9\n",
    "lt = [1,2,3,4,5,6,7,8,9,10]\n",
    "res3 = add_mul('add', *rp)\n",
    "res4 = add_mul('add', *lt)\n",
    "print(res3)\n",
    "print(res4)"
   ]
  },
  {
   "cell_type": "markdown",
   "id": "7c86ae90-9842-4c85-957a-084a6ccf5068",
   "metadata": {},
   "source": [
    "- 응용2 args요소에 접근"
   ]
  },
  {
   "cell_type": "code",
   "execution_count": 61,
   "id": "497bcaec-59e1-4be6-88a8-8db4b8d4ba10",
   "metadata": {},
   "outputs": [],
   "source": [
    "def add_new(*args):\n",
    "    res = 0\n",
    "    if 'add' == args[0][0]:\n",
    "        carr = args[0][1:]\n",
    "        for i in carr:\n",
    "            res += i\n",
    "    elif 'mul' == args[0][0]:\n",
    "        res = 1\n",
    "        carr = args[0][1:]\n",
    "        for i in carr:\n",
    "            res *= i\n",
    "    return res"
   ]
  },
  {
   "cell_type": "code",
   "execution_count": 64,
   "id": "a0ee4f7e-1ddb-4a10-82f8-c9ab36acb029",
   "metadata": {},
   "outputs": [
    {
     "data": {
      "text/plain": [
       "45"
      ]
     },
     "execution_count": 64,
     "metadata": {},
     "output_type": "execute_result"
    }
   ],
   "source": [
    "ar = 'add',1,2,3,4,5,6,7,8,9\n",
    "add_new(ar)"
   ]
  },
  {
   "cell_type": "markdown",
   "id": "af62474f-0e02-49b1-85f0-ceb9c9f7ec74",
   "metadata": {},
   "source": [
    "#### 키워드 매개변수, kwargs*\n",
    "- 키워드 매개변수를 사용할때는 매개변수 앞에 별 2개(**)를 붙인다."
   ]
  },
  {
   "cell_type": "code",
   "execution_count": 71,
   "id": "ac286fa8-a62e-4c6b-bf1f-8e421eeb5e69",
   "metadata": {},
   "outputs": [
    {
     "name": "stdout",
     "output_type": "stream",
     "text": [
      "func in {'a': 1, 'b': 2}\n",
      "func out {'a': 1, 'b': 2}\n"
     ]
    }
   ],
   "source": [
    "def dic_maker(**kwargs):\n",
    "    print(f'func in {kwargs}')\n",
    "    return kwargs\n",
    "a = 1\n",
    "print('func out', dic_maker(a=1, b=2))"
   ]
  },
  {
   "cell_type": "markdown",
   "id": "4f5e7c5b-e16e-4e0d-93f4-0e8f84f224b2",
   "metadata": {},
   "source": [
    "### 함수의 리턴값은 언제나 하나이다.**"
   ]
  },
  {
   "cell_type": "code",
   "execution_count": 72,
   "id": "397ad412-2d7f-42b8-83e1-1314ab5c9018",
   "metadata": {},
   "outputs": [],
   "source": [
    "def add2(a, b):\n",
    "    print(f'{a+b}, {a*b}')\n",
    "    return a+b, a*b"
   ]
  },
  {
   "cell_type": "code",
   "execution_count": 73,
   "id": "9f146f8a-3d82-48e8-8b7c-86626a957eb5",
   "metadata": {},
   "outputs": [
    {
     "name": "stdout",
     "output_type": "stream",
     "text": [
      "7, 12\n"
     ]
    },
    {
     "data": {
      "text/plain": [
       "(7, 12)"
      ]
     },
     "execution_count": 73,
     "metadata": {},
     "output_type": "execute_result"
    }
   ],
   "source": [
    "add2(3, 4)"
   ]
  },
  {
   "cell_type": "markdown",
   "id": "428be6da-06d0-4d50-a04a-cb45f0d3350a",
   "metadata": {},
   "source": [
    "- 2개이상 리턴되면 결국 하나로 튜플에 묶여나옴\n",
    "- 결국 리턴은 하나임을 보임"
   ]
  },
  {
   "cell_type": "code",
   "execution_count": 74,
   "id": "fc86cef9-3bc5-4d5e-b61a-91c040ad6ca7",
   "metadata": {},
   "outputs": [],
   "source": [
    "def add3(a, b):\n",
    "    if 0 == a: return\n",
    "    print(f'1: {a+b}, {a*b}의 결과')\n",
    "    return a+b\n",
    "    print(f'2: {a+b}의 결과')\n",
    "    return a*b\n",
    "    print(f'3: {a*b}의 결과') # 절대 수행 안될듯함.."
   ]
  },
  {
   "cell_type": "code",
   "execution_count": 75,
   "id": "69f460f4-c2c9-4378-aa1b-4a5cb1574fca",
   "metadata": {},
   "outputs": [
    {
     "name": "stdout",
     "output_type": "stream",
     "text": [
      "1: 7, 12의 결과\n",
      "7\n",
      "None\n"
     ]
    }
   ],
   "source": [
    "result = add3( 3, 4 )\n",
    "print( result )\n",
    "res2 = add3( 0, 12434)\n",
    "print(res2)"
   ]
  },
  {
   "cell_type": "markdown",
   "id": "255cc0e2-2fca-403d-9b0b-eafe306db595",
   "metadata": {},
   "source": [
    "### 매개변수에 초기값 미리 설정"
   ]
  },
  {
   "cell_type": "code",
   "execution_count": 76,
   "id": "3f54e537-292b-4601-873d-2c922d79719a",
   "metadata": {},
   "outputs": [],
   "source": [
    "def say_myself(name, age, man=True): # 초기값은 마지막에 설정.\n",
    "    print(\"my name is %s\" % name)\n",
    "    print(\"my age is %d\" % age)\n",
    "\n",
    "    if man:\n",
    "        print( \"I'm Man.\" )\n",
    "    else:\n",
    "        print( \"I'm Woman\" )"
   ]
  },
  {
   "cell_type": "code",
   "execution_count": 77,
   "id": "0ff044f4-6bc0-4f22-bee5-0fbea2e07af2",
   "metadata": {},
   "outputs": [
    {
     "name": "stdout",
     "output_type": "stream",
     "text": [
      "my name is P\n",
      "my age is 27\n",
      "I'm Man.\n",
      "my name is P\n",
      "my age is 27\n",
      "I'm Man.\n"
     ]
    }
   ],
   "source": [
    "say_myself(\"P\", 27)\n",
    "say_myself(\"P\", 27, True)"
   ]
  },
  {
   "cell_type": "markdown",
   "id": "976701de-afb0-46e7-8511-74ca3e365600",
   "metadata": {},
   "source": [
    "### 함수 안에서 선언한 변수의 효력 볌위 **"
   ]
  },
  {
   "cell_type": "code",
   "execution_count": 79,
   "id": "5bfe9ee6-c559-49a6-ad50-95b225c8499b",
   "metadata": {},
   "outputs": [
    {
     "name": "stdout",
     "output_type": "stream",
     "text": [
      "2\n",
      "1\n"
     ]
    }
   ],
   "source": [
    "a = 1\n",
    "def vartest(a):\n",
    "    a = a + 1\n",
    "    print(a)\n",
    "vartest(a)\n",
    "print(a)"
   ]
  },
  {
   "cell_type": "markdown",
   "id": "b79f348e-01ee-463b-9af5-5e57cd9f94c7",
   "metadata": {},
   "source": [
    "### 함수 안에서 함수 밖의 변수를 변경하는 방법 *"
   ]
  },
  {
   "cell_type": "markdown",
   "id": "001dcfc9-43b4-43d0-b1c7-7bcad9ea3684",
   "metadata": {},
   "source": [
    "#### 1) return 사용하기 <어쩔수 없는 방법중에 제일 좋은 방법>"
   ]
  },
  {
   "cell_type": "code",
   "execution_count": 80,
   "id": "32afb65b-0f7c-4768-b081-cc2eca9e6b5d",
   "metadata": {},
   "outputs": [
    {
     "name": "stdout",
     "output_type": "stream",
     "text": [
      "2\n"
     ]
    }
   ],
   "source": [
    "a = 1\n",
    "def vartest(a):\n",
    "    a = a + 1\n",
    "    return a\n",
    "a = vartest(a)\n",
    "print(a)"
   ]
  },
  {
   "cell_type": "markdown",
   "id": "3d45679d-d1aa-4445-85ef-2f138a8de17a",
   "metadata": {},
   "source": [
    "#### global 명령어 사용;; <될 수 있으면 피해야되는 방법>"
   ]
  },
  {
   "cell_type": "code",
   "execution_count": 95,
   "id": "091fe515-3c08-45ef-af15-2521b5a4d271",
   "metadata": {},
   "outputs": [
    {
     "name": "stdout",
     "output_type": "stream",
     "text": [
      "2\n",
      "2\n"
     ]
    }
   ],
   "source": [
    "a = 1\n",
    "def vartest():\n",
    "#    ''' return값 대체를 추천. '''\n",
    "    \"\"\" return값 대체를 추천. \"\"\"\n",
    "    global a\n",
    "    a = a + 1\n",
    "    print(a)\n",
    "vartest()\n",
    "print(a)"
   ]
  },
  {
   "cell_type": "code",
   "execution_count": 96,
   "id": "665fbe6f-c720-4c50-a489-078db6c87727",
   "metadata": {},
   "outputs": [
    {
     "data": {
      "text/plain": [
       "' return값 대체를 추천. '"
      ]
     },
     "execution_count": 96,
     "metadata": {},
     "output_type": "execute_result"
    }
   ],
   "source": [
    "vartest.__doc__"
   ]
  },
  {
   "cell_type": "markdown",
   "id": "c08809fe-f7d2-46de-81aa-245289e02717",
   "metadata": {},
   "source": [
    "- js에서는 var에서는 자체가 전역이라 아무대나 적용됨 함수내든...\n",
    "- 그래서 사장된 기능.. let, const 쓰게되는 근황이라고..\n",
    "- 전역은 안쓰길 권장하는 추세 관리가 힘듬;;"
   ]
  },
  {
   "cell_type": "markdown",
   "id": "5da213f7-3936-4505-9e6b-ef16ed495930",
   "metadata": {},
   "source": [
    "### lambda 예약어 *\n",
    "\n",
    "- 함수_이름 = lambda 매개변수1, 매개변수2, ... : 매개변수를_이용한_표현식"
   ]
  },
  {
   "cell_type": "code",
   "execution_count": 84,
   "id": "c5c36847-2060-424f-b014-ff440d23bb52",
   "metadata": {},
   "outputs": [
    {
     "name": "stdout",
     "output_type": "stream",
     "text": [
      "7\n"
     ]
    }
   ],
   "source": [
    "add = lambda a, b: a+b\n",
    "result = add(3, 4)\n",
    "print(result)"
   ]
  },
  {
   "attachments": {
    "55caefbd-8702-49fd-8270-59924b59d788.png": {
     "image/png": "[encoded data removed]"
    }
   },
   "cell_type": "markdown",
   "id": "ae8cf2fe-1d27-4566-bfe1-30b5ed963e76",
   "metadata": {},
   "source": [
    "## 사용자 입출력\n",
    "\n",
    "![image.png](attachment:55caefbd-8702-49fd-8270-59924b59d788.png)"
   ]
  },
  {
   "cell_type": "markdown",
   "id": "4594c7eb-89da-4dce-b866-997f505d0043",
   "metadata": {},
   "source": [
    "### 사용자 입력 활용"
   ]
  },
  {
   "cell_type": "markdown",
   "id": "7cb5e886-46be-4b09-97e4-c907ef1a9579",
   "metadata": {},
   "source": [
    "#### input 사용하기 *\n",
    "- 여기 들어가는 모든 내용은 **문자열로 저장**"
   ]
  },
  {
   "cell_type": "code",
   "execution_count": 99,
   "id": "3e37436f-eb25-4954-b960-be143d509ee1",
   "metadata": {},
   "outputs": [
    {
     "name": "stdin",
     "output_type": "stream",
     "text": [
      " 123\n"
     ]
    },
    {
     "data": {
      "text/plain": [
       "str"
      ]
     },
     "execution_count": 99,
     "metadata": {},
     "output_type": "execute_result"
    }
   ],
   "source": [
    "a = input() # 숫자 입력을 원할 시에는 int로 감싸야한다.\n",
    "type(a)"
   ]
  },
  {
   "cell_type": "markdown",
   "id": "2e40887a-cdb7-430b-848d-28616c3bd24d",
   "metadata": {},
   "source": [
    "#### 프롬프트 띄워 사용자 입력받기"
   ]
  },
  {
   "cell_type": "code",
   "execution_count": 100,
   "id": "792bf163-9d98-4504-9be7-82886a115b15",
   "metadata": {},
   "outputs": [
    {
     "name": "stdin",
     "output_type": "stream",
     "text": [
      "숫자 입력하기 :  \n"
     ]
    },
    {
     "name": "stdout",
     "output_type": "stream",
     "text": [
      "1234\n"
     ]
    }
   ],
   "source": [
    "a = int(input('숫자 입력하기 : ') or 1234)\n",
    "print(a)"
   ]
  },
  {
   "cell_type": "markdown",
   "id": "461f575f-4316-48d3-83fc-9163bab5650f",
   "metadata": {},
   "source": [
    "### print 자세히 알기"
   ]
  },
  {
   "cell_type": "markdown",
   "id": "2c12bd18-779b-4dea-ab2d-7c4395e78722",
   "metadata": {},
   "source": [
    "#### 큰 따옴표로 둘러싸인 문자열은 + 연산과 동일하다."
   ]
  },
  {
   "cell_type": "code",
   "execution_count": 102,
   "id": "fa3ff22e-74b3-43d3-84c0-603d693b599d",
   "metadata": {},
   "outputs": [
    {
     "name": "stdout",
     "output_type": "stream",
     "text": [
      "liefistoo short\n",
      "liefistoo short\n",
      "lief is too short\n"
     ]
    }
   ],
   "source": [
    "print(\"lief\" \"is\" \"too short\")\n",
    "print(\"lief\"+\"is\"+\"too short\")\n",
    "print(\"lief\", \"is\", \"too short\")"
   ]
  },
  {
   "cell_type": "markdown",
   "id": "11590a2d-f14a-4ef5-933d-356f9ba53c31",
   "metadata": {},
   "source": [
    "- 위와 같은 특성은 숙지해두기;;"
   ]
  },
  {
   "cell_type": "code",
   "execution_count": 103,
   "id": "137bce75-9640-49b3-a6dd-b0f59ddc841a",
   "metadata": {},
   "outputs": [
    {
     "name": "stdout",
     "output_type": "stream",
     "text": [
      "0 1 2 3 4 5 6 7 8 9 \n",
      "====================\n",
      "9\r"
     ]
    }
   ],
   "source": [
    "for i in range(10):\n",
    "    print(i, end=\" \")  # 이어쓰기\n",
    "print(f'\\n{\"=\"* 20}')  # 기본 end 값은 \\n rogod.\n",
    "for j in range(10):\n",
    "    print(i, end=\"\\r\") # 덮어쓰기"
   ]
  },
  {
   "cell_type": "markdown",
   "id": "3ed65519-f83d-43aa-bf1e-591147944cc5",
   "metadata": {},
   "source": [
    "- 이것도 마찬가지."
   ]
  },
  {
   "cell_type": "markdown",
   "id": "0455db13-cb90-4c2d-923e-c003ed2272fc",
   "metadata": {},
   "source": [
    "## 파일 읽고 쓰기"
   ]
  },
  {
   "cell_type": "markdown",
   "id": "f762e852-b66f-4a4b-b477-7990e162a376",
   "metadata": {},
   "source": [
    "<head>\n",
    "    <style>\n",
    "        table {\n",
    "            float: center;\n",
    "            font-size: 1.2rem;\n",
    "        }\n",
    "    </style>\n",
    "</head>\n",
    "<table>\r\n",
    "<thead>\r\n",
    "<tr>\r\n",
    "<th>파일열기모드</th>\r\n",
    "<th>설명</th>\r\n",
    "</tr>\r\n",
    "</thead>\r\n",
    "<tbody>\r\n",
    "<tr>\r\n",
    "<td>r</td>\r\n",
    "<td>읽기 모드: 파일을 읽기만 할 때 사용한다.</td>\r\n",
    "</tr>\r\n",
    "<tr>\r\n",
    "<td>w</td>\r\n",
    "<td>쓰기 모드: 파일에 내용을 쓸 때 사용한다.</td>\r\n",
    "</tr>\r\n",
    "<tr>\r\n",
    "<td>a</td>\r\n",
    "<td>추가 모드: 파일의 마지막에 새로운 내용을 추가할 때 사용한다.</td>\r\n",
    "</tret>>\r\n",
    "</tbody>\r\n",
    "</table>"
   ]
  },
  {
   "cell_type": "markdown",
   "id": "888333a9-b790-4f3a-b07f-76f8b464a092",
   "metadata": {},
   "source": [
    "<fieldset>\n",
    "    <legend>파일 읽고 쓰기</legend>\n",
    "    <strong>파일 경로와 슬래시(<code>/</code>)</strong><p></p>\n",
    "    <p>파이썬 코드에서 파일 경로를 표시할 때 <code>\"C:/doit/새파일.txt\"</code>처럼 슬래시(/)를 사용할 수 있다. 만약 역슬래시(<code>\\</code>)를 사용한다면 <code>\"C:\\\\doit\\\\새파일.txt\"</code>처럼 역슬래시를 2개 사용하거나 <code>r\"C:\\doit\\새파일.txt\"</code>와 같이 문자열 앞에 r 문자(raw string)를 덧붙여 사용해야 한다. 왜냐하면 <code>\"C:\\note\\test.txt\"</code>처럼 파일 경로에 <code>\\n</code>과 같은 이스케이프 문자가 있을 경우, 줄바꿈 문자로 해석되어 의도했던 파일 경로와 달라지기 때문이다.\n",
    "    </p>\n",
    "</fieldset>"
   ]
  },
  {
   "cell_type": "markdown",
   "id": "e8c1919b-5904-4262-92b5-7efc0f5b0a1e",
   "metadata": {},
   "source": [
    "### 파일 생성하기"
   ]
  },
  {
   "cell_type": "code",
   "execution_count": 106,
   "id": "ed0a31c9-98c4-44c9-b3c7-f65f9ca1f9fc",
   "metadata": {},
   "outputs": [],
   "source": [
    "# 다음에는 './out/..' 이 경로에 출력.\n",
    "# 1set.\n",
    "f = open(\"newfile.txt\", 'w')\n",
    "f.close()"
   ]
  },
  {
   "cell_type": "markdown",
   "id": "99434f68-2fcb-4c11-b234-83496526f1ea",
   "metadata": {},
   "source": [
    "- 참고사항..\n",
    "    - 리눅스 기반은 (/), 윈도우 기반은 (\\) 개행및 파일경로 구분을 한다고..."
   ]
  },
  {
   "cell_type": "markdown",
   "id": "045554b7-97ec-46cb-8c51-78d404956b86",
   "metadata": {},
   "source": [
    "### 파일을 쓰기 모드로 열어 내용 쓰기"
   ]
  },
  {
   "cell_type": "code",
   "execution_count": 107,
   "id": "e9ba65cc-3265-4f9c-aa23-1f551f673108",
   "metadata": {},
   "outputs": [],
   "source": [
    "f = open(\"newfile.txt\", 'w')\n",
    "\n",
    "for i in range(1, 11):\n",
    "    data = f'{i}번째 줄 입니다.\\n'\n",
    "    f.write(data)\n",
    "f.close()"
   ]
  },
  {
   "cell_type": "markdown",
   "id": "17d0bb46-bb51-4c8b-816e-a47e8278fc3e",
   "metadata": {},
   "source": [
    "### 파일을 읽는 여러가지 방법"
   ]
  },
  {
   "cell_type": "markdown",
   "id": "f8eb0fa2-cebf-491c-a99a-59435801716c",
   "metadata": {},
   "source": [
    "#### readline 함수 이용"
   ]
  },
  {
   "cell_type": "code",
   "execution_count": 109,
   "id": "387b9458-52df-4fa3-8a17-0a22b325a6fc",
   "metadata": {},
   "outputs": [
    {
     "name": "stdout",
     "output_type": "stream",
     "text": [
      "1번째 줄 입니다.\n",
      "\n",
      "2번째 줄 입니다.\n",
      "\n",
      "3번째 줄 입니다.\n",
      "\n",
      "4번째 줄 입니다.\n",
      "\n",
      "5번째 줄 입니다.\n",
      "\n",
      "6번째 줄 입니다.\n",
      "\n",
      "7번째 줄 입니다.\n",
      "\n",
      "8번째 줄 입니다.\n",
      "\n",
      "9번째 줄 입니다.\n",
      "\n",
      "10번째 줄 입니다.\n",
      "\n"
     ]
    }
   ],
   "source": [
    "f = open('./newfile.txt', 'r')\n",
    "# 단일로만 쓰면.. 계속 읽어야됨..\n",
    "# line = f.readline()\n",
    "while True:\n",
    "    line = f.readline()\n",
    "    if not line: break\n",
    "    print(line)\n",
    "f.close()"
   ]
  },
  {
   "cell_type": "code",
   "execution_count": 112,
   "id": "21a2a299-d9b3-47e3-b6c0-583c3861f74f",
   "metadata": {},
   "outputs": [
    {
     "name": "stdout",
     "output_type": "stream",
     "text": [
      "1번째 줄 입니다.\n",
      "2번째 줄 입니다.\n",
      "3번째 줄 입니다.\n",
      "4번째 줄 입니다.\n",
      "5번째 줄 입니다.\n",
      "6번째 줄 입니다.\n",
      "7번째 줄 입니다.\n",
      "8번째 줄 입니다.\n",
      "9번째 줄 입니다.\n",
      "10번째 줄 입니다.\n"
     ]
    }
   ],
   "source": [
    "f = open('./newfile.txt', 'r')\n",
    "lines = f.readlines()\n",
    "# 아래처럼 출력하면 개행공백(\\n) 까지..\n",
    "# for line in lines:\n",
    "#     print(line)\n",
    "# 아래와 같이 개행 제거.\n",
    "for line in lines:\n",
    "    line = line.strip()\n",
    "    print(line)\n",
    "f.close()"
   ]
  },
  {
   "cell_type": "code",
   "execution_count": 120,
   "id": "111f1a25-7ba0-4cea-8bcf-9c7e4bcc4aa0",
   "metadata": {},
   "outputs": [
    {
     "name": "stdout",
     "output_type": "stream",
     "text": [
      "1번째 줄 데이터는 2 입니다.\n",
      "\n",
      "2번째 줄 데이터는 4 입니다.\n",
      "\n",
      "3번째 줄 데이터는 8 입니다.\n",
      "\n",
      "4번째 줄 데이터는 16 입니다.\n",
      "\n",
      "5번째 줄 데이터는 32 입니다.\n",
      "\n",
      "6번째 줄 데이터는 64 입니다.\n",
      "\n",
      "7번째 줄 데이터는 128 입니다.\n",
      "\n",
      "8번째 줄 데이터는 256 입니다.\n",
      "\n",
      "9번째 줄 데이터는 512 입니다.\n",
      "\n",
      "10번째 줄 데이터는 1024 입니다.\n",
      "\n"
     ]
    }
   ],
   "source": [
    "f = open(\"newfile.txt\", 'w')\n",
    "\n",
    "for i in range(1, 11):\n",
    "    data = f'{i}번째 줄 데이터는 {2**i} 입니다.\\n'\n",
    "    print(data)\n",
    "    f.write(data)\n",
    "f.close()"
   ]
  },
  {
   "cell_type": "code",
   "execution_count": 121,
   "id": "2edbd647-9ea0-42c6-badb-93b20798ab28",
   "metadata": {},
   "outputs": [
    {
     "name": "stdout",
     "output_type": "stream",
     "text": [
      "1번째 줄 데이터는 2 입니다.\n",
      "2번째 줄 데이터는 4 입니다.\n",
      "3번째 줄 데이터는 8 입니다.\n",
      "4번째 줄 데이터는 16 입니다.\n",
      "5번째 줄 데이터는 32 입니다.\n",
      "6번째 줄 데이터는 64 입니다.\n",
      "7번째 줄 데이터는 128 입니다.\n",
      "8번째 줄 데이터는 256 입니다.\n",
      "9번째 줄 데이터는 512 입니다.\n",
      "10번째 줄 데이터는 1024 입니다.\n"
     ]
    }
   ],
   "source": [
    "f = open('./newfile.txt', 'r')\n",
    "lines = f.readlines()\n",
    "for line in lines:\n",
    "    line = line.strip()\n",
    "    print(line)\n",
    "f.close()"
   ]
  },
  {
   "cell_type": "markdown",
   "id": "f71b2cdb-a6c1-4ed2-95e0-aa10471d6481",
   "metadata": {},
   "source": [
    "### 파일에 새로운 내용 추가하기"
   ]
  },
  {
   "cell_type": "code",
   "execution_count": 122,
   "id": "ec9a6c6c-da8e-4db6-9e6d-7cf5e6626875",
   "metadata": {},
   "outputs": [],
   "source": [
    "f = open(\"./out/newfile2.txt\", 'w')\n",
    "\n",
    "for i in range(1, 11):\n",
    "    data = f'{i}번째 줄 입니다.\\n'\n",
    "    f.write(data)\n",
    "f.close()"
   ]
  },
  {
   "cell_type": "code",
   "execution_count": 125,
   "id": "88623f9b-9745-4b17-b80b-93fc8bd7e129",
   "metadata": {},
   "outputs": [
    {
     "name": "stdout",
     "output_type": "stream",
     "text": [
      "1번째 줄 입니다.\n",
      "2번째 줄 입니다.\n",
      "3번째 줄 입니다.\n",
      "4번째 줄 입니다.\n",
      "5번째 줄 입니다.\n",
      "6번째 줄 입니다.\n",
      "7번째 줄 입니다.\n",
      "8번째 줄 입니다.\n",
      "9번째 줄 입니다.\n",
      "10번째 줄 입니다.\n",
      "\n",
      "==============================\n",
      "1번째 줄 입니다.\n",
      "2번째 줄 입니다.\n",
      "3번째 줄 입니다.\n",
      "4번째 줄 입니다.\n",
      "5번째 줄 입니다.\n",
      "6번째 줄 입니다.\n",
      "7번째 줄 입니다.\n",
      "8번째 줄 입니다.\n",
      "9번째 줄 입니다.\n",
      "10번째 줄 입니다.\n",
      "11번째 줄 입니다.\n",
      "12번째 줄 입니다.\n",
      "13번째 줄 입니다.\n",
      "14번째 줄 입니다.\n",
      "15번째 줄 입니다.\n",
      "16번째 줄 입니다.\n",
      "17번째 줄 입니다.\n",
      "18번째 줄 입니다.\n",
      "19번째 줄 입니다.\n",
      "20번째 줄 입니다.\n",
      "\n"
     ]
    }
   ],
   "source": [
    "fr = open(\"./out/newfile2.txt\", \"r\")\n",
    "print(fr.read())\n",
    "fr.close()\n",
    "print(f'{\"=\"*30}')\n",
    "\n",
    "fa = open(\"./out/newfile2.txt\", \"a\")\n",
    "for i in range(11, 21):\n",
    "    data = \"{0}번째 줄 입니다.\\n\".format(i)\n",
    "    fa.write(data)\n",
    "\n",
    "fa.close()\n",
    "\n",
    "fr = open(\"./out/newfile2.txt\", \"r\")\n",
    "print(fr.read())\n",
    "fr.close()"
   ]
  },
  {
   "cell_type": "markdown",
   "id": "70ac66f8-e50b-4fe2-863d-d4456d684558",
   "metadata": {},
   "source": [
    "### with문과 함께 사용하기. *\n",
    "- 다만 상황에 따라 불편할 수 있으므로주의;;"
   ]
  },
  {
   "cell_type": "code",
   "execution_count": 129,
   "id": "4155910e-8e13-4b8a-98e7-6c4aabc27dd2",
   "metadata": {},
   "outputs": [
    {
     "name": "stdout",
     "output_type": "stream",
     "text": [
      "1번째 줄 데이터는 2 입니다.\n",
      "2번째 줄 데이터는 4 입니다.\n",
      "3번째 줄 데이터는 8 입니다.\n",
      "4번째 줄 데이터는 16 입니다.\n",
      "5번째 줄 데이터는 32 입니다.\n",
      "6번째 줄 데이터는 64 입니다.\n",
      "7번째 줄 데이터는 128 입니다.\n",
      "8번째 줄 데이터는 256 입니다.\n",
      "9번째 줄 데이터는 512 입니다.\n",
      "10번째 줄 데이터는 1024 입니다.\n"
     ]
    }
   ],
   "source": [
    "with open('./newfile.txt', 'r') as f:\n",
    "# print(f)\n",
    "    for line in f:\n",
    "        print(line.strip())\n"
   ]
  },
  {
   "cell_type": "markdown",
   "id": "6b9b74af-7940-4b5f-b8b8-bc54d85e1f9e",
   "metadata": {},
   "source": [
    "## 프로그램 입출력"
   ]
  },
  {
   "cell_type": "markdown",
   "id": "3e07fc16-73c7-42d8-b1ff-6c1d41716c1a",
   "metadata": {},
   "source": [
    "### sys 모듈 사용하기"
   ]
  },
  {
   "cell_type": "code",
   "execution_count": 130,
   "id": "65062923-c96c-4ddc-9653-65c142ba55bb",
   "metadata": {},
   "outputs": [
    {
     "name": "stdout",
     "output_type": "stream",
     "text": [
      "['/home/pi01/venv/lib/python3.11/site-packages/ipykernel_launcher.py', '-f', '/home/pi01/.local/share/jupyter/runtime/kernel-9f7e796f-4511-4ee1-a871-e403d4e4a0c5.json']\n"
     ]
    }
   ],
   "source": [
    "import sys\n",
    "args = sys.argv\n",
    "print(args)"
   ]
  },
  {
   "cell_type": "code",
   "execution_count": 137,
   "id": "8661ed67-952b-4f99-a5c0-4a1680ca937c",
   "metadata": {},
   "outputs": [
    {
     "name": "stdout",
     "output_type": "stream",
     "text": [
      "생성완료!\n"
     ]
    }
   ],
   "source": [
    "with open(\"./out/sys1.py\", \"w\") as f:\n",
    "    data = '''import sys\n",
    "args = sys.argv\n",
    "print(args)\n",
    "for i in args:\n",
    "    print(i)\n",
    "'''\n",
    "    f.write(data)\n",
    "print(\"생성완료!\")"
   ]
  },
  {
   "cell_type": "code",
   "execution_count": 139,
   "id": "4b800ab7-245b-480c-8aab-bde82682be4a",
   "metadata": {},
   "outputs": [
    {
     "name": "stdout",
     "output_type": "stream",
     "text": [
      "['./out/sys1.py', 'aa', 'bb', 'cc']\n",
      "./out/sys1.py\n",
      "aa\n",
      "bb\n",
      "cc\n"
     ]
    }
   ],
   "source": [
    "!python ./out/sys1.py aa bb cc"
   ]
  },
  {
   "cell_type": "code",
   "execution_count": 144,
   "id": "adffc13b-aca2-4fea-ad76-0fd471d4d44a",
   "metadata": {},
   "outputs": [
    {
     "name": "stdout",
     "output_type": "stream",
     "text": [
      "생성완료!\n"
     ]
    }
   ],
   "source": [
    "with open(\"./out/sys2.py\", \"w\") as f:\n",
    "    data = '''import sys\n",
    "args = sys.argv[1:]\n",
    "print(args)\n",
    "\n",
    "for i in args:\n",
    "    print(i.upper(), end=' ')\n",
    "'''\n",
    "    f.write(data)\n",
    "print('생성완료!')"
   ]
  },
  {
   "cell_type": "code",
   "execution_count": 146,
   "id": "3decbcea-864a-47f3-baff-1f69f9dc0df6",
   "metadata": {},
   "outputs": [
    {
     "name": "stdout",
     "output_type": "stream",
     "text": [
      "['life', 'is', 'too', 'shOrt,', 'You', 'need', 'python!']\n",
      "LIFE IS TOO SHORT, YOU NEED PYTHON! "
     ]
    }
   ],
   "source": [
    "!python ./out/sys2.py life is too shOrt, You need python!"
   ]
  },
  {
   "cell_type": "markdown",
   "id": "d679be90-7b36-4af8-a1f3-03c7da77a309",
   "metadata": {},
   "source": [
    "### 과제\n",
    "- 메모장 만들기\r\n",
    "    - jupyter lab에서만 memo.py이름으로 파일 생성\r\n",
    "    - python [memo.py](http://memo.py) memo.txt -w “Life is too short”를 작성시\r\n",
    "        \r\n",
    "        memo.txt 파일에 “Life is too short”의 내용이 저장됨.\r\n",
    "        \r\n",
    "    - python [memo.py](http://memo.py) memo.txt -a “This is my Memo App!”\r\n",
    "        \r\n",
    "        을 작성하면\r\n",
    "        \r\n",
    "        memo.txt 파일에 “This is my Memo App!”의 내용이 추가됨.\r\n",
    "        \r\n",
    "    - python [memo.py](http://memo.py) memo.txt -r 치면 내용을 읽어옴."
   ]
  },
  {
   "cell_type": "code",
   "execution_count": 266,
   "id": "e10cbfc6-8343-43bd-abe0-6e7780272b8d",
   "metadata": {},
   "outputs": [
    {
     "name": "stdout",
     "output_type": "stream",
     "text": [
      "./out/memo.py 생성완료!\n"
     ]
    }
   ],
   "source": [
    "with open(\"./out/memo.py\", \"w\") as f:\n",
    "    data = '''import sys\n",
    "\n",
    "# argument exception.\n",
    "if 3 > len(sys.argv):\n",
    "    print(f\"not enough argument : {len(sys.argv)}\")\n",
    "    sys.exit()\n",
    "\n",
    "# file exception.\n",
    "file = [s for s in sys.argv[1:] if '.txt' in s]\n",
    "print(file[0])\n",
    "if not file or 1 < len(file):\n",
    "    print(f\"input filename exactly include name. now.. {sys.argv}\")\n",
    "    sys.exit()\n",
    "\n",
    "# op exception.\n",
    "op = [s for s in sys.argv if '-' in s]\n",
    "\n",
    "if 2 <= len(op):\n",
    "    print(f\"only one '-' option. now.. {op}\")\n",
    "    sys.exit()\n",
    "\n",
    "if not op:\n",
    "    print(f\"can't process '-' option;; now.. {sys.argv}\")\n",
    "    sys.exit()\n",
    "\n",
    "if 1 != len(op) or op[0] not in ['-w', '-a', '-r']:\n",
    "    print(f\"wrong in option argument. (e ex) '-w', '-r', '-a') now.. : {op}\")\n",
    "    sys.exit()\n",
    "\n",
    "# change compare char.\n",
    "op = op[0][1]\n",
    "\n",
    "# str exception.\n",
    "# ...\n",
    "\n",
    "str = sys.argv[-1]\n",
    "\n",
    "with open(f\"{file[0]}\", op) as f:\n",
    "    if 'w' == op or 'a' == op:\n",
    "        print('this write : ', str)\n",
    "        f.write(str + ' ')\n",
    "\n",
    "    if 'r' == op:\n",
    "        print(f.read())\n",
    "'''\n",
    "    f.write(data)\n",
    "print('./out/memo.py 생성완료!')"
   ]
  },
  {
   "cell_type": "code",
   "execution_count": 263,
   "id": "8e8988c6-02e8-48bb-8887-c56c1aa1d0f2",
   "metadata": {},
   "outputs": [
    {
     "name": "stdout",
     "output_type": "stream",
     "text": [
      "./out/memo.txt\n",
      "this write :  Life is too short\n"
     ]
    }
   ],
   "source": [
    "!python ./out/memo.py -w ./out/memo.txt \"Life is too short\""
   ]
  },
  {
   "cell_type": "code",
   "execution_count": 264,
   "id": "62ac1219-3595-48c5-8461-ad7c121612cb",
   "metadata": {},
   "outputs": [
    {
     "name": "stdout",
     "output_type": "stream",
     "text": [
      "./out/memo.txt\n",
      "this write :  This is my Memo App!\n"
     ]
    }
   ],
   "source": [
    "!python ./out/memo.py -a ./out/memo.txt \"This is my Memo App!\""
   ]
  },
  {
   "cell_type": "code",
   "execution_count": 265,
   "id": "5b9fb95e-9354-40bc-8128-84d69b22019f",
   "metadata": {},
   "outputs": [
    {
     "name": "stdout",
     "output_type": "stream",
     "text": [
      "./out/memo.txt\n",
      "Life is too short This is my Memo App! \n"
     ]
    }
   ],
   "source": [
    "!python ./out/memo.py -r ./out/memo.txt"
   ]
  },
  {
   "cell_type": "markdown",
   "id": "56da6af0-028f-4020-ad8d-b810fb609b45",
   "metadata": {},
   "source": [
    "# 파이썬 확장"
   ]
  },
  {
   "cell_type": "markdown",
   "id": "4e03fe0c-aa5d-4aff-a50c-cefc0d3c5007",
   "metadata": {},
   "source": [
    "## 클래스"
   ]
  },
  {
   "cell_type": "markdown",
   "id": "f323ced0-4ed8-4e92-b733-d35611273564",
   "metadata": {},
   "source": [
    "### 클래스와 객체\n",
    "- 제품 찍 틀 = 클래스\n",
    "- 제품틀로 찍어 생산해낸 제품(철, 과자 등등) = 객체\n",
    "<fieldset><legend>파이썬 클래스</legend>\r\n",
    "<strong>객체와 인스턴스의 차이</strong><p></p>\r\n",
    "<p>클래스로 만든 객체를 ‘인스턴스’라고도 한다. 그렇다면 객체와 인스턴스의 차이는 무엇일까? 이렇게 생각해 보자. <code>a = Cookie()</code>로 만든 a는 객체이다. 그리고 a 객체는 Cookie의 인스턴스이다. 즉, 인스턴스라는 말은 특정 객체(a)가 어떤 클래스(Cookie)의 객체인지를 관계 위주로 설명할 때 사용한다. ‘a는 인스턴스’보다 ‘a는 객체’라는 표현이 어울리며 ‘a는 Cookie의 객체’보다 ‘a는 Cookie의 인스턴스’라는 표현이 훨씬 잘 어울린다.\r\n",
    "</p></fieldset>\n"
   ]
  },
  {
   "cell_type": "code",
   "execution_count": 267,
   "id": "a1ba9d3b-50e8-491b-9337-49de022b0d56",
   "metadata": {},
   "outputs": [],
   "source": [
    "class Cookie:\n",
    "    pass"
   ]
  },
  {
   "attachments": {},
   "cell_type": "markdown",
   "id": "4fb0459b-e2a8-4271-96f1-4d75f5167b98",
   "metadata": {},
   "source": [
    "### 사칙 연산 클래스 만들기"
   ]
  },
  {
   "attachments": {
    "0335fd6a-81bc-48f1-b84f-a1d0f636d678.png": {
     "image/png": "[encoded data removed]"
    }
   },
   "cell_type": "markdown",
   "id": "5f8f3a5d-7be8-438c-a0ea-57b6aa341634",
   "metadata": {},
   "source": [
    "#### 어떻게 만들지 먼저 구상하기\n",
    "\n",
    "![image.png](attachment:0335fd6a-81bc-48f1-b84f-a1d0f636d678.png)"
   ]
  },
  {
   "cell_type": "markdown",
   "id": "c0e1438e-a536-48cf-9e17-7a3ae9cb4a63",
   "metadata": {},
   "source": [
    "#### 클래스 구조 만들기"
   ]
  },
  {
   "cell_type": "code",
   "execution_count": 270,
   "id": "f61ac354-79be-411c-92dd-f317a032b0ca",
   "metadata": {},
   "outputs": [
    {
     "name": "stdout",
     "output_type": "stream",
     "text": [
      "<class '__main__.FourCal'>\n",
      "<__main__.FourCal object at 0xee9d4f30>\n"
     ]
    }
   ],
   "source": [
    "class FourCal:\n",
    "    pass\n",
    "\n",
    "a = FourCal()\n",
    "print(type(a))\n",
    "print(a)"
   ]
  },
  {
   "cell_type": "markdown",
   "id": "a40b3eb0-6390-4efb-b816-b7139b563bba",
   "metadata": {},
   "source": [
    "#### 객체에 연산할 숫자 지정하기"
   ]
  },
  {
   "cell_type": "code",
   "execution_count": 271,
   "id": "24e3b9aa-d358-4f02-b52b-4c60b6d2b77e",
   "metadata": {},
   "outputs": [],
   "source": [
    "class FourCal:\n",
    "    def setdata(self, first, second):\n",
    "        self.first = first\n",
    "        self.second = second"
   ]
  },
  {
   "cell_type": "markdown",
   "id": "e1bce3bb-e836-40a1-952d-d256b19eae77",
   "metadata": {},
   "source": [
    "#### 더하기 기능 만들기"
   ]
  },
  {
   "cell_type": "code",
   "execution_count": 2,
   "id": "2781c5c8-a0f1-416a-a979-c96b4e2c61bd",
   "metadata": {},
   "outputs": [],
   "source": [
    "class FourCal:\n",
    "    def setdata(self, first, second):\n",
    "        self.first = first\n",
    "        self.second = second\n",
    "    def add(self):\n",
    "        return self.first + self.second\n",
    "    def minus(self):\n",
    "        return self.first - self.second\n",
    "    def mul(self):\n",
    "        return self.first * self.second\n",
    "    def div(self):\n",
    "        return self.first / self.second"
   ]
  },
  {
   "cell_type": "code",
   "execution_count": 278,
   "id": "4192bbb5-feb0-42cf-b69f-80859be301a9",
   "metadata": {},
   "outputs": [
    {
     "name": "stdout",
     "output_type": "stream",
     "text": [
      "7\n",
      "8\n",
      "8\n",
      "3\n",
      "11\n",
      "2\n"
     ]
    }
   ],
   "source": [
    "a = FourCal()\n",
    "a.setdata(3, 4)\n",
    "print(a.add())\n",
    "b = FourCal()\n",
    "b.setdata(11, 3)\n",
    "print(b.minus())\n",
    "c = FourCal()\n",
    "c.setdata(2, 4)\n",
    "print(c.mul())\n",
    "print(a.first)\n",
    "print(b.first)\n",
    "print(c.first)"
   ]
  },
  {
   "cell_type": "code",
   "execution_count": 298,
   "id": "96d6a1c1-d5a3-4b00-a169-791cc58ebc34",
   "metadata": {},
   "outputs": [],
   "source": [
    "class Vack:\n",
    "    def my(selfID, won, ea):\n",
    "        selfID.won = won\n",
    "        selfID.ea = ea\n",
    "    def dduk(selfID):\n",
    "        res = selfID.won * selfID.ea\n",
    "        print(\"떡볶이 집에서 %d원치 먹었다.\" %res)\n",
    "    def man(selfID):\n",
    "        res = selfID.won + selfID.won\n",
    "        print(\"만두 집에서 %d원치 먹었다.\" %res)"
   ]
  },
  {
   "cell_type": "code",
   "execution_count": 302,
   "id": "e2e4a797-d300-4aa3-8d44-165e3e0163c9",
   "metadata": {},
   "outputs": [],
   "source": [
    "a = Vack()\n",
    "b = Vack()\n",
    "c = Vack()"
   ]
  },
  {
   "cell_type": "code",
   "execution_count": 303,
   "id": "1efa12c2-6df5-4bba-970c-808171008bfc",
   "metadata": {},
   "outputs": [],
   "source": [
    "a.my(2200, 8)\n",
    "b.my(800, 10)\n",
    "c.my(1100, 7)"
   ]
  },
  {
   "cell_type": "code",
   "execution_count": 304,
   "id": "e7293c17-6059-473e-934d-be6d366de7d2",
   "metadata": {},
   "outputs": [
    {
     "name": "stdout",
     "output_type": "stream",
     "text": [
      "떡볶이 집에서 17600원치 먹었다.\n"
     ]
    }
   ],
   "source": [
    "a.dduk()"
   ]
  },
  {
   "cell_type": "code",
   "execution_count": 305,
   "id": "5b13b4bd-84d0-4bea-9083-7f7dbeba7f03",
   "metadata": {},
   "outputs": [
    {
     "name": "stdout",
     "output_type": "stream",
     "text": [
      "떡볶이 집에서 8000원치 먹었다.\n"
     ]
    }
   ],
   "source": [
    "b.dduk()"
   ]
  },
  {
   "cell_type": "code",
   "execution_count": 306,
   "id": "04a07683-9822-4341-9749-4810cb5105c2",
   "metadata": {},
   "outputs": [
    {
     "name": "stdout",
     "output_type": "stream",
     "text": [
      "떡볶이 집에서 7700원치 먹었다.\n"
     ]
    }
   ],
   "source": [
    "c.dduk()"
   ]
  },
  {
   "cell_type": "code",
   "execution_count": 307,
   "id": "2cf3ab90-5eac-4ec1-a039-b8f1bd16165a",
   "metadata": {},
   "outputs": [
    {
     "name": "stdout",
     "output_type": "stream",
     "text": [
      "만두 집에서 4400원치 먹었다.\n"
     ]
    }
   ],
   "source": [
    "a.man()"
   ]
  },
  {
   "cell_type": "code",
   "execution_count": 308,
   "id": "f0d6a5d3-9d78-4a30-a6b2-0f6f56eb4199",
   "metadata": {},
   "outputs": [
    {
     "name": "stdout",
     "output_type": "stream",
     "text": [
      "만두 집에서 1600원치 먹었다.\n"
     ]
    }
   ],
   "source": [
    "b.man()"
   ]
  },
  {
   "cell_type": "code",
   "execution_count": 309,
   "id": "43e85e70-b427-459f-a1c6-41e50ca031ce",
   "metadata": {},
   "outputs": [
    {
     "name": "stdout",
     "output_type": "stream",
     "text": [
      "만두 집에서 2200원치 먹었다.\n"
     ]
    }
   ],
   "source": [
    "c.man()"
   ]
  },
  {
   "cell_type": "markdown",
   "id": "e3d11588-d104-4bdb-b40b-d5b2bb88c2ec",
   "metadata": {},
   "source": [
    "#### 곱하기, 빼기, 나누기, 기능 만들기"
   ]
  },
  {
   "cell_type": "code",
   "execution_count": 45,
   "id": "791d7424-d74b-4d1e-858c-0e57f99ab546",
   "metadata": {},
   "outputs": [],
   "source": [
    "# 위에있는 코드 가져옴.\n",
    "class FiveCal:\n",
    "    name = \"Bexco\" # 변수선언..\n",
    "    def __init__(self, first, second):\n",
    "        self.first = first\n",
    "        self.second = second\n",
    "    def setdata(self, first, second):\n",
    "        self.first = first\n",
    "        self.second = second\n",
    "    def add(self):\n",
    "        return self.first + self.second\n",
    "    def minus(self):\n",
    "        return self.first - self.second\n",
    "    def mul(self):\n",
    "        return self.first * self.second\n",
    "    def div(self):\n",
    "        return self.first / self.second\n",
    "    def mod(self):\n",
    "        return self.first % self.second"
   ]
  },
  {
   "cell_type": "code",
   "execution_count": 22,
   "id": "b629ae99-03ef-45a5-b919-330c2f6e5545",
   "metadata": {},
   "outputs": [
    {
     "name": "stdout",
     "output_type": "stream",
     "text": [
      "6\n",
      "8\n",
      "2.0\n",
      "6\n",
      "3\n"
     ]
    }
   ],
   "source": [
    "a = FourCal(0, 0)\n",
    "b = FourCal(0, 0)\n",
    "\n",
    "a.setdata(4, 2)\n",
    "b.setdata(3, 8)\n",
    "\n",
    "print(a.add())\n",
    "print(a.mul())\n",
    "print(a.div())\n",
    "print(a.add())\n",
    "print(b.mod())"
   ]
  },
  {
   "cell_type": "markdown",
   "id": "175d9b54-ea77-4d5e-87eb-fbbc50601941",
   "metadata": {},
   "source": [
    "### 생성자"
   ]
  },
  {
   "cell_type": "code",
   "execution_count": 23,
   "id": "02116776-e43b-4c25-906b-9301760196ce",
   "metadata": {
    "scrolled": true
   },
   "outputs": [
    {
     "data": {
      "text/plain": [
       "10"
      ]
     },
     "execution_count": 23,
     "metadata": {},
     "output_type": "execute_result"
    }
   ],
   "source": [
    "a = FiveCal(3, 7)\n",
    "a.add()"
   ]
  },
  {
   "cell_type": "markdown",
   "id": "a646f668-0e17-4941-86ee-9d87609d3046",
   "metadata": {},
   "source": [
    "### 클래스의 상속\n",
    "<fieldset><legend>클래스의 상속</legend>\r\n",
    "<strong>상속 기능은 왜 쓰는 걸까?</strong><p></p>\r\n",
    "<p>보통 상속은 기존 클래스를 변경하지 않고 기능을 추가하거나 기존 기능을 변경하려고 할 때 사용한다. ‘클래스에 기능을 추가하고 싶으면 기존 클래스를 수정하면 되는데 왜 굳이 상속을 받아서 처리해야 하지?’라는 의문이 들 수도 있다. 하지만 기존 클래스가 라이브러리 형태로 제공되거나 수정이 허용되지 않는 상황이라면 상속을 사용해야 한다.\r\n",
    "</p></fieldset>"
   ]
  },
  {
   "cell_type": "code",
   "execution_count": 29,
   "id": "8dc3e359-3ba5-4c6e-ae69-758becd0ba03",
   "metadata": {},
   "outputs": [],
   "source": [
    "class SixCal(FiveCal):\n",
    "    pass"
   ]
  },
  {
   "cell_type": "code",
   "execution_count": 26,
   "id": "de4f5e5d-6183-4f79-8244-ce41b0e9389d",
   "metadata": {},
   "outputs": [
    {
     "data": {
      "text/plain": [
       "1"
      ]
     },
     "execution_count": 26,
     "metadata": {},
     "output_type": "execute_result"
    }
   ],
   "source": [
    "aa = SixCal(7, 3)\n",
    "aa.mod()"
   ]
  },
  {
   "cell_type": "code",
   "execution_count": 30,
   "id": "c31b341d-e70e-4619-a13c-085f21be4e99",
   "metadata": {},
   "outputs": [],
   "source": [
    "class SixCal(FiveCal):\n",
    "    def pow(self):\n",
    "        return self.first ** self.second"
   ]
  },
  {
   "cell_type": "code",
   "execution_count": 32,
   "id": "4dbae9cb-8840-4053-8ae6-9784907c7fa0",
   "metadata": {},
   "outputs": [
    {
     "data": {
      "text/plain": [
       "65536"
      ]
     },
     "execution_count": 32,
     "metadata": {},
     "output_type": "execute_result"
    }
   ],
   "source": [
    "aa = SixCal(2, 16)\n",
    "aa.pow()"
   ]
  },
  {
   "cell_type": "markdown",
   "id": "8a6d7642-d22e-4b47-aa19-4042090a37a6",
   "metadata": {},
   "source": [
    "### 메서드 오버라이딩 *\n",
    "- 이름이 같을 경우 동일한 이름으로 업데이트"
   ]
  },
  {
   "cell_type": "code",
   "execution_count": 34,
   "id": "1c20485f-8033-436b-bbca-dac484af69db",
   "metadata": {},
   "outputs": [],
   "source": [
    "class NewCal(SixCal):\n",
    "    def div(self):\n",
    "        if 0 == self.second:\n",
    "            return 0\n",
    "        else:\n",
    "            return self.first / self.second"
   ]
  },
  {
   "cell_type": "code",
   "execution_count": 36,
   "id": "fea29a8e-55fb-4ba2-bdca-ad328256f3cb",
   "metadata": {},
   "outputs": [
    {
     "data": {
      "text/plain": [
       "0"
      ]
     },
     "execution_count": 36,
     "metadata": {},
     "output_type": "execute_result"
    }
   ],
   "source": [
    "aa = NewCal(10, 0)\n",
    "aa.div()"
   ]
  },
  {
   "cell_type": "markdown",
   "id": "69206f0c-a948-40a0-9099-ae23c96f20aa",
   "metadata": {},
   "source": [
    "### 클래스변수\n",
    "- 클래스의 필드에 변수의 작성\n",
    "- 실제 변경및 추가에도 가능(아래 예시)\n",
    "- 클래스변수는 객체변수와 달리 클래스로 만든 모든 객체에 공유된다는 특징이 있다."
   ]
  },
  {
   "cell_type": "code",
   "execution_count": 46,
   "id": "be7551d6-82b0-4b35-a003-d9c49aa1f4d1",
   "metadata": {},
   "outputs": [],
   "source": [
    "class Student:\n",
    "    name = \"Mr.P\""
   ]
  },
  {
   "cell_type": "code",
   "execution_count": 47,
   "id": "ba01bb67-6ca3-4cb4-975f-3fc0ed32bd3b",
   "metadata": {},
   "outputs": [
    {
     "data": {
      "text/plain": [
       "'Mr.P'"
      ]
     },
     "execution_count": 47,
     "metadata": {},
     "output_type": "execute_result"
    }
   ],
   "source": [
    "Student.name"
   ]
  },
  {
   "cell_type": "code",
   "execution_count": 48,
   "id": "2a9f093c-d0f4-442c-8d6f-04bcb3391c2e",
   "metadata": {},
   "outputs": [
    {
     "name": "stdout",
     "output_type": "stream",
     "text": [
      "Mr.P\n",
      "Mr.P\n"
     ]
    }
   ],
   "source": [
    "a = Student()\n",
    "b = Student()\n",
    "print(a.name)\n",
    "print(b.name)"
   ]
  },
  {
   "cell_type": "code",
   "execution_count": 50,
   "id": "bf583ff5-a64b-4573-a516-ae3ec5ae4901",
   "metadata": {},
   "outputs": [
    {
     "name": "stdout",
     "output_type": "stream",
     "text": [
      "Mr.D\n",
      "Mr.D\n",
      "doman\n",
      "doman\n"
     ]
    }
   ],
   "source": [
    "Student.name = \"Mr.D\"\n",
    "print(a.name)\n",
    "print(b.name)\n",
    "Student.lname = \"doman\" # 새로생성.\n",
    "print(a.lname)\n",
    "print(b.lname)"
   ]
  },
  {
   "cell_type": "markdown",
   "id": "6fd6607f-3038-43e6-8d7c-5b4c9f79055c",
   "metadata": {},
   "source": [
    "### 클래스 응용"
   ]
  },
  {
   "cell_type": "code",
   "execution_count": 64,
   "id": "d67e9b6c-b17d-4742-ba97-cea4090b84f4",
   "metadata": {},
   "outputs": [],
   "source": [
    "# Basic Unit Class.\n",
    "class Unit:\n",
    "    hp = 100\n",
    "    sp = 30\n",
    "    level = 0\n",
    "    def __init__(self, level):\n",
    "        self.level = level\n",
    "        self.hp = (self.level * 30)\n",
    "        self.sp = (self.level * 10)\n",
    "    def eat(self):\n",
    "        print('delicious!')\n",
    "        self.hp += 10\n",
    "    def say(self):\n",
    "        print(f'My level is {self.level}')\n",
    "        print(f'My now hp is {self.hp}')\n",
    "        print(f'My now sp is {self.sp}')\n",
    "    def move(self):\n",
    "        print('move!')\n",
    "        self.sp -= 1"
   ]
  },
  {
   "cell_type": "code",
   "execution_count": 61,
   "id": "aaab8963-7fd7-41be-8231-aba0739ee2d1",
   "metadata": {},
   "outputs": [],
   "source": [
    "a = Unit(1)\n",
    "b = Unit(3)\n",
    "c = Unit(20)"
   ]
  },
  {
   "cell_type": "code",
   "execution_count": 63,
   "id": "ecd07a43-79ef-45a4-b7c6-2421dd9c867e",
   "metadata": {},
   "outputs": [
    {
     "name": "stdout",
     "output_type": "stream",
     "text": [
      "delicious!\n",
      "My level is 1\n",
      "My now hp is 50\n",
      "My now sp is 9\n",
      "move!\n",
      "delicious!\n",
      "My level is 3\n",
      "My now hp is 110\n",
      "My now sp is 29\n",
      "move!\n",
      "delicious!\n",
      "My level is 20\n",
      "My now hp is 620\n",
      "My now sp is 199\n",
      "move!\n"
     ]
    },
    {
     "data": {
      "text/plain": [
       "(None, None, None)"
      ]
     },
     "execution_count": 63,
     "metadata": {},
     "output_type": "execute_result"
    }
   ],
   "source": [
    "a.eat(), a.say(), a.move()\n",
    "b.eat(), b.say(), b.move()\n",
    "c.eat(), c.say(), c.move()"
   ]
  },
  {
   "cell_type": "code",
   "execution_count": 68,
   "id": "eafc75bf-3406-41dc-9979-f16cf3128b9e",
   "metadata": {},
   "outputs": [],
   "source": [
    "# 상속\n",
    "class Warrior(Unit):\n",
    "    def Skill(self):\n",
    "        print(f'Active Count {self.level} Sword Skill.')\n",
    "        sp -= 2"
   ]
  },
  {
   "cell_type": "code",
   "execution_count": 69,
   "id": "aa143dd7-43f6-4254-8bfc-705203f736ce",
   "metadata": {},
   "outputs": [
    {
     "name": "stdout",
     "output_type": "stream",
     "text": [
      "My level is 7\n",
      "My now hp is 210\n",
      "My now sp is 70\n",
      "Active Count 7 Sword Skill.\n"
     ]
    }
   ],
   "source": [
    "war1 = Warrior(7)\n",
    "war1.say()\n",
    "war1.Skill()"
   ]
  },
  {
   "cell_type": "code",
   "execution_count": 74,
   "id": "6e76a98d-2b78-4fc3-935b-800f710b14e7",
   "metadata": {},
   "outputs": [],
   "source": [
    "# 오버라이딩\n",
    "class Sorceress(Unit):\n",
    "    mp = 10\n",
    "    def __init__(self, level):\n",
    "        self.level = level\n",
    "        self.hp = (self.level * 30)\n",
    "        self.sp = (self.level * 10)\n",
    "        self.mp = (self.level * 10)\n",
    "    def Skill(self):\n",
    "        if self.level < 6:\n",
    "            print(f'Active Count {self.level} Ice Bolt Skill.')\n",
    "            self.mp -= 1\n",
    "        else:\n",
    "            print(f'Active Count {self.level} Blizzard Skill.')\n",
    "            self.mp -= 3\n",
    "        "
   ]
  },
  {
   "cell_type": "code",
   "execution_count": 75,
   "id": "3b14087e-3603-4713-ad78-ce081b15f75e",
   "metadata": {},
   "outputs": [
    {
     "name": "stdout",
     "output_type": "stream",
     "text": [
      "My level is 5\n",
      "My now hp is 150\n",
      "My now sp is 50\n",
      "Active Count 5 Ice Bolt Skill.\n",
      "My level is 17\n",
      "My now hp is 510\n",
      "My now sp is 170\n",
      "Active Count 17 Blizzard Skill.\n"
     ]
    }
   ],
   "source": [
    "sor1 = Sorceress(5)\n",
    "sor2 = Sorceress(17)\n",
    "sor1.say()\n",
    "sor1.Skill()\n",
    "sor2.say()\n",
    "sor2.Skill()"
   ]
  },
  {
   "cell_type": "markdown",
   "id": "ca8da5d6-9efc-454a-83b0-86b6d6d8abb3",
   "metadata": {},
   "source": [
    "#### 과제 - 클래스 구현"
   ]
  },
  {
   "cell_type": "code",
   "execution_count": 22,
   "id": "6cdd50d4-ec71-4ce3-a61f-41c1669462e5",
   "metadata": {},
   "outputs": [],
   "source": [
    "import re\n",
    "import time\n",
    "\n",
    "class Phone:\n",
    "    def __init__(self, pnum, model):\n",
    "        self.pnum = pnum\n",
    "        self.model = model\n",
    "        self.pset = set([])\n",
    "    def call(self, t_pnum):\n",
    "        print(f'{self.pnum} to call {t_pnum}')\n",
    "        self.pset.add(t_pnum)\n",
    "    def messenger(self, t_pnum, tomsg):\n",
    "        print(f'{self.pnum} to msg {t_pnum}; this msg is {tomsg}')\n",
    "        self.pset.add(t_pnum)\n",
    "    def camcall(self, t_pnum):\n",
    "        print(f'{self.pnum} to CamCall {t_pnum}')\n",
    "        self.pset.add(t_pnum)\n",
    "    def Speed(self):\n",
    "        mnum = re.findall('\\d+', 's21')[0]\n",
    "        print(f'속도가 {mnum}배 빠릅니다.')"
   ]
  },
  {
   "cell_type": "code",
   "execution_count": 28,
   "id": "0ec9dede-89de-4ca2-a294-5752eda0d515",
   "metadata": {},
   "outputs": [],
   "source": [
    "class SmartPhone(Phone):\n",
    "    def __init__(self, pnum, account, model):\n",
    "        super().__init__(pnum, model)\n",
    "        self.applist = []\n",
    "        self.myaccount = account;\n",
    "    def websuffing(self, url):\n",
    "        print(f'web connect to {url}')\n",
    "    def InstallApp(self, app):\n",
    "        print(f'Target {app} Install!')\n",
    "        self.Installing()\n",
    "        self.applist.insert(-1, app)\n",
    "        print(f'Target {app} Installed!')\n",
    "    def IBanking(self, money, account = ''):\n",
    "        if 0 >= len(account): account = self.myaccount\n",
    "        print(f'액수 {money}를 해당 {account}로 보냅니다.')\n",
    "    def Speed(self):\n",
    "        mnum = int(re.findall('\\d+', 's21')[0])\n",
    "        for c in range(mnum):\n",
    "            print(f'{c + 1}번 스마트하게 출력.')\n",
    "\n",
    "    #private\n",
    "    def Installing(self):\n",
    "        str = '>'\n",
    "        for i in range(101):\n",
    "            # 여기서 print에 , end '\\r' 이 의미는 개행하지 않고 그 라인에\n",
    "            print(f'{i:<3}% >>> |{str * (i//5):<20}|', end='\\r')\n",
    "            str\n",
    "            time.sleep(0.1)"
   ]
  },
  {
   "cell_type": "code",
   "execution_count": 29,
   "id": "d5a00d91-6fbd-4493-8703-e1540036e8c6",
   "metadata": {},
   "outputs": [],
   "source": [
    "class SecurePhone(Phone):\n",
    "    def __init__(self, pnum, account, model):\n",
    "        super().__init__(pnum, model)\n",
    "        self.applist = []\n",
    "        self.myaccount = account;\n",
    "    def InstallApp(self, app):\n",
    "        print(f'Target {app} Install!')\n",
    "        self.Installing()\n",
    "        self.applist.insert(-1, app)\n",
    "        print(f'Target {app} Installed!')\n",
    "    def IBanking(self, money, account = ''):\n",
    "        if 0 >= len(account): account = self.myaccount\n",
    "        print(f'액수 {money}를 해당 {account}로 보냅니다.')\n",
    "    def Speed(self):\n",
    "        mnum = int(re.findall('\\d+', 's21')[0])\n",
    "        if 20 >= mnum:\n",
    "            print('s20 이하는 보안으로 동작되지 않습니다.')\n",
    "        else:\n",
    "            print('s21 이상은 보안이 적용되고 있습니다.')\n",
    "        print(f'현재 모델 : {self.model}')\n",
    "    \n",
    "    #private\n",
    "    def Installing(self):\n",
    "        str = '>'\n",
    "        for i in range(101):\n",
    "            # 여기서 print에 , end '\\r' 이 의미는 개행하지 않고 그 라인에\n",
    "            print(f'{i:<3}% >>> |{str * (i//5):<20}|', end='\\r')\n",
    "            str\n",
    "            time.sleep(0.1)"
   ]
  },
  {
   "cell_type": "code",
   "execution_count": 30,
   "id": "01849ea2-9667-4523-ac82-d1e631bb8f84",
   "metadata": {},
   "outputs": [],
   "source": [
    "a = Phone('010-3321-5453', 's12')\n",
    "b = SmartPhone('010-3241-9999', '334-11112', 's21')\n",
    "c = SecurePhone('010-1234-5678', '3AB-12345', 's23')\n",
    "d = SecurePhone('010-9876-5432', '3AB-C1234', 's8')"
   ]
  },
  {
   "cell_type": "code",
   "execution_count": 31,
   "id": "87ac7081-1397-4fed-8c03-bd365750b8a8",
   "metadata": {},
   "outputs": [
    {
     "name": "stdout",
     "output_type": "stream",
     "text": [
      "010-3321-5453 to call 010-3241-9999\n",
      "010-3321-5453 to msg 010-1234-5678; this msg is hello Mr.C\n",
      "010-3321-5453 to CamCall 010-9876-5432\n",
      "속도가 21배 빠릅니다.\n"
     ]
    }
   ],
   "source": [
    "a.call(b.pnum)\n",
    "a.messenger(c.pnum, 'hello Mr.C')\n",
    "a.camcall(d.pnum)\n",
    "a.Speed()"
   ]
  },
  {
   "cell_type": "code",
   "execution_count": 33,
   "id": "5b773533-fa3b-4565-b0d1-3cfd4a46eebe",
   "metadata": {},
   "outputs": [
    {
     "name": "stdout",
     "output_type": "stream",
     "text": [
      "010-3241-9999 to call 010-3321-5453\n",
      "010-3241-9999 to msg 010-1234-5678; this msg is hello Mr.C\n",
      "010-3241-9999 to CamCall 010-9876-5432\n",
      "Target mydiary Install!\n",
      "Target mydiary Installed!>>>>>|\n",
      "액수 30000를 해당 334-11112로 보냅니다.\n",
      "1번 스마트하게 출력.\n",
      "2번 스마트하게 출력.\n",
      "3번 스마트하게 출력.\n",
      "4번 스마트하게 출력.\n",
      "5번 스마트하게 출력.\n",
      "6번 스마트하게 출력.\n",
      "7번 스마트하게 출력.\n",
      "8번 스마트하게 출력.\n",
      "9번 스마트하게 출력.\n",
      "10번 스마트하게 출력.\n",
      "11번 스마트하게 출력.\n",
      "12번 스마트하게 출력.\n",
      "13번 스마트하게 출력.\n",
      "14번 스마트하게 출력.\n",
      "15번 스마트하게 출력.\n",
      "16번 스마트하게 출력.\n",
      "17번 스마트하게 출력.\n",
      "18번 스마트하게 출력.\n",
      "19번 스마트하게 출력.\n",
      "20번 스마트하게 출력.\n",
      "21번 스마트하게 출력.\n"
     ]
    }
   ],
   "source": [
    "b.call(a.pnum)\n",
    "b.messenger(c.pnum, 'hello Mr.C')\n",
    "b.camcall(d.pnum)\n",
    "b.InstallApp('mydiary')\n",
    "b.IBanking(30000)\n",
    "b.Speed()"
   ]
  },
  {
   "cell_type": "code",
   "execution_count": 34,
   "id": "572d2bce-3693-4b3c-9931-208d591c43b3",
   "metadata": {},
   "outputs": [
    {
     "name": "stdout",
     "output_type": "stream",
     "text": [
      "010-1234-5678 to call 010-3321-5453\n",
      "010-1234-5678 to msg 010-3241-9999; this msg is hello Mr.B\n",
      "010-1234-5678 to CamCall 010-9876-5432\n",
      "Target mySecure Install!\n",
      "Target mySecure Installed!>>>>|\n",
      "액수 15000를 해당 3AB-12345로 보냅니다.\n",
      "s21 이상은 보안이 적용되고 있습니다.\n",
      "현재 모델 : s23\n"
     ]
    }
   ],
   "source": [
    "c.call(a.pnum)\n",
    "c.messenger(b.pnum, 'hello Mr.B')\n",
    "c.camcall(d.pnum)\n",
    "c.InstallApp('mySecure')\n",
    "c.IBanking(15000)\n",
    "c.Speed()"
   ]
  },
  {
   "cell_type": "code",
   "execution_count": 125,
   "id": "ddec4da2-85fb-4efe-ab98-0d939a97ccf3",
   "metadata": {},
   "outputs": [
    {
     "name": "stdout",
     "output_type": "stream",
     "text": [
      "010-9876-5432 to call 010-3321-5453\n",
      "010-9876-5432 to msg 010-3241-9999; this msg is hello Mr.B\n",
      "010-9876-5432 to CamCall 010-1234-5678\n",
      "s21 이상은 보안이 적용되고 있습니다.\n",
      "현재 모델 : s8\n"
     ]
    }
   ],
   "source": [
    "d.call(a.pnum)\n",
    "d.messenger(b.pnum, 'hello Mr.B')\n",
    "d.camcall(c.pnum)\n",
    "d.Speed()"
   ]
  },
  {
   "cell_type": "markdown",
   "id": "30c61a1d-3b0d-4add-bb7f-4191fef29d24",
   "metadata": {},
   "source": [
    "## 모듈 **\n",
    "\n",
    "<fieldset><legend>import와 실행</legend>\r\n",
    "<strong><code>__name__</code> 변수란?</strong><p></p>\r\n",
    "<p>파이썬의 <code>__name__</code> 변수는 파이썬이 내부적으로 사용하는 특별한 변수 이름이다. 만약 <code>C:\\doit&gt;python mod1.py</code>처럼 직접 mod1.py 파일을 실행할 경우, mod1.py의 <code>__name__</code> 변수에는 <code>__main__</code> 값이 저장된다. 하지만 파이썬 셸이나 다른 파이썬 모듈에서 mod1을 import할 경우에는 mod1.py의 <code>__name__</code> 변수에 mod1.py의 모듈 이름인 mod1이 저장된다.</p>\r\n",
    "<pre><code class=\"language-python hljs md-csc-wrap\"><button class=\"md-csc-button btn btn-xs btn-default\"><span class=\"copymsg\">Copy</span></button><span class=\"hljs-meta\">&gt;&gt;&gt; </span><span class=\"hljs-keyword\">import</span> mod1\r\n",
    "<span class=\"hljs-meta\">&gt;&gt;&gt; </span>mod1.__name__\r\n",
    "<span class=\"hljs-string\">'mod1'</span>\r\n",
    "</code></pre>\r\n",
    "<p></p></fieldset>"
   ]
  },
  {
   "cell_type": "code",
   "execution_count": 126,
   "id": "b5840873-76ab-47ad-b81a-cbeef71424b6",
   "metadata": {},
   "outputs": [],
   "source": [
    "with open('mod1.py', 'w') as f:\n",
    "    data = '''def add(a,b):\n",
    "    return a+b\n",
    "def sub(a,b):\n",
    "    return a-b\n",
    "'''\n",
    "    f.write(data)"
   ]
  },
  {
   "cell_type": "code",
   "execution_count": 129,
   "id": "29249d7f-f85d-4b0a-82c0-bd9f4b1b675e",
   "metadata": {},
   "outputs": [
    {
     "name": "stdout",
     "output_type": "stream",
     "text": [
      "7\n",
      "4\n"
     ]
    }
   ],
   "source": [
    "import mod1\n",
    "print(mod1.add(3,4))\n",
    "print(mod1.sub(7,3))"
   ]
  },
  {
   "cell_type": "code",
   "execution_count": 134,
   "id": "3b0133c0-2bcd-4a25-8951-3cd7c16ac6a8",
   "metadata": {},
   "outputs": [
    {
     "name": "stdout",
     "output_type": "stream",
     "text": [
      "7\n",
      "4\n"
     ]
    }
   ],
   "source": [
    "from mod1 import add, sub\n",
    "print(add(3, 4))\n",
    "print(sub(7,3))"
   ]
  },
  {
   "cell_type": "code",
   "execution_count": 136,
   "id": "65023dcd-5e10-44d3-a5e9-598dc68171b0",
   "metadata": {},
   "outputs": [
    {
     "name": "stdout",
     "output_type": "stream",
     "text": [
      "7\n",
      "4\n"
     ]
    }
   ],
   "source": [
    "from mod1 import * # 단점.. 충돌 및 필요없는 애들 다 가져올 수 있음.\n",
    "print(add(3, 4))\n",
    "print(sub(7,3))"
   ]
  },
  {
   "cell_type": "code",
   "execution_count": 137,
   "id": "7d8cac7b-e2e0-4861-9a3d-68868a749473",
   "metadata": {},
   "outputs": [
    {
     "data": {
      "text/plain": [
       "'__main__'"
      ]
     },
     "execution_count": 137,
     "metadata": {},
     "output_type": "execute_result"
    }
   ],
   "source": [
    "__name__ # 현 scope "
   ]
  },
  {
   "cell_type": "code",
   "execution_count": 138,
   "id": "ea8b56be-f385-4657-8e67-98132a44cf91",
   "metadata": {},
   "outputs": [],
   "source": [
    "with open('mod1.py', 'a') as f:\n",
    "    data = '''print(add(1,4))\n",
    "print(sub(4,2))\n",
    "'''\n",
    "    f.write(data)"
   ]
  },
  {
   "cell_type": "code",
   "execution_count": 1,
   "id": "2c0c11dc-38ca-4792-9989-d07916bb4dae",
   "metadata": {},
   "outputs": [
    {
     "name": "stdout",
     "output_type": "stream",
     "text": [
      "5\n",
      "2\n"
     ]
    }
   ],
   "source": [
    "import mod1"
   ]
  },
  {
   "cell_type": "code",
   "execution_count": 2,
   "id": "db34a834-2bfd-49f7-adbf-b8bb6472668f",
   "metadata": {},
   "outputs": [
    {
     "name": "stdout",
     "output_type": "stream",
     "text": [
      "5\n",
      "2\n"
     ]
    }
   ],
   "source": [
    "!python mod1.py"
   ]
  },
  {
   "cell_type": "code",
   "execution_count": 3,
   "id": "18b3435f-4acc-4d60-b0fd-1ca9cef5c361",
   "metadata": {},
   "outputs": [],
   "source": [
    "with open('mod1.py', 'a') as f:\n",
    "    data = '''print(__name__)'''\n",
    "    f.write(data)"
   ]
  },
  {
   "cell_type": "code",
   "execution_count": 4,
   "id": "765e677f-fabc-4c64-93c6-a065625c8676",
   "metadata": {},
   "outputs": [
    {
     "name": "stdout",
     "output_type": "stream",
     "text": [
      "5\n",
      "2\n",
      "__main__\n"
     ]
    }
   ],
   "source": [
    "!python mod1.py"
   ]
  },
  {
   "cell_type": "code",
   "execution_count": 1,
   "id": "c4bb12f2-d94b-4e99-a3eb-a9233bcede5f",
   "metadata": {},
   "outputs": [],
   "source": [
    "import mod1"
   ]
  },
  {
   "cell_type": "code",
   "execution_count": 2,
   "id": "c2d4bf52-5c92-4d3e-bafc-aeeb930381b5",
   "metadata": {},
   "outputs": [],
   "source": [
    "with open('mod1.py', 'a') as f:\n",
    "    data = '''if \"__main__\" == __name__:\n",
    "    print(add(1,4))\n",
    "    print(sub(4,2))'''\n",
    "    f.write(data)"
   ]
  },
  {
   "cell_type": "code",
   "execution_count": 3,
   "id": "c241cffa-81e8-4373-a093-1014afd9ab9f",
   "metadata": {},
   "outputs": [
    {
     "name": "stdout",
     "output_type": "stream",
     "text": [
      "5\n",
      "2\n"
     ]
    }
   ],
   "source": [
    "!python mod1.py"
   ]
  },
  {
   "cell_type": "code",
   "execution_count": 4,
   "id": "b41dd0d7-5907-4814-bec7-d2bab32533e7",
   "metadata": {},
   "outputs": [],
   "source": [
    "import mod1"
   ]
  },
  {
   "cell_type": "markdown",
   "id": "ac791263-79ac-448c-be61-e91d6ec7e3b2",
   "metadata": {},
   "source": [
    "### 클래스나 변수 등을 포함한 모듈"
   ]
  },
  {
   "cell_type": "code",
   "execution_count": 11,
   "id": "9845ba1a-4e9e-4721-b408-3df9e5f07ad3",
   "metadata": {},
   "outputs": [],
   "source": [
    "f = open('mod2.py', 'w')\n",
    "data = '''\n",
    "PI = 3.141592\n",
    "\n",
    "class Math:\n",
    "    def solv(self, r):\n",
    "        return PI * (r**2)\n",
    "\n",
    "def add(a, b):\n",
    "    return a + b'''\n",
    "f.write(data)\n",
    "f.close()"
   ]
  },
  {
   "cell_type": "code",
   "execution_count": 7,
   "id": "d9557b76-f793-4e17-9297-0eefaf887e67",
   "metadata": {},
   "outputs": [
    {
     "name": "stdout",
     "output_type": "stream",
     "text": [
      "\n",
      "PI = 3.141592\n",
      "\n",
      "class Math:\n",
      "    def solv(self, r):\n",
      "        return PI * (r**2)\n",
      "\n",
      "def add(a, b):\n",
      "    return a + b\n"
     ]
    }
   ],
   "source": [
    "f = open('mod2.py', 'r')\n",
    "print(f.read())\n",
    "f.close()"
   ]
  },
  {
   "cell_type": "code",
   "execution_count": 8,
   "id": "e3a0adc7-1f91-4c6b-b819-7c9161b3b029",
   "metadata": {},
   "outputs": [
    {
     "name": "stdout",
     "output_type": "stream",
     "text": [
      "3.141592\n"
     ]
    }
   ],
   "source": [
    "import mod2\n",
    "print(mod2.PI)"
   ]
  },
  {
   "cell_type": "code",
   "execution_count": 9,
   "id": "e24dd023-fa2f-41bd-9ff0-356e07c27f45",
   "metadata": {},
   "outputs": [
    {
     "name": "stdout",
     "output_type": "stream",
     "text": [
      "12.566368\n"
     ]
    }
   ],
   "source": [
    "a = mod2.Math() # new Instance from Class.\n",
    "print(a.solv(2))"
   ]
  },
  {
   "cell_type": "code",
   "execution_count": 10,
   "id": "cce9f62e-9324-4eeb-b6d8-bfbd54f14276",
   "metadata": {},
   "outputs": [
    {
     "name": "stdout",
     "output_type": "stream",
     "text": [
      "7.5415920000000005\n"
     ]
    }
   ],
   "source": [
    "print(mod2.add(mod2.PI, 4.4))"
   ]
  },
  {
   "cell_type": "code",
   "execution_count": 12,
   "id": "f1da3e71-53be-45a7-b774-66febd02f9df",
   "metadata": {},
   "outputs": [],
   "source": [
    "f = open('mod2.py', 'a')\n",
    "data = '''\n",
    "class Math2:\n",
    "    def __init__(self, r=3):\n",
    "        self.r = r\n",
    "    def solv(self):\n",
    "        return PI * (self.r**2)\n",
    "'''\n",
    "f.write(data)\n",
    "f.close()"
   ]
  },
  {
   "cell_type": "code",
   "execution_count": 7,
   "id": "c73f4be5-3584-4c22-a2b8-7affd2d415ea",
   "metadata": {},
   "outputs": [
    {
     "name": "stdout",
     "output_type": "stream",
     "text": [
      "\n",
      "PI = 3.141592\n",
      "\n",
      "class Math:\n",
      "    def solv(self, r):\n",
      "        return PI * (r**2)\n",
      "\n",
      "def add(a, b):\n",
      "    return a + b\n",
      "class Math2:\n",
      "    def __init__(self, r=3):\n",
      "        self.r = r\n",
      "    def __new__(cls):\n",
      "        return PI * (self.r**2)\n",
      "\n"
     ]
    }
   ],
   "source": [
    "f = open('mod2.py', 'r')\n",
    "print(f.read())\n",
    "f.close()"
   ]
  },
  {
   "cell_type": "code",
   "execution_count": 13,
   "id": "67cf35ff-cc1a-4cef-9c98-fa8250088141",
   "metadata": {},
   "outputs": [
    {
     "name": "stdout",
     "output_type": "stream",
     "text": [
      "28.274328\n"
     ]
    }
   ],
   "source": [
    "import mod2 as m2\n",
    "a = m2.Math2()\n",
    "print(a.solv())"
   ]
  },
  {
   "cell_type": "markdown",
   "id": "96c7861e-2386-4c19-a211-bf7044a378aa",
   "metadata": {},
   "source": [
    "#### 별도로 실험"
   ]
  },
  {
   "cell_type": "code",
   "execution_count": 1,
   "id": "91c490ba-6063-4c96-ad1d-8b1cc706209c",
   "metadata": {},
   "outputs": [],
   "source": [
    "f = open('mod2.py', 'w')\n",
    "data = '''\n",
    "PI = 3.141592\n",
    "\n",
    "class Math:\n",
    "    def solv(self, r):\n",
    "        return PI * (r**2)\n",
    "\n",
    "def add(a, b):\n",
    "    return a + b'''\n",
    "f.write(data)\n",
    "f.close()"
   ]
  },
  {
   "cell_type": "code",
   "execution_count": 2,
   "id": "bc148df2-338f-4e15-b843-3f3dafd37829",
   "metadata": {},
   "outputs": [],
   "source": [
    "f = open('mod2.py', 'a')\n",
    "data = '''\n",
    "class Math2:\n",
    "    def __new__(cls, r=3):\n",
    "        return PI * (r**2)\n",
    "'''\n",
    "f.write(data)\n",
    "f.close()"
   ]
  },
  {
   "cell_type": "code",
   "execution_count": 3,
   "id": "04e4810c-0305-495c-9194-6a4c3091050c",
   "metadata": {},
   "outputs": [
    {
     "name": "stdout",
     "output_type": "stream",
     "text": [
      "\n",
      "PI = 3.141592\n",
      "\n",
      "class Math:\n",
      "    def solv(self, r):\n",
      "        return PI * (r**2)\n",
      "\n",
      "def add(a, b):\n",
      "    return a + b\n",
      "class Math2:\n",
      "    def __new__(cls, r=3):\n",
      "        return PI * (r**2)\n",
      "\n"
     ]
    }
   ],
   "source": [
    "f = open('mod2.py', 'r')\n",
    "print(f.read())\n",
    "f.close()"
   ]
  },
  {
   "cell_type": "code",
   "execution_count": 4,
   "id": "419baefc-e12a-4fed-b862-1b667f4d5050",
   "metadata": {},
   "outputs": [
    {
     "name": "stdout",
     "output_type": "stream",
     "text": [
      "28.274328\n"
     ]
    }
   ],
   "source": [
    "import mod2 as m2\n",
    "a = m2.Math2()\n",
    "print(a)"
   ]
  },
  {
   "cell_type": "code",
   "execution_count": 7,
   "id": "d05defe3-4d21-46d6-a42d-825ced9bd2c7",
   "metadata": {},
   "outputs": [],
   "source": [
    "# 한번더 __init__ 함수로 가능할까?\n",
    "f = open('mod2.py', 'w')\n",
    "data = '''\n",
    "PI = 3.141592\n",
    "\n",
    "class Math:\n",
    "    def solv(self, r):\n",
    "        return PI * (r**2)\n",
    "\n",
    "def add(a, b):\n",
    "    return a + b\n",
    "    \n",
    "class Math2:\n",
    "    def __init__(self, r=3):\n",
    "        return PI * (r**2)'''\n",
    "f.write(data)\n",
    "f.close()"
   ]
  },
  {
   "cell_type": "code",
   "execution_count": 8,
   "id": "1167bab4-3a1e-4afc-b65e-1209a3d8d4a2",
   "metadata": {},
   "outputs": [
    {
     "name": "stdout",
     "output_type": "stream",
     "text": [
      "\n",
      "PI = 3.141592\n",
      "\n",
      "class Math:\n",
      "    def solv(self, r):\n",
      "        return PI * (r**2)\n",
      "\n",
      "def add(a, b):\n",
      "    return a + b\n",
      "    \n",
      "class Math2:\n",
      "    def __init__(self, r=3):\n",
      "        return PI * (r**2)\n"
     ]
    }
   ],
   "source": [
    "f = open('mod2.py', 'r')\n",
    "print(f.read())\n",
    "f.close()"
   ]
  },
  {
   "cell_type": "code",
   "execution_count": null,
   "id": "2d094a0e-d53d-4894-8f10-156b40af6773",
   "metadata": {
    "scrolled": true
   },
   "outputs": [],
   "source": [
    "import mod2 as m2\n",
    "a = m2.Math2()\n",
    "print(a)"
   ]
  },
  {
   "attachments": {
    "5b79435a-7b2e-40af-b02b-d4d0ba7da003.png": {
     "image/png": "[encoded data removed]"
    }
   },
   "cell_type": "markdown",
   "id": "eda013aa-b842-4e7f-846c-e882596f3640",
   "metadata": {},
   "source": [
    "- python 문서보니...  \n",
    "    __init__() 에서는 절대 return을 남기면 안된다고 한다. org...\n",
    "![image.png](attachment:5b79435a-7b2e-40af-b02b-d4d0ba7da003.png)"
   ]
  },
  {
   "cell_type": "markdown",
   "id": "b3e4a318-07a9-494c-8c37-64adef35b124",
   "metadata": {},
   "source": [
    "### 다른 파일에서 모듈 불러오기\n",
    "- 파일이 동일한 디렉터리에 있어야 한다."
   ]
  },
  {
   "cell_type": "markdown",
   "id": "8575989c-1e83-4626-a704-771c58348151",
   "metadata": {},
   "source": [
    "### 다른 디렉터리에 잇는 모듈을 불러오는 방법"
   ]
  },
  {
   "cell_type": "markdown",
   "id": "ad70c0c2-45a5-4cfe-99ba-7a20875fa881",
   "metadata": {},
   "source": [
    "#### sys.path.append 사용하기 (기록)"
   ]
  },
  {
   "cell_type": "code",
   "execution_count": 6,
   "id": "19df854c-5c45-4d61-ac01-cc25e38e348d",
   "metadata": {},
   "outputs": [
    {
     "data": {
      "text/plain": [
       "['/home/pi01/py_test/py_data/Lec',\n",
       " '/usr/lib/python311.zip',\n",
       " '/usr/lib/python3.11',\n",
       " '/usr/lib/python3.11/lib-dynload',\n",
       " '',\n",
       " '/home/pi01/venv/lib/python3.11/site-packages']"
      ]
     },
     "execution_count": 6,
     "metadata": {},
     "output_type": "execute_result"
    }
   ],
   "source": [
    "import sys\n",
    "sys.path"
   ]
  },
  {
   "cell_type": "code",
   "execution_count": 7,
   "id": "e286739a-1b75-42e0-a11c-7d8c8d0af393",
   "metadata": {},
   "outputs": [
    {
     "data": {
      "text/plain": [
       "list"
      ]
     },
     "execution_count": 7,
     "metadata": {},
     "output_type": "execute_result"
    }
   ],
   "source": [
    "type(sys.path)"
   ]
  },
  {
   "cell_type": "code",
   "execution_count": 9,
   "id": "4e269dbd-99c1-4c0a-a9bc-8235ba5648df",
   "metadata": {},
   "outputs": [
    {
     "name": "stdout",
     "output_type": "stream",
     "text": [
      "/home/pi01/py_test/py_data/Lec\n",
      "LSH_Lab.ipynb\tType_files   mod1.py\t  newfile2.txt\tres\n",
      "PyNote01.ipynb\t__pycache__  mod2.py\t  out\t\ttempOutput.ipynb\n",
      "Type.md\t\tlscript.py   newfile.txt  py_mtea.py\ttempOutput.md\n"
     ]
    }
   ],
   "source": [
    "!pwd\n",
    "!ls"
   ]
  },
  {
   "cell_type": "code",
   "execution_count": 10,
   "id": "8233d09c-6453-4820-9900-71ea8b4a39a4",
   "metadata": {},
   "outputs": [],
   "source": [
    "# sys.path.insert(-1, '')"
   ]
  },
  {
   "cell_type": "markdown",
   "id": "3442f029-ff02-4004-ada7-383f45b645b9",
   "metadata": {},
   "source": [
    "#### PYTHONPATH 환경 변수 사용하기 (즉석 : jlab 콘솔 다시실행시 날라감..)\n",
    "- 맥이나 유닉스 환경에서는 set 대신 export 명령 사용해야."
   ]
  },
  {
   "cell_type": "markdown",
   "id": "ba2fd45b-9f74-4087-ac01-1f35f1b5aa41",
   "metadata": {},
   "source": [
    "## 패키지 **\n",
    "- 파이썬에서 패키지(packages)란 관련 있는 모듈의 집합을 말한다. 패키지는 파이썬 모듈을 계층적(디렉터리 구조)으로 관리할 수 있게 해 준다.\n",
    "- 파이썬에서 모듈은 하나의 .py 파일이다."
   ]
  },
  {
   "cell_type": "markdown",
   "id": "c8d368b7-1d1d-4f22-a1d9-811283210b71",
   "metadata": {},
   "source": [
    "### 패키지 만들기"
   ]
  },
  {
   "cell_type": "code",
   "execution_count": 53,
   "id": "1f5dcda5-2491-4bda-99dc-db3179042e75",
   "metadata": {},
   "outputs": [
    {
     "data": {
      "text/plain": [
       "'/home/pi01/py_test/py_data/Lec'"
      ]
     },
     "execution_count": 53,
     "metadata": {},
     "output_type": "execute_result"
    }
   ],
   "source": [
    "import os\n",
    "os.getcwd() # 현재 경로 파악.\n",
    "# os.mkdir('pkg') # 경로상에 폴더 생성.\n",
    "# os.mkdir('pkg/sound')\n",
    "# os.mkdir('pkg/graphic')\n",
    "# exist_ok=True : 있다면 에러무시.. 덮어씌우던가..\n",
    "# os.makedirs('pkg/sound', exist_ok=True) # pkg-sound 디랙토리 전부 생성.\n",
    "\n",
    "# 아무튼.. 이렇게 많은 단계의 폴더생성이 가능하다..\n",
    "# os.makedirs('1/2/3/4/5/6/7')"
   ]
  },
  {
   "cell_type": "code",
   "execution_count": 55,
   "id": "a2956c7a-c328-4055-8952-d5825d44ac4b",
   "metadata": {},
   "outputs": [],
   "source": [
    "os.makedirs('pkg/sound')\n",
    "os.makedirs('pkg/graphic')"
   ]
  },
  {
   "cell_type": "code",
   "execution_count": 59,
   "id": "67f37704-165e-42a8-bf10-c39bbe5bb042",
   "metadata": {},
   "outputs": [],
   "source": [
    "with open('pkg/__init__.py', 'w'):\n",
    "    pass\n",
    "\n",
    "with open('pkg/sound/__init__.py', 'w'):\n",
    "    pass\n",
    "\n",
    "with open('pkg/graphic/__init__.py', 'w'):\n",
    "    pass"
   ]
  },
  {
   "cell_type": "code",
   "execution_count": 60,
   "id": "915df02f-9b10-408c-a9d8-1221e1d435b9",
   "metadata": {},
   "outputs": [],
   "source": [
    "f = open('pkg/sound/echo.py', 'w')\n",
    "data = '''\n",
    "def echo_test():\n",
    "    print(\"echo\")'''\n",
    "f.write(data)\n",
    "f.close()"
   ]
  },
  {
   "cell_type": "code",
   "execution_count": 61,
   "id": "f45b6a75-e4fe-4cda-aa2b-a523d85287f6",
   "metadata": {},
   "outputs": [],
   "source": [
    "f = open('pkg/graphic/render.py', 'w')\n",
    "data = '''\n",
    "def render_test():\n",
    "    print(\"render\")'''\n",
    "f.write(data)\n",
    "f.close()"
   ]
  },
  {
   "cell_type": "code",
   "execution_count": 62,
   "id": "ef4cdaa0-88c5-495a-b0b9-02a233a5673e",
   "metadata": {},
   "outputs": [
    {
     "name": "stdout",
     "output_type": "stream",
     "text": [
      "/home/pi01/py_test/py_data/Lec\n"
     ]
    }
   ],
   "source": [
    "!pwd"
   ]
  },
  {
   "cell_type": "code",
   "execution_count": 63,
   "id": "3d0b32d4-1be6-48bd-ba9b-c592303bba24",
   "metadata": {},
   "outputs": [],
   "source": [
    "!export PYTHONPATH=/home/pi01/py_test/py_data/Lec"
   ]
  },
  {
   "cell_type": "code",
   "execution_count": 5,
   "id": "dad5d5db-c820-4c86-b921-0f6fdb753aa4",
   "metadata": {},
   "outputs": [],
   "source": [
    "# !python lscript.L6_Check(3)"
   ]
  },
  {
   "cell_type": "markdown",
   "id": "fefa3196-6bdd-4f91-bd51-cb52c267a9fc",
   "metadata": {},
   "source": [
    "### 패키지 안의 함수 실행하기"
   ]
  },
  {
   "cell_type": "markdown",
   "id": "81cb8bdb-a2f4-485c-8a93-e2e114df2543",
   "metadata": {},
   "source": [
    "#### echo 모듈을 import하여 실행."
   ]
  },
  {
   "cell_type": "code",
   "execution_count": 64,
   "id": "dc30103d-29c4-4592-9c5f-96761286a6be",
   "metadata": {},
   "outputs": [
    {
     "name": "stdout",
     "output_type": "stream",
     "text": [
      "echo\n"
     ]
    }
   ],
   "source": [
    "import pkg.sound.echo\n",
    "\n",
    "pkg.sound.echo.echo_test()"
   ]
  },
  {
   "cell_type": "code",
   "execution_count": 65,
   "id": "cca322d8-8133-4f7b-9d4c-b88c529dc5ed",
   "metadata": {},
   "outputs": [
    {
     "name": "stdout",
     "output_type": "stream",
     "text": [
      "echo\n"
     ]
    }
   ],
   "source": [
    "# 길면 별칭 쓰기;;\n",
    "import pkg.sound.echo as echo\n",
    "\n",
    "echo.echo_test()"
   ]
  },
  {
   "cell_type": "code",
   "execution_count": 67,
   "id": "aae67702-bf8e-465c-9afc-974c22e92192",
   "metadata": {},
   "outputs": [
    {
     "name": "stdout",
     "output_type": "stream",
     "text": [
      "render\n"
     ]
    }
   ],
   "source": [
    "import pkg.graphic.render as rd\n",
    "\n",
    "rd.render_test()"
   ]
  },
  {
   "cell_type": "markdown",
   "id": "4c5794c1-a2cb-4f40-80dc-509a0039698f",
   "metadata": {},
   "source": [
    "#### echo 모듈이 있는 디렉터리까지를 from ... import 하여 실행"
   ]
  },
  {
   "cell_type": "code",
   "execution_count": 1,
   "id": "6dd4cb44-1757-4d62-b70c-95d0f495afa8",
   "metadata": {},
   "outputs": [
    {
     "name": "stdout",
     "output_type": "stream",
     "text": [
      "echo\n"
     ]
    }
   ],
   "source": [
    "from pkg.sound import echo\n",
    "echo.echo_test()"
   ]
  },
  {
   "cell_type": "markdown",
   "id": "8d6ad6d5-82d3-4bf8-9b2c-fc76841780e4",
   "metadata": {},
   "source": [
    "#### echo 모듈의 echo_test 함수를 직접 import하여 실행."
   ]
  },
  {
   "cell_type": "code",
   "execution_count": 2,
   "id": "e8a3edc5-eb7c-4aac-b912-fc4cc68d3c79",
   "metadata": {},
   "outputs": [
    {
     "name": "stdout",
     "output_type": "stream",
     "text": [
      "echo\n"
     ]
    }
   ],
   "source": [
    "from pkg.sound.echo import echo_test\n",
    "\n",
    "echo_test()"
   ]
  },
  {
   "cell_type": "markdown",
   "id": "28429b98-3123-4c68-bb37-d784676fe9c5",
   "metadata": {},
   "source": [
    "- 도트 연산자{.}를 사용하여 import a.b.c 처럼 import할 때 가장 마지막 항목인 c는 반드시 모듈 또는 패키지 여야 함."
   ]
  },
  {
   "cell_type": "markdown",
   "id": "562fa699-cb6f-4812-9e5b-3d5c2a81f3e2",
   "metadata": {},
   "source": [
    "### \\_\\_init\\_\\_.py의 용도 *\n",
    "- __init__.py 파일은 해당 디렉터리가 패키지의 일부임을 알려 주는 역할을 한다. 만약 game, sound, graphic 등 패키지에 포함된 디렉터리에 __init__.py 파일이 없다면 패키지로 인식되지 않는다.\n",
    "<blockquote>\n",
    "\n",
    "<p>python 3.3 버전부터는 <code>__init__.py</code> 파일이 없어도 패키지로 인식한다(<a class=\"wiki_link\" data-title=\"PEP\" data-wiki=\"/page/wiki/PEP\" href=\"javascript:void(0)\">PEP</a> 420). 하지만 하위 버전 호환을 위해 <code>__init__.py</code> 파일을 생성하는 것이 안전한 방법이다.</p>\r\n",
    "</blockquot\n",
    "\n",
    "- 또한, __init__.py 파일은 패키지와 관련된 설정이나 초기화 코드를 포함할 수 있다. 다양한 방법으로 활용할 수 있다.e>"
   ]
  },
  {
   "cell_type": "markdown",
   "id": "beabbcff-fb41-4ac3-84a2-93848f3e5f8c",
   "metadata": {},
   "source": [
    "#### 패키지 변수 및 함수 정의"
   ]
  },
  {
   "cell_type": "code",
   "execution_count": 1,
   "id": "0b1f6c38-cc98-4123-bb86-b5a90991b9bf",
   "metadata": {},
   "outputs": [],
   "source": [
    "with open('pkg/__init__.py', 'w') as f:\n",
    "    data = '''\n",
    "VERSION = 3.11\n",
    "\n",
    "def print_version_info():\n",
    "    print(f\"The version of this pkg is {VERSION}.\")\n",
    "'''\n",
    "    f.write(data)\n",
    "    f.close()"
   ]
  },
  {
   "cell_type": "code",
   "execution_count": 5,
   "id": "d0402084-de1b-46e4-9b28-0f45cd1ebd1a",
   "metadata": {},
   "outputs": [
    {
     "name": "stdout",
     "output_type": "stream",
     "text": [
      "3.11\n",
      "The version of this pkg is 3.11.\n"
     ]
    }
   ],
   "source": [
    "import pkg\n",
    "print(pkg.VERSION)\n",
    "pkg.print_version_info()"
   ]
  },
  {
   "cell_type": "markdown",
   "id": "beefe11c-d4d7-4115-9433-9c53a2302bdb",
   "metadata": {},
   "source": [
    "#### 패키지 내 모듈을 미리 import "
   ]
  },
  {
   "cell_type": "code",
   "execution_count": 3,
   "id": "010cdffa-17da-4199-ae54-072718a24987",
   "metadata": {},
   "outputs": [],
   "source": [
    "with open('pkg/__init__.py', 'w') as f:\n",
    "    data = '''from .graphic.render import render_test\n",
    "VERSION = 3.11\n",
    "\n",
    "def print_version_info():\n",
    "    print(f\"The version of this pkg is {VERSION}.\")\n",
    "'''\n",
    "    f.write(data)\n",
    "    f.close()"
   ]
  },
  {
   "cell_type": "code",
   "execution_count": 4,
   "id": "bfeb9591-91ad-4cb5-b965-43d555e03fa2",
   "metadata": {},
   "outputs": [
    {
     "name": "stdout",
     "output_type": "stream",
     "text": [
      "render\n"
     ]
    }
   ],
   "source": [
    "import pkg\n",
    "pkg.render_test()"
   ]
  },
  {
   "cell_type": "markdown",
   "id": "77e1f84a-da9f-4e74-a3aa-efd99e0a61f7",
   "metadata": {},
   "source": [
    "#### 패키지 초기화"
   ]
  },
  {
   "cell_type": "code",
   "execution_count": 5,
   "id": "ecfe32b6-8a73-4df0-8532-d81c9be78a21",
   "metadata": {},
   "outputs": [],
   "source": [
    "with open('pkg/__init__.py', 'a') as f:\n",
    "    data = '''\n",
    "# here write in package init code.\n",
    "print(\"Initializing game ...\")'''\n",
    "    f.write(data)"
   ]
  },
  {
   "cell_type": "code",
   "execution_count": 7,
   "id": "448d0f61-f52d-457e-a7c0-78be9b6e337d",
   "metadata": {},
   "outputs": [
    {
     "name": "stdout",
     "output_type": "stream",
     "text": [
      "from .graphic.render import render_test\n",
      "VERSION = 3.11\n",
      "\n",
      "def print_version_info():\n",
      "    print(f\"The version of this pkg is {VERSION}.\")\n",
      "\n",
      "# here write in package init code.\n",
      "print(\"Initializing game ...\"\n"
     ]
    }
   ],
   "source": [
    "with open('pkg/__init__.py', 'r') as f:\n",
    "    print(f.read())\n",
    "    f.close()"
   ]
  },
  {
   "cell_type": "code",
   "execution_count": 2,
   "id": "e599cd55-f128-4e3e-8449-92494100aac7",
   "metadata": {},
   "outputs": [
    {
     "name": "stdout",
     "output_type": "stream",
     "text": [
      "Initializing game ...\n"
     ]
    }
   ],
   "source": [
    "import pkg"
   ]
  },
  {
   "cell_type": "code",
   "execution_count": 1,
   "id": "1099625e-16ef-4260-a6de-ed5294374c6c",
   "metadata": {},
   "outputs": [
    {
     "name": "stdout",
     "output_type": "stream",
     "text": [
      "Initializing game ...\n"
     ]
    }
   ],
   "source": [
    "# 스트링 나올거면 콘솔 초기화 필수.. 이미 초기화되면 아무리 다음작업을 해도 마찬가지;;\n",
    "from pkg.graphic.render import render_test"
   ]
  },
  {
   "cell_type": "markdown",
   "id": "e81e7d7c-8cbf-40e7-81b8-56d1434459b7",
   "metadata": {},
   "source": [
    "#### **\\_\\_all\\_\\_** *"
   ]
  },
  {
   "cell_type": "code",
   "execution_count": 2,
   "id": "4c2382ee-405f-4a68-9037-9774a90faa0d",
   "metadata": {},
   "outputs": [],
   "source": [
    "from pkg.sound import *"
   ]
  },
  {
   "cell_type": "code",
   "execution_count": 6,
   "id": "6531c9e9-d6fa-42ef-a424-8a4fe0a89c84",
   "metadata": {},
   "outputs": [],
   "source": [
    "with open('pkg/sound/__init__.py', 'w') as f:\n",
    "    data = '''__all__ = ['echo']'''\n",
    "    f.write(data)"
   ]
  },
  {
   "cell_type": "code",
   "execution_count": 1,
   "id": "8b70fe81-a9ee-4db0-9981-de53f6531b6d",
   "metadata": {},
   "outputs": [
    {
     "name": "stdout",
     "output_type": "stream",
     "text": [
      "Initializing game ...\n",
      "echo\n"
     ]
    }
   ],
   "source": [
    "# 위 코드 처리 안할때는;;\n",
    "# echo.echo_test() # error;;\n",
    "# 위 코드 실행후..\n",
    "from pkg.sound import *\n",
    "echo.echo_test()"
   ]
  },
  {
   "attachments": {
    "e2530a59-3e93-4bb8-a2c3-66c85e3fd9b9.png": {
     "image/png": "[encoded data removed]"
    }
   },
   "cell_type": "markdown",
   "id": "291b63f1-730c-4c67-aaaa-e84224df2e59",
   "metadata": {},
   "source": [
    "- *로 모두 긁어와도 아래처럼 인식이 안될 수 잇음.\n",
    "\n",
    "![image.png](attachment:e2530a59-3e93-4bb8-a2c3-66c85e3fd9b9.png)\n",
    "\n",
    "- 이 경우 \\_\\_init\\_\\_.py 에 \\_\\_all\\_\\_ 로 정의해야 가능하다."
   ]
  },
  {
   "cell_type": "code",
   "execution_count": 2,
   "id": "d1dfc03f-f9a7-4e97-bd4c-6a3679b04a71",
   "metadata": {},
   "outputs": [
    {
     "name": "stdout",
     "output_type": "stream",
     "text": [
      "__all__ = ['echo']\n"
     ]
    }
   ],
   "source": [
    "with open('pkg/sound/__init__.py', 'r') as f:\n",
    "    print(f.read())\n",
    "    f.close()"
   ]
  },
  {
   "cell_type": "markdown",
   "id": "8a6ebd19-ccb6-4239-ac35-98b1f920d8cd",
   "metadata": {},
   "source": [
    "### relative 패키지\n",
    "\n",
    "<table>\r\n",
    "<thead>\r\n",
    "<tr>\r\n",
    "<th>접근자</th>\r\n",
    "<th>설명</th>\r\n",
    "</tr>\r\n",
    "</thead>\r\n",
    "<tbody>\r\n",
    "<tr>\r\n",
    "<td><code>..</code></td>\r\n",
    "<td>부모 디렉터리</td>\r\n",
    "</tr>\r\n",
    "<tr>\r\n",
    "<td><code>.</code></td>\r\n",
    "<td>현재 디렉터리</td>\r\n",
    "</tr>\r\n",
    "</tbody>\r\n",
    "</table>"
   ]
  },
  {
   "cell_type": "code",
   "execution_count": 2,
   "id": "127a6973-bf80-48a2-b3d6-b4422a00a7d2",
   "metadata": {},
   "outputs": [],
   "source": [
    "with open('pkg/graphic/render.py', 'w') as f:\n",
    "    data = '''from ..sound.echo import echo_test\n",
    "def render_test():\n",
    "    print(\"Oh! grphic Master~!\")\n",
    "    echo_test()'''\n",
    "    f.write(data)"
   ]
  },
  {
   "cell_type": "code",
   "execution_count": 1,
   "id": "ce3cea6e-3716-4755-85b8-dde45fef972d",
   "metadata": {},
   "outputs": [
    {
     "name": "stdout",
     "output_type": "stream",
     "text": [
      "Initializing game ...\n",
      "Oh! grphic Master~!\n",
      "echo\n"
     ]
    }
   ],
   "source": [
    "from pkg.graphic.render import render_test\n",
    "render_test()"
   ]
  },
  {
   "cell_type": "markdown",
   "id": "25e15b48-2d8e-45fb-aad0-f9ee29bb942d",
   "metadata": {},
   "source": [
    "## 예외 처리"
   ]
  },
  {
   "cell_type": "markdown",
   "id": "f044a9c8-cff3-4992-8a5b-aea0402c5169",
   "metadata": {},
   "source": [
    "### 오류 발생\n",
    "- 오타\n",
    "- 존재하지 않는 파일 사용\n",
    "- 수학적 오류\n",
    "- 인덱스 오류"
   ]
  },
  {
   "cell_type": "markdown",
   "id": "51ea7521-465c-4ba0-806b-9215559c5776",
   "metadata": {},
   "source": [
    "### 오류 예외 처리 기법\n",
    "#### try-except 문\n",
    "\n",
    "**오류를 처리하기 위한 try-except 문의 기본 구조**\n",
    "<blockquote><pre>\n",
    "try:\n",
    "    ...\n",
    "except [발생오류 [as 오류변수]]:\n",
    "    ...\n",
    "</pre>\n",
    "</blockquote>\n",
    "\n",
    "#### try-finally문\n",
    "\n",
    "**오류를 처리하기 위한 try-finally 문의 기본 구조**\n",
    "<blockquote><pre>\n",
    "--- try_finally.py\n",
    "try:\n",
    "    f = open('foo.txt', 'w # ex...')\n",
    "    -- 무언가를 수행한다.\n",
    "\n",
    "    (... 생략 ...)\n",
    "\n",
    "finally:\n",
    "    f.close()  -- 중간에 오류가 발생하더라도 무조건 실행된다.\n",
    "</pre>\n",
    "</blockquote>\n",
    "\n",
    "\n",
    "#### 여러개의 오류 처리하기\n",
    "**try문 안에서 여러 개의 오류를 처리**\n",
    "\n",
    "<blockquote><pre>\n",
    "try:\n",
    "    ...\n",
    "except 발생오류1:\n",
    "   ... \n",
    "except 발생오류2:\n",
    "   ...\n",
    " ...\n",
    "</pre>\n",
    "</blockquote>\n",
    "\n",
    "#### try-else 문에는 다음처럼 else 절을 사용할 수도 있다.\n",
    "\n",
    "**try 문에는 다음처럼 else 절을 사용할 수도 있다.**\n",
    "\n",
    "<blockquote><pre>\n",
    "try:\n",
    "    ...\n",
    "except [발생오류 [as 오류변수]]:\n",
    "    ...\n",
    "\n",
    "    else:  -- 오류가 없을 경우에만 수행\n",
    "    ...\n",
    "</pre>\n",
    "</blockquote>"
   ]
  },
  {
   "cell_type": "markdown",
   "id": "660c843d-31eb-48f9-b4d6-d37fe2b61806",
   "metadata": {},
   "source": [
    "### 오류 일부러 발생시키기"
   ]
  },
  {
   "cell_type": "markdown",
   "id": "829988b0-2503-439d-98ab-d3f483176a25",
   "metadata": {},
   "source": [
    "#### try-except 문"
   ]
  },
  {
   "cell_type": "code",
   "execution_count": 5,
   "id": "919dd35c-0fb5-4c4c-87de-1f9ea3096fe7",
   "metadata": {},
   "outputs": [
    {
     "ename": "ZeroDivisionError",
     "evalue": "division by zero",
     "output_type": "error",
     "traceback": [
      "\u001b[0;31m---------------------------------------------------------------------------\u001b[0m",
      "\u001b[0;31mZeroDivisionError\u001b[0m                         Traceback (most recent call last)",
      "Cell \u001b[0;32mIn[5], line 2\u001b[0m\n\u001b[1;32m      1\u001b[0m \u001b[38;5;66;03m# 일반적 에러\u001b[39;00m\n\u001b[0;32m----> 2\u001b[0m \u001b[38;5;241;43m4\u001b[39;49m\u001b[38;5;241;43m/\u001b[39;49m\u001b[38;5;241;43m0\u001b[39;49m\n\u001b[1;32m      3\u001b[0m \u001b[38;5;66;03m# ZeroDivisionError: division by zero\u001b[39;00m\n",
      "\u001b[0;31mZeroDivisionError\u001b[0m: division by zero"
     ]
    }
   ],
   "source": [
    "# 일반적 에러\n",
    "4/0\n",
    "# ZeroDivisionError: division by zero"
   ]
  },
  {
   "cell_type": "code",
   "execution_count": 8,
   "id": "977e2b70-84bc-41e1-8e09-6a8ee7a806fa",
   "metadata": {},
   "outputs": [
    {
     "name": "stdout",
     "output_type": "stream",
     "text": [
      "3\n",
      "error;;\n"
     ]
    }
   ],
   "source": [
    "# try-except (모든 에러 발생시)\n",
    "try:\n",
    "    4/0\n",
    "except:\n",
    "    a=1\n",
    "    b=2\n",
    "    print(a+b)\n",
    "    print('error;;')"
   ]
  },
  {
   "cell_type": "code",
   "execution_count": 14,
   "id": "563366f1-df11-4f1b-95dc-e954f367259b",
   "metadata": {},
   "outputs": [
    {
     "name": "stdout",
     "output_type": "stream",
     "text": [
      "must be quit..\n",
      "error;;\n"
     ]
    }
   ],
   "source": [
    "# try-except2 (발생 오류만 포함한 except 문)\n",
    "try:\n",
    "    print('must be quit..')\n",
    "    4/0\n",
    "    for i in 3:\n",
    "        pass\n",
    "except ZeroDivisionError:\n",
    "    print('error;;')"
   ]
  },
  {
   "cell_type": "code",
   "execution_count": 15,
   "id": "24b58f93-d965-4acd-b5e1-44cf27863d8f",
   "metadata": {},
   "outputs": [
    {
     "name": "stdout",
     "output_type": "stream",
     "text": [
      "division by zero\n"
     ]
    }
   ],
   "source": [
    "# try-except2 (발생 오류만 포함한 except 문)\n",
    "try:\n",
    "    4/0\n",
    "    for i in 3:\n",
    "        pass\n",
    "except ZeroDivisionError as e:\n",
    "    print(e)"
   ]
  },
  {
   "cell_type": "markdown",
   "id": "19a670ed-be05-4a0b-abc7-d84ec5b9f192",
   "metadata": {},
   "source": [
    "#### try-finally문"
   ]
  },
  {
   "cell_type": "code",
   "execution_count": 18,
   "id": "dd9c2598-ab65-4efb-b843-95bd805639da",
   "metadata": {
    "scrolled": true
   },
   "outputs": [
    {
     "name": "stdout",
     "output_type": "stream",
     "text": [
      "emergency file close;;\n"
     ]
    },
    {
     "ename": "ZeroDivisionError",
     "evalue": "division by zero",
     "output_type": "error",
     "traceback": [
      "\u001b[0;31m---------------------------------------------------------------------------\u001b[0m",
      "\u001b[0;31mZeroDivisionError\u001b[0m                         Traceback (most recent call last)",
      "Cell \u001b[0;32mIn[18], line 7\u001b[0m\n\u001b[1;32m      3\u001b[0m     f \u001b[38;5;241m=\u001b[39m \u001b[38;5;28mopen\u001b[39m(\u001b[38;5;124m'\u001b[39m\u001b[38;5;124mfoo.txt\u001b[39m\u001b[38;5;124m'\u001b[39m, \u001b[38;5;124m'\u001b[39m\u001b[38;5;124mw\u001b[39m\u001b[38;5;124m'\u001b[39m)\n\u001b[1;32m      4\u001b[0m     \u001b[38;5;66;03m# 무언가 수행함.\u001b[39;00m\n\u001b[1;32m      5\u001b[0m     \u001b[38;5;66;03m# for i in 3:\u001b[39;00m\n\u001b[1;32m      6\u001b[0m     \u001b[38;5;66;03m#     f.write(i)\u001b[39;00m\n\u001b[0;32m----> 7\u001b[0m     \u001b[38;5;241;43m4\u001b[39;49m\u001b[38;5;241;43m/\u001b[39;49m\u001b[38;5;241;43m0\u001b[39;49m\n\u001b[1;32m      8\u001b[0m \u001b[38;5;28;01mfinally\u001b[39;00m:\n\u001b[1;32m      9\u001b[0m     \u001b[38;5;28mprint\u001b[39m(\u001b[38;5;124m'\u001b[39m\u001b[38;5;124memergency file close;;\u001b[39m\u001b[38;5;124m'\u001b[39m)\n",
      "\u001b[0;31mZeroDivisionError\u001b[0m: division by zero"
     ]
    }
   ],
   "source": [
    "# try-finally 구문 (무조건 실행)\n",
    "try:\n",
    "    f = open('foo.txt', 'w')\n",
    "    # 무언가 수행함.\n",
    "    # for i in 3:\n",
    "    #     f.write(i)\n",
    "    4/0\n",
    "finally:\n",
    "    print('emergency file close;;')\n",
    "    f.close()"
   ]
  },
  {
   "cell_type": "markdown",
   "id": "d2a065f8-08ef-436b-86fe-1fca3022888a",
   "metadata": {},
   "source": [
    "#### 여러 개의 오류 처리하기."
   ]
  },
  {
   "cell_type": "code",
   "execution_count": 19,
   "id": "48392eee-1324-4a54-be1c-ac2e17ac4c6c",
   "metadata": {},
   "outputs": [
    {
     "name": "stdout",
     "output_type": "stream",
     "text": [
      "list index out of range\n"
     ]
    }
   ],
   "source": [
    "# try-except 여러개 1 (먼저발생에러만 표현)\n",
    "try:\n",
    "    a = [1,2]\n",
    "    print(a[3])\n",
    "    4/0\n",
    "except ZeroDivisionError as j:\n",
    "    print(j)\n",
    "except IndexError as e:\n",
    "    print(e)"
   ]
  },
  {
   "cell_type": "code",
   "execution_count": 20,
   "id": "a1f7c6d0-c059-414f-8cd9-53bcd8f6db81",
   "metadata": {},
   "outputs": [
    {
     "name": "stdout",
     "output_type": "stream",
     "text": [
      "list index out of range\n"
     ]
    }
   ],
   "source": [
    "# try-except 여러개 2 (먼저발생에러만 표현)\n",
    "try:\n",
    "    a = [1,2]\n",
    "    print(a[3])\n",
    "    4/0\n",
    "except (ZeroDivisionError, IndexError) as e:\n",
    "    print(e)"
   ]
  },
  {
   "cell_type": "markdown",
   "id": "3a427368-6de8-4bca-9b21-c27b67f7a4ad",
   "metadata": {},
   "source": [
    "#### try-else 문"
   ]
  },
  {
   "cell_type": "code",
   "execution_count": 23,
   "id": "ac710be5-54cf-42dd-bb61-0d233dcbd061",
   "metadata": {},
   "outputs": [
    {
     "name": "stdin",
     "output_type": "stream",
     "text": [
      "나이를 입력하세요:  8\n"
     ]
    },
    {
     "name": "stdout",
     "output_type": "stream",
     "text": [
      "미성년자는 출입금지입니다.\n"
     ]
    }
   ],
   "source": [
    "# try_else.py (오류가 없을 때 else가 실행)\n",
    "try:\n",
    "    age=int(input('나이를 입력하세요: '))\n",
    "except:\n",
    "    print('입력이 정확하지 않습니다.')\n",
    "else:\n",
    "    if age <= 18:\n",
    "        print('미성년자는 출입금지입니다.')\n",
    "    else:\n",
    "        print('환영합니다.')"
   ]
  },
  {
   "cell_type": "markdown",
   "id": "99e8009e-1397-4658-b898-bd4f21a29f6c",
   "metadata": {},
   "source": [
    "### 오류 회피하기"
   ]
  },
  {
   "cell_type": "code",
   "execution_count": null,
   "id": "397b9573-db57-4b34-b607-5e50bd06fc0e",
   "metadata": {},
   "outputs": [],
   "source": [
    "# error_pass.py\n",
    "try:\n",
    "    f = open(\"나없는파일\", 'r')\n",
    "except FileNotFoundError:\n",
    "    pass"
   ]
  },
  {
   "cell_type": "markdown",
   "id": "17eb3630-04f4-4a8b-85ba-264b451e377d",
   "metadata": {},
   "source": [
    "### 오류 일부러 발생시키기. (raise) *"
   ]
  },
  {
   "cell_type": "code",
   "execution_count": 24,
   "id": "52e42cb4-9010-497b-9ee0-f49a8ef68156",
   "metadata": {},
   "outputs": [],
   "source": [
    "class Bird:\n",
    "    def fly(self):\n",
    "        raise NotImplementedError"
   ]
  },
  {
   "cell_type": "code",
   "execution_count": 26,
   "id": "21880bf2-6e0c-4862-9a6c-04909deb8b50",
   "metadata": {},
   "outputs": [
    {
     "name": "stdout",
     "output_type": "stream",
     "text": [
      "very fast\n"
     ]
    }
   ],
   "source": [
    "class Eagle(Bird):\n",
    "    # pass\n",
    "    def fly(self):\n",
    "        print(\"very fast\")\n",
    "eagle = Eagle()\n",
    "eagle.fly()"
   ]
  },
  {
   "cell_type": "markdown",
   "id": "64046e96-0f6e-413b-b464-cb35f597d1ce",
   "metadata": {},
   "source": [
    "### 예외 만들기 *"
   ]
  },
  {
   "cell_type": "code",
   "execution_count": 27,
   "id": "7c2a34b2-65aa-4773-80f7-20487d0067a9",
   "metadata": {},
   "outputs": [],
   "source": [
    "class MyError(Exception):\n",
    "    pass"
   ]
  },
  {
   "cell_type": "code",
   "execution_count": 28,
   "id": "491d9a9f-e830-42b5-a3cc-48a05d8f57c2",
   "metadata": {},
   "outputs": [],
   "source": [
    "def say_nick(nick):\n",
    "    if 'fool' == nick:\n",
    "        raise MyError()\n",
    "    print(nick)"
   ]
  },
  {
   "cell_type": "code",
   "execution_count": 29,
   "id": "38fd01dd-304e-4fae-b4d7-77c55a86ae4f",
   "metadata": {},
   "outputs": [
    {
     "name": "stdout",
     "output_type": "stream",
     "text": [
      "enjoy\n"
     ]
    },
    {
     "ename": "MyError",
     "evalue": "",
     "output_type": "error",
     "traceback": [
      "\u001b[0;31m---------------------------------------------------------------------------\u001b[0m",
      "\u001b[0;31mMyError\u001b[0m                                   Traceback (most recent call last)",
      "Cell \u001b[0;32mIn[29], line 2\u001b[0m\n\u001b[1;32m      1\u001b[0m say_nick(\u001b[38;5;124m'\u001b[39m\u001b[38;5;124menjoy\u001b[39m\u001b[38;5;124m'\u001b[39m)\n\u001b[0;32m----> 2\u001b[0m \u001b[43msay_nick\u001b[49m\u001b[43m(\u001b[49m\u001b[38;5;124;43m'\u001b[39;49m\u001b[38;5;124;43mfool\u001b[39;49m\u001b[38;5;124;43m'\u001b[39;49m\u001b[43m)\u001b[49m\n",
      "Cell \u001b[0;32mIn[28], line 3\u001b[0m, in \u001b[0;36msay_nick\u001b[0;34m(nick)\u001b[0m\n\u001b[1;32m      1\u001b[0m \u001b[38;5;28;01mdef\u001b[39;00m \u001b[38;5;21msay_nick\u001b[39m(nick):\n\u001b[1;32m      2\u001b[0m     \u001b[38;5;28;01mif\u001b[39;00m \u001b[38;5;124m'\u001b[39m\u001b[38;5;124mfool\u001b[39m\u001b[38;5;124m'\u001b[39m \u001b[38;5;241m==\u001b[39m nick:\n\u001b[0;32m----> 3\u001b[0m         \u001b[38;5;28;01mraise\u001b[39;00m MyError()\n\u001b[1;32m      4\u001b[0m     \u001b[38;5;28mprint\u001b[39m(nick)\n",
      "\u001b[0;31mMyError\u001b[0m: "
     ]
    }
   ],
   "source": [
    "say_nick('enjoy')\n",
    "say_nick('fool')"
   ]
  },
  {
   "cell_type": "code",
   "execution_count": 31,
   "id": "08688fd5-43ae-495a-9137-2db04b0777ba",
   "metadata": {},
   "outputs": [
    {
     "name": "stdout",
     "output_type": "stream",
     "text": [
      "enjoy\n",
      "must not allow nick.. \n"
     ]
    }
   ],
   "source": [
    "try:\n",
    "    say_nick('enjoy')\n",
    "    say_nick('fool')\n",
    "except MyError as e:\n",
    "    print('must not allow nick..', e)"
   ]
  },
  {
   "cell_type": "code",
   "execution_count": 32,
   "id": "3a03f8f8-b564-4cc2-a389-77a1e08b7f3b",
   "metadata": {},
   "outputs": [],
   "source": [
    "class MyError(Exception):\n",
    "    def __str__(self):\n",
    "        return \"must not allow nick..\""
   ]
  },
  {
   "cell_type": "code",
   "execution_count": 34,
   "id": "f05cfbcf-a370-4797-8aea-cdb015b726dd",
   "metadata": {},
   "outputs": [
    {
     "name": "stdout",
     "output_type": "stream",
     "text": [
      "enjoy\n",
      "must not allow nick..\n"
     ]
    }
   ],
   "source": [
    "try:\n",
    "    say_nick('enjoy')\n",
    "    say_nick('fool')\n",
    "except MyError as e:\n",
    "    print(e)"
   ]
  },
  {
   "cell_type": "markdown",
   "id": "9d96cd4c-0e1e-4076-98c6-a55460f345d3",
   "metadata": {},
   "source": [
    "## 내장함수 *\n",
    "- 알아두면 좋을 기능들만.."
   ]
  },
  {
   "cell_type": "markdown",
   "id": "09cde399-2f34-4d40-ba9b-36fed833e332",
   "metadata": {},
   "source": [
    "### all ( 모두가 참 )"
   ]
  },
  {
   "cell_type": "code",
   "execution_count": 35,
   "id": "80d240da-60ed-4033-8f92-6697e903206b",
   "metadata": {},
   "outputs": [
    {
     "data": {
      "text/plain": [
       "False"
      ]
     },
     "execution_count": 35,
     "metadata": {},
     "output_type": "execute_result"
    }
   ],
   "source": [
    "all([1,2,3,0,5,6])"
   ]
  },
  {
   "cell_type": "markdown",
   "id": "2325ffcf-1624-4ab8-8cf5-503aaf8fcf89",
   "metadata": {},
   "source": [
    "### any (하나라도 참이면 참..)"
   ]
  },
  {
   "cell_type": "code",
   "execution_count": 37,
   "id": "c146b91a-edfc-4f75-9ebd-02486e314535",
   "metadata": {},
   "outputs": [
    {
     "data": {
      "text/plain": [
       "True"
      ]
     },
     "execution_count": 37,
     "metadata": {},
     "output_type": "execute_result"
    }
   ],
   "source": [
    "any([1,2,3,0,5,6,7])"
   ]
  },
  {
   "cell_type": "markdown",
   "id": "8cf11421-8ddc-4e57-a35b-992e75ac65b3",
   "metadata": {},
   "source": [
    "### chr (유니코드 입력받아 해당 문자리턴) **"
   ]
  },
  {
   "cell_type": "code",
   "execution_count": 39,
   "id": "8ea8a16f-38fd-4764-b948-a1a029a456a9",
   "metadata": {},
   "outputs": [
    {
     "data": {
      "text/plain": [
       "'A'"
      ]
     },
     "execution_count": 39,
     "metadata": {},
     "output_type": "execute_result"
    }
   ],
   "source": [
    "chr(65)"
   ]
  },
  {
   "cell_type": "code",
   "execution_count": 40,
   "id": "032e9a55-20b3-45af-9831-55e918bf92b6",
   "metadata": {},
   "outputs": [
    {
     "data": {
      "text/plain": [
       "'팖'"
      ]
     },
     "execution_count": 40,
     "metadata": {},
     "output_type": "execute_result"
    }
   ],
   "source": [
    "chr(54038)"
   ]
  },
  {
   "cell_type": "code",
   "execution_count": 49,
   "id": "1c2912b0-01f3-4d76-9705-6acc9e67c457",
   "metadata": {},
   "outputs": [
    {
     "name": "stdout",
     "output_type": "stream",
     "text": [
      "A,B,C,D,E,F,G,H,I,J,K,L,M,N,O,P,Q,R,S,T,U,V,W,X,Y,Z\n"
     ]
    }
   ],
   "source": [
    "for i in range(65, 91):\n",
    "    if( 90 == i ): \n",
    "        print(chr(i))\n",
    "    else:\n",
    "        print(chr(i), end=',')"
   ]
  },
  {
   "cell_type": "code",
   "execution_count": 60,
   "id": "c63e31b6-8506-430e-95ec-459ba42c13c4",
   "metadata": {},
   "outputs": [],
   "source": [
    "def dn(text): # ord - chr의 반대로.. 숫자로 변환.\n",
    "    print(chr(ord(text) + 32))"
   ]
  },
  {
   "cell_type": "code",
   "execution_count": 61,
   "id": "71658194-ae70-4d67-af93-0ea6834f3e12",
   "metadata": {},
   "outputs": [
    {
     "name": "stdout",
     "output_type": "stream",
     "text": [
      "a\n"
     ]
    }
   ],
   "source": [
    "dn('A')"
   ]
  },
  {
   "cell_type": "code",
   "execution_count": 63,
   "id": "4263b368-6f0e-4e59-9cee-70b73214eb7a",
   "metadata": {},
   "outputs": [],
   "source": [
    "def upp(text): # ord - chr의 반대로.. 숫자로 변환.\n",
    "    print(chr(ord(text) - 32))"
   ]
  },
  {
   "cell_type": "code",
   "execution_count": 65,
   "id": "64c8bfc9-c84b-443d-8c4d-f97f165e273c",
   "metadata": {},
   "outputs": [
    {
     "name": "stdout",
     "output_type": "stream",
     "text": [
      "H\n"
     ]
    }
   ],
   "source": [
    "upp('h')"
   ]
  },
  {
   "cell_type": "markdown",
   "id": "31b5cf2d-5df9-4560-804c-b64ebdfabc88",
   "metadata": {},
   "source": [
    "### dir (객체가 지닌 변수나 함수를 보여준다.)"
   ]
  },
  {
   "cell_type": "code",
   "execution_count": null,
   "id": "e85da055-02c8-4657-b09a-01baa6bfacb4",
   "metadata": {},
   "outputs": [],
   "source": [
    "dir([])"
   ]
  },
  {
   "cell_type": "markdown",
   "id": "09cbb96e-7ba1-4458-843c-adb91f87fdd1",
   "metadata": {},
   "source": [
    "### enumerate\n",
    "- 값과 인덱스 동시에 나오게 하는 의외로..."
   ]
  },
  {
   "cell_type": "code",
   "execution_count": 67,
   "id": "86cf2fbf-21e8-48af-b16d-bb05cbac0def",
   "metadata": {},
   "outputs": [
    {
     "name": "stdout",
     "output_type": "stream",
     "text": [
      "0 a\n",
      "1 b\n",
      "2 c\n"
     ]
    }
   ],
   "source": [
    "for i, v in enumerate(['a', 'b', 'c']):\n",
    "    print(i, v)"
   ]
  },
  {
   "cell_type": "code",
   "execution_count": 68,
   "id": "9d2f4941-370e-4ffb-80e6-8c1454e3d59e",
   "metadata": {},
   "outputs": [
    {
     "name": "stdout",
     "output_type": "stream",
     "text": [
      "a 0\n",
      "b 1\n",
      "c 2\n"
     ]
    }
   ],
   "source": [
    "arr = ['a', 'b', 'c']\n",
    "for (v, i) in zip(arr, range(len(arr))):\n",
    "    print(v, i)"
   ]
  },
  {
   "cell_type": "markdown",
   "id": "bf8cabcd-fbf0-40f5-ba94-c9aee4435045",
   "metadata": {},
   "source": [
    "### filter (리턴값이 참인 것만 리턴한다.)"
   ]
  },
  {
   "cell_type": "code",
   "execution_count": 77,
   "id": "a4a60a55-e2b0-4011-a228-3c3b0c277d18",
   "metadata": {},
   "outputs": [
    {
     "name": "stdout",
     "output_type": "stream",
     "text": [
      "[1, 2, 6]\n"
     ]
    }
   ],
   "source": [
    "# 사용 전\n",
    "def positive(l):\n",
    "    result=[]\n",
    "    for i in l:\n",
    "        if 0 < i:\n",
    "            result.append(i)\n",
    "    return result\n",
    "print(positive([1, -3, 2, 0, -5, 6]))"
   ]
  },
  {
   "cell_type": "code",
   "execution_count": 78,
   "id": "2e2d28c8-d1be-4c78-a2cf-3c60a9d278ef",
   "metadata": {},
   "outputs": [
    {
     "name": "stdout",
     "output_type": "stream",
     "text": [
      "[1, 2, 6]\n"
     ]
    }
   ],
   "source": [
    "# 사용 후\n",
    "def positive(x):\n",
    "    return 0 < x\n",
    "\n",
    "print(list(filter(positive, [1, -3, 2, 0, -5, 6])))"
   ]
  },
  {
   "cell_type": "code",
   "execution_count": 82,
   "id": "ee5ba58b-7532-4924-a79d-00af8872941a",
   "metadata": {},
   "outputs": [
    {
     "name": "stdout",
     "output_type": "stream",
     "text": [
      "[1, 2, 6]\n"
     ]
    }
   ],
   "source": [
    "# lamda 사용\n",
    "print(list(filter(lambda x: 0 < x, [1, -3, 2, 0, -5, 6])))"
   ]
  },
  {
   "cell_type": "markdown",
   "id": "9be81f5a-0bd2-48b4-b838-9a39e8d4dc68",
   "metadata": {},
   "source": [
    "### map ( 요소에 함수 f를 적용한 결과를 리턴하는 함수)"
   ]
  },
  {
   "cell_type": "code",
   "execution_count": 83,
   "id": "c3f5e1e4-1338-427a-aa49-002f9bfcd959",
   "metadata": {},
   "outputs": [
    {
     "name": "stdout",
     "output_type": "stream",
     "text": [
      "[2, 4, 6, 8]\n"
     ]
    }
   ],
   "source": [
    "# 사용 전\n",
    "def two_times(numlist):\n",
    "    result = []\n",
    "    for num in numlist:\n",
    "        result.append(num * 2)\n",
    "    return result\n",
    "result = two_times([1, 2, 3, 4])\n",
    "print(result)"
   ]
  },
  {
   "cell_type": "code",
   "execution_count": 84,
   "id": "707925e3-081b-4c55-be65-741a677f8669",
   "metadata": {},
   "outputs": [
    {
     "data": {
      "text/plain": [
       "[2, 4, 6, 8]"
      ]
     },
     "execution_count": 84,
     "metadata": {},
     "output_type": "execute_result"
    }
   ],
   "source": [
    "# 사용 후\n",
    "def two_times(x): return x * 2\n",
    "list(map(two_times, [1, 2, 3, 4]))"
   ]
  },
  {
   "cell_type": "code",
   "execution_count": 85,
   "id": "94e993e0-955c-4001-a84c-7b9be09e3124",
   "metadata": {},
   "outputs": [
    {
     "data": {
      "text/plain": [
       "[2, 4, 6, 8]"
      ]
     },
     "execution_count": 85,
     "metadata": {},
     "output_type": "execute_result"
    }
   ],
   "source": [
    "# lambda 사용\n",
    "list(map(lambda x: x * 2, [1, 2, 3, 4]))"
   ]
  },
  {
   "cell_type": "markdown",
   "id": "cf1697c0-72d7-4857-b08f-38bbde0a09c1",
   "metadata": {},
   "source": [
    "### round ( 반올림 )"
   ]
  },
  {
   "cell_type": "code",
   "execution_count": 86,
   "id": "d7183485-c344-4480-8781-33cc92428879",
   "metadata": {},
   "outputs": [
    {
     "data": {
      "text/plain": [
       "3"
      ]
     },
     "execution_count": 86,
     "metadata": {},
     "output_type": "execute_result"
    }
   ],
   "source": [
    "round(3.14)"
   ]
  },
  {
   "cell_type": "code",
   "execution_count": 87,
   "id": "598d3781-fd88-4aa6-b227-fb7c61596713",
   "metadata": {},
   "outputs": [
    {
     "data": {
      "text/plain": [
       "3.1"
      ]
     },
     "execution_count": 87,
     "metadata": {},
     "output_type": "execute_result"
    }
   ],
   "source": [
    "round(3.14, 1)"
   ]
  },
  {
   "cell_type": "markdown",
   "id": "c468f2d6-fffd-48ce-a32f-e6fdecd7dd49",
   "metadata": {},
   "source": [
    "### sorted ( 입력 데이터를 정렬한 후 그 결과를 리스트로 리턴 )"
   ]
  },
  {
   "cell_type": "code",
   "execution_count": 88,
   "id": "4f77ce56-044b-4b1b-90da-7957eb5ea367",
   "metadata": {},
   "outputs": [
    {
     "data": {
      "text/plain": [
       "[-30, 1, 4, 6, 7, 8, 100]"
      ]
     },
     "execution_count": 88,
     "metadata": {},
     "output_type": "execute_result"
    }
   ],
   "source": [
    "sorted([1, 4, 6, 7, 8, 100, -30, ])"
   ]
  },
  {
   "cell_type": "code",
   "execution_count": 89,
   "id": "92b27258-f9c5-4ed0-98e5-1bcc9d73fdad",
   "metadata": {},
   "outputs": [
    {
     "data": {
      "text/plain": [
       "[100, 8, 7, 6, 4, 1, -30]"
      ]
     },
     "execution_count": 89,
     "metadata": {},
     "output_type": "execute_result"
    }
   ],
   "source": [
    "sorted([1, 4, 6, 7, 8, 100, -30, ], reverse = True)"
   ]
  },
  {
   "cell_type": "markdown",
   "id": "f9199f31-7962-4973-8c96-0f6d3501066e",
   "metadata": {},
   "source": [
    "## 표준 라이브러리"
   ]
  },
  {
   "cell_type": "markdown",
   "id": "cf4ff884-c660-4a6f-9062-5780c20aebde",
   "metadata": {},
   "source": [
    "### datetime.date"
   ]
  },
  {
   "cell_type": "code",
   "execution_count": 93,
   "id": "d47a12ff-1e39-4617-ae9c-2125c4cb97f5",
   "metadata": {},
   "outputs": [
    {
     "name": "stdout",
     "output_type": "stream",
     "text": [
      "2024-01-22\n",
      "2024-01-22\n",
      "124\n"
     ]
    }
   ],
   "source": [
    "import datetime\n",
    "day2 = datetime.date(2023, 9, 20)\n",
    "day1 = datetime.date(2024, 1, 22)\n",
    "\n",
    "print(day1)\n",
    "print(day)\n",
    "\n",
    "diff = day1 - day2\n",
    "print(diff.days)"
   ]
  },
  {
   "cell_type": "markdown",
   "id": "826f67aa-9bdb-4e51-a3b1-e007c758c998",
   "metadata": {},
   "source": [
    "### time **"
   ]
  },
  {
   "cell_type": "markdown",
   "id": "f8b7c1ca-6ac5-465b-ac30-a27b8f5e30a6",
   "metadata": {},
   "source": [
    "#### time.time"
   ]
  },
  {
   "cell_type": "code",
   "execution_count": 96,
   "id": "61ba762e-3a3a-4ada-83bc-96683204c94b",
   "metadata": {},
   "outputs": [
    {
     "data": {
      "text/plain": [
       "1705894240.7529593"
      ]
     },
     "execution_count": 96,
     "metadata": {},
     "output_type": "execute_result"
    }
   ],
   "source": [
    "import time as t\n",
    "t.time()"
   ]
  },
  {
   "cell_type": "code",
   "execution_count": 97,
   "id": "bf8cc8b2-ae47-4637-bc32-ae16808bdf04",
   "metadata": {},
   "outputs": [
    {
     "data": {
      "text/plain": [
       "time.struct_time(tm_year=2024, tm_mon=1, tm_mday=22, tm_hour=12, tm_min=30, tm_sec=49, tm_wday=0, tm_yday=22, tm_isdst=0)"
      ]
     },
     "execution_count": 97,
     "metadata": {},
     "output_type": "execute_result"
    }
   ],
   "source": [
    "t.localtime(t.time())"
   ]
  },
  {
   "cell_type": "code",
   "execution_count": 99,
   "id": "0548d219-c39a-4888-a02f-d3d03fb3d223",
   "metadata": {},
   "outputs": [
    {
     "data": {
      "text/plain": [
       "'Mon Jan 22 12:31:11 2024'"
      ]
     },
     "execution_count": 99,
     "metadata": {},
     "output_type": "execute_result"
    }
   ],
   "source": [
    "t.ctime()"
   ]
  },
  {
   "cell_type": "code",
   "execution_count": 100,
   "id": "15a1566f-f83b-43d0-9519-0b16cd0519a4",
   "metadata": {},
   "outputs": [
    {
     "data": {
      "text/plain": [
       "<function time.sleep>"
      ]
     },
     "execution_count": 100,
     "metadata": {},
     "output_type": "execute_result"
    }
   ],
   "source": [
    "t.sleep"
   ]
  },
  {
   "cell_type": "code",
   "execution_count": 102,
   "id": "5a94f88f-2f50-4472-a73d-11b04c2feb19",
   "metadata": {},
   "outputs": [
    {
     "name": "stdout",
     "output_type": "stream",
     "text": [
      "0\n",
      "1\n",
      "2\n",
      "3\n",
      "4\n",
      "5\n",
      "6\n",
      "7\n",
      "8\n",
      "9\n"
     ]
    }
   ],
   "source": [
    "for i in range(10):\n",
    "    print(i)\n",
    "    t.sleep(0.5)"
   ]
  },
  {
   "cell_type": "markdown",
   "id": "02436e84-5a23-4bbc-b473-6e3faebf182d",
   "metadata": {},
   "source": [
    "### random (규칙이 없는 임의의 수)"
   ]
  },
  {
   "cell_type": "code",
   "execution_count": 131,
   "id": "0169e462-d4cf-495a-abc6-2adc4d46f4c5",
   "metadata": {},
   "outputs": [],
   "source": [
    "import random as rd\n",
    "import time as t"
   ]
  },
  {
   "cell_type": "code",
   "execution_count": 139,
   "id": "f2ec06dc-0aea-4c9e-b1c2-5a3a5f0b6750",
   "metadata": {},
   "outputs": [
    {
     "name": "stdout",
     "output_type": "stream",
     "text": [
      "Let's view dice count.\n",
      "1 : 333117\n",
      "2 : 333088\n",
      "3 : 333461\n",
      "4 : 333884\n",
      "5 : 332735\n",
      "6 : 333710\n",
      "counted time : 4.116s\n"
     ]
    }
   ],
   "source": [
    "dice = [0] * 6\n",
    "start = t.time()\n",
    "while 2000000 > i:\n",
    "    ran = rd.randint(1, 6)\n",
    "    dice[ran - 1] += 1\n",
    "    i += 1\n",
    "print('Let\\'s view dice count.')\n",
    "for i, v in enumerate(dice):\n",
    "    print(f'{i + 1} : {v}')\n",
    "\n",
    "print(f'counted time : {round(t.time() - start, 3)}s' )"
   ]
  },
  {
   "cell_type": "code",
   "execution_count": 142,
   "id": "26d64530-0b58-4d33-ba42-ef06e31a3b28",
   "metadata": {},
   "outputs": [
    {
     "name": "stdout",
     "output_type": "stream",
     "text": [
      "Let's view dice count.\n",
      "1 : 600428\n",
      "2 : 199758\n",
      "3 : 600068\n",
      "4 : 199380\n",
      "5 : 199757\n",
      "6 : 200604\n",
      "counted time : 14.905s\n"
     ]
    }
   ],
   "source": [
    "# 위 예시에서 가중치 적용하면.. (아래 예시는 1, 3에 가중치 20% 첨가)\n",
    "dice = [0] * 6\n",
    "start = t.time()\n",
    "while 2000000 > i:\n",
    "    ran = rd.choices(range(1, 7), weights = [0.3, 0.1, 0.3, 0.1, 0.1, 0.1])\n",
    "    dice[ran[0] - 1] += 1\n",
    "    i += 1\n",
    "print('Let\\'s view dice count.')\n",
    "for i, v in enumerate(dice):\n",
    "    print(f'{i + 1} : {v}')\n",
    "\n",
    "print(f'counted time : {round(t.time() - start, 3)}s' )"
   ]
  },
  {
   "cell_type": "markdown",
   "id": "e6948205-fe31-47ce-8e1d-31fce2559b8d",
   "metadata": {},
   "source": [
    "- 아래부터 가이드\n",
    "    - @ : 추후 아니면 선택..\n",
    "    - @* or ** : 지금은 아니라도 반드시체크해봐야..\n",
    "    - * or ** : 당장 확인."
   ]
  },
  {
   "cell_type": "markdown",
   "id": "237e772a-46c1-484d-b483-5b7809c80d66",
   "metadata": {},
   "source": [
    "### itertools.permutation, itertools.combination (수학적 확률)@*"
   ]
  },
  {
   "cell_type": "markdown",
   "id": "07b2bda5-e5ef-4819-986b-2d9c2d075bb3",
   "metadata": {},
   "source": [
    "### functools.reduce @*"
   ]
  },
  {
   "cell_type": "markdown",
   "id": "16e393f2-218e-4eed-a73c-5767be20138c",
   "metadata": {},
   "source": [
    "### operator.itemgetter @*"
   ]
  },
  {
   "cell_type": "markdown",
   "id": "2365faa0-cf13-44f2-8936-a58d80f60143",
   "metadata": {
    "jp-MarkdownHeadingCollapsed": true
   },
   "source": [
    "### shutil (파일을 복사하거나 이동) **"
   ]
  },
  {
   "cell_type": "markdown",
   "id": "6cbcf19f-63e8-4386-890b-a61439dc635a",
   "metadata": {},
   "source": [
    "### glob *"
   ]
  },
  {
   "cell_type": "markdown",
   "id": "a18868e7-dc62-40cc-843a-9cd4ed8ee0d6",
   "metadata": {},
   "source": [
    "### pickle @*"
   ]
  },
  {
   "cell_type": "markdown",
   "id": "db0d799b-1cba-4210-a4ac-f4263500e774",
   "metadata": {},
   "source": [
    "### OS **"
   ]
  },
  {
   "cell_type": "markdown",
   "id": "971faee0-0bb3-417c-a658-a7e8dbe2b211",
   "metadata": {},
   "source": [
    "### zipfile @"
   ]
  },
  {
   "cell_type": "markdown",
   "id": "8f2aec65-49cf-4f64-aae2-83606f949416",
   "metadata": {},
   "source": [
    "### threading @**"
   ]
  },
  {
   "cell_type": "markdown",
   "id": "4b3f524a-1496-4643-9460-871d55e7605a",
   "metadata": {},
   "source": [
    "### tempfile @"
   ]
  },
  {
   "cell_type": "markdown",
   "id": "472a8f83-d868-4e2b-ac26-86a97f56ea77",
   "metadata": {},
   "source": [
    "### traceback @"
   ]
  },
  {
   "cell_type": "markdown",
   "id": "00d6c606-b6b3-438f-8699-e06fea81bc35",
   "metadata": {},
   "source": [
    "### JSON **"
   ]
  },
  {
   "cell_type": "markdown",
   "id": "04bea634-3cac-4da6-a723-1ba7194672fd",
   "metadata": {},
   "source": [
    "### urllib @*"
   ]
  },
  {
   "cell_type": "markdown",
   "id": "987d2012-c591-4577-9a07-a99a91382a3e",
   "metadata": {},
   "source": [
    "### webbrowser @"
   ]
  }
 ],
 "metadata": {
  "kernelspec": {
   "display_name": "Python 3 (ipykernel)",
   "language": "python",
   "name": "python3"
  },
  "language_info": {
   "codemirror_mode": {
    "name": "ipython",
    "version": 3
   },
   "file_extension": ".py",
   "mimetype": "text/x-python",
   "name": "python",
   "nbconvert_exporter": "python",
   "pygments_lexer": "ipython3",
   "version": "3.11.2"
  }
 },
 "nbformat": 4,
 "nbformat_minor": 5
}
