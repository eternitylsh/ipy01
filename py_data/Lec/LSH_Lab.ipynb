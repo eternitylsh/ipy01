{
 "cells": [
  {
   "cell_type": "code",
   "execution_count": 1,
   "id": "1599095d-5d39-4860-8185-877666beb9bd",
   "metadata": {},
   "outputs": [],
   "source": [
    "import random as rd;"
   ]
  },
  {
   "cell_type": "code",
   "execution_count": 6,
   "id": "1441d9aa-053e-40e6-828d-e70cdb90f7ba",
   "metadata": {},
   "outputs": [
    {
     "data": {
      "text/plain": [
       "0.8737866499853487"
      ]
     },
     "execution_count": 6,
     "metadata": {},
     "output_type": "execute_result"
    }
   ],
   "source": [
    "rd.random() #float x, 0.0 <= x < 1.0."
   ]
  },
  {
   "cell_type": "code",
   "execution_count": 15,
   "id": "31e1c69c-3ee6-41c6-97be-2eb8c0b8b483",
   "metadata": {},
   "outputs": [
    {
     "data": {
      "text/plain": [
       "34.78193779607435"
      ]
     },
     "execution_count": 15,
     "metadata": {},
     "output_type": "execute_result"
    }
   ],
   "source": [
    "rd.uniform(1, 45) # float x, 0.0 <= x < 45.0"
   ]
  },
  {
   "cell_type": "code",
   "execution_count": 11,
   "id": "42a2560e-ecb5-4161-8716-0d52a957f920",
   "metadata": {},
   "outputs": [
    {
     "data": {
      "text/plain": [
       "28"
      ]
     },
     "execution_count": 11,
     "metadata": {},
     "output_type": "execute_result"
    }
   ],
   "source": [
    "rd.randint(1, 45) # 정수 x, 1 <= x < 45 ;; endpoints include."
   ]
  },
  {
   "cell_type": "code",
   "execution_count": 19,
   "id": "b9399367-673e-4ee5-8824-fe2b6d309516",
   "metadata": {},
   "outputs": [
    {
     "data": {
      "text/plain": [
       "88"
      ]
     },
     "execution_count": 19,
     "metadata": {},
     "output_type": "execute_result"
    }
   ],
   "source": [
    "# 함수로 만들어지는 정수 중에 하나를 랜덤하게 리턴.\n",
    "rd.randrange(0, 101, 2)"
   ]
  },
  {
   "cell_type": "code",
   "execution_count": 31,
   "id": "faf2043c-32a3-447d-912b-8e1a71489566",
   "metadata": {},
   "outputs": [
    {
     "data": {
      "text/plain": [
       "'d'"
      ]
     },
     "execution_count": 31,
     "metadata": {},
     "output_type": "execute_result"
    }
   ],
   "source": [
    "# 랜덤하게 하나의 원소를 선택.\n",
    "rd.choice('apple is good') # Choose a random element."
   ]
  },
  {
   "cell_type": "code",
   "execution_count": 32,
   "id": "6b1391f2-f81b-4d23-ba7d-9eb712b606f0",
   "metadata": {},
   "outputs": [
    {
     "data": {
      "text/plain": [
       "[5, 3, 4, 2]"
      ]
     },
     "execution_count": 32,
     "metadata": {},
     "output_type": "execute_result"
    }
   ],
   "source": [
    "# 랜덤하게 여러개의 원소를 선택.\n",
    "rd.sample([1, 2, 3, 4, 5, 6, 7, 8], 4) # choice 4 random elements."
   ]
  },
  {
   "cell_type": "code",
   "execution_count": 34,
   "id": "ebdf058c-f956-4acc-ab29-b49c8884ac92",
   "metadata": {},
   "outputs": [
    {
     "name": "stdout",
     "output_type": "stream",
     "text": [
      "[1, 2, 3, 4, 5, 6, 7, 8]\n",
      "[5, 2, 7, 4, 1, 3, 8, 6]\n"
     ]
    }
   ],
   "source": [
    "# 요소를 랜덤하게 섞기\n",
    "a = [1,2,3,4,5,6,7,8] # shuffle in elements.\n",
    "print(a)\n",
    "\n",
    "rd.shuffle(a)\n",
    "print(a)"
   ]
  },
  {
   "cell_type": "code",
   "execution_count": 119,
   "id": "647a3bef-08a2-4efa-b715-87d169314c75",
   "metadata": {},
   "outputs": [
    {
     "name": "stdout",
     "output_type": "stream",
     "text": [
      "[3, 5, 26, 35, 19, 20]\n"
     ]
    }
   ],
   "source": [
    "def Gen_L6list():\n",
    "    lslots = [] # lotto slots : max = 6\n",
    "    max = 6\n",
    "    rint = 0\n",
    "    while True:\n",
    "        rint = rd.randint(1, 45)\n",
    "        if rint in lslots:\n",
    "            continue\n",
    "        else: \n",
    "            lslots.insert(-1, rint)\n",
    "        \n",
    "        if max <= len(lslots):\n",
    "            return lslots\n",
    "    # fail result : -1\n",
    "    return -1\n",
    "\n",
    "print(Gen_L6list())\n"
   ]
  },
  {
   "cell_type": "code",
   "execution_count": 72,
   "id": "427181b2-f9a7-4ea9-9bc0-9e2374bfde91",
   "metadata": {},
   "outputs": [
    {
     "name": "stdout",
     "output_type": "stream",
     "text": [
      "Looking in indexes: https://pypi.org/simple, https://www.piwheels.org/simple\n",
      "Collecting tqdm\n",
      "  Downloading https://www.piwheels.org/simple/tqdm/tqdm-4.66.1-py3-none-any.whl (78 kB)\n",
      "\u001b[2K     \u001b[90m━━━━━━━━━━━━━━━━━━━━━━━━━━━━━━━━━━━━━━━\u001b[0m \u001b[32m78.3/78.3 kB\u001b[0m \u001b[31m114.0 kB/s\u001b[0m eta \u001b[36m0:00:00\u001b[0ma \u001b[36m0:00:01\u001b[0m\n",
      "\u001b[?25hInstalling collected packages: tqdm\n",
      "Successfully installed tqdm-4.66.1\n"
     ]
    }
   ],
   "source": [
    "# 이건 걍... 진행바 표시목적..\n",
    "!pip install tqdm"
   ]
  },
  {
   "cell_type": "code",
   "execution_count": 125,
   "id": "9fb5e044-6c5b-401c-9b06-4c7b55fbdd40",
   "metadata": {},
   "outputs": [
    {
     "name": "stderr",
     "output_type": "stream",
     "text": [
      "100%|██████████| 1000/1000 [00:01<00:00, 908.18it/s]"
     ]
    },
    {
     "name": "stdout",
     "output_type": "stream",
     "text": [
      "All Clear\n"
     ]
    },
    {
     "name": "stderr",
     "output_type": "stream",
     "text": [
      "\n"
     ]
    },
    {
     "data": {
      "text/plain": [
       "True"
      ]
     },
     "execution_count": 125,
     "metadata": {},
     "output_type": "execute_result"
    }
   ],
   "source": [
    "from tqdm import tqdm\n",
    "import time\n",
    "\n",
    "def L6_Check():\n",
    "    i = 0\n",
    "    for i in tqdm(range(1000)):\n",
    "        sample = Gen_L6list()\n",
    "        count = 0\n",
    "        for e in sample:\n",
    "            for c in sample:\n",
    "                if e == c:\n",
    "                    count += 1\n",
    "            if 1 < count:\n",
    "                print(f'중복값 발견 : idx: {i}, target sample : {sample}, target value : {e}')\n",
    "                return False\n",
    "            count = 0\n",
    "        time.sleep(0.001) # 그냥 쓸데없이 집어넣음.\n",
    "    print('All Clear')\n",
    "    return True\n",
    "\n",
    "L6_Check()"
   ]
  },
  {
   "cell_type": "code",
   "execution_count": 138,
   "id": "e43d4a7f-f6d8-434a-bc57-ed2f99c693ce",
   "metadata": {},
   "outputs": [
    {
     "name": "stdout",
     "output_type": "stream",
     "text": [
      "100% >>> |>>>>>>>>>>>>>>>>>>>>|\r"
     ]
    }
   ],
   "source": [
    "# 신기해서 따라 만들어보기.\n",
    "\n",
    "str = '>'\n",
    "for i in range(101):\n",
    "    # 여기서 print에 , end '\\r' 이 의미는 개행하지 않고 그 라인에\n",
    "    print(f'{i:<3}% >>> |{str * (i//5):<20}|', end='\\r')\n",
    "    str\n",
    "    time.sleep(0.1)"
   ]
  },
  {
   "cell_type": "code",
   "execution_count": 143,
   "id": "f7c3b759-173f-44fc-9acb-428d1d0bac4d",
   "metadata": {},
   "outputs": [
    {
     "data": {
      "text/plain": [
       "100"
      ]
     },
     "execution_count": 143,
     "metadata": {},
     "output_type": "execute_result"
    }
   ],
   "source": []
  }
 ],
 "metadata": {
  "kernelspec": {
   "display_name": "Python 3 (ipykernel)",
   "language": "python",
   "name": "python3"
  },
  "language_info": {
   "codemirror_mode": {
    "name": "ipython",
    "version": 3
   },
   "file_extension": ".py",
   "mimetype": "text/x-python",
   "name": "python",
   "nbconvert_exporter": "python",
   "pygments_lexer": "ipython3",
   "version": "3.11.2"
  }
 },
 "nbformat": 4,
 "nbformat_minor": 5
}
