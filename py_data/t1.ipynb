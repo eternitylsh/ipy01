{
 "cells": [
  {
   "cell_type": "markdown",
   "id": "b7df7eae-0ee0-4d8f-9035-75b74aa483b4",
   "metadata": {},
   "source": [
    "# 이번 강의노트"
   ]
  },
  {
   "cell_type": "markdown",
   "id": "0418c081-d6af-4fdf-9c2a-38c1c594cae1",
   "metadata": {},
   "source": [
    "# 둘러보기"
   ]
  },
  {
   "cell_type": "markdown",
   "id": "09ceb810-8981-4aa7-90c7-76aafa391433",
   "metadata": {},
   "source": [
    "## 주피터 랩 단축키\n",
    "- a : 위 셀 집어넣기\n",
    "- b : 아래 셀 집어넣기\n",
    "- Ctrl +Shift + 위 : 셀 위로 이동\n",
    "- Ctrl +Shift + 아래 : 셀 아래로 이동\n",
    "- Shift + Enter : 셀 실행하며 아래 셀 생성\n",
    "- Ctrl + Enter : 그냥 셀 실행.\n",
    "- D 두번 : 셀 삭제. (실수 방지 목적으로 2번)\n",
    "- x : 셀 잘라내기\n",
    "- c : 셀 복사\n",
    "- v : 셀 붙여넣기\n",
    "- z : undo\n",
    "- Shift + z : redo\n",
    "- m : ML\n",
    "- y : code"
   ]
  },
  {
   "cell_type": "markdown",
   "id": "7552d53d-51bf-4d7f-86a4-67c0ec225bac",
   "metadata": {},
   "source": [
    "## 수업시작"
   ]
  },
  {
   "cell_type": "code",
   "execution_count": 4,
   "id": "e70ba75d-677f-467f-982c-262f7ea9265e",
   "metadata": {},
   "outputs": [
    {
     "data": {
      "text/plain": [
       "2"
      ]
     },
     "execution_count": 4,
     "metadata": {},
     "output_type": "execute_result"
    }
   ],
   "source": [
    "1+1"
   ]
  },
  {
   "cell_type": "code",
   "execution_count": 5,
   "id": "9c8baa4f-dad9-47bf-a403-389b98f4476f",
   "metadata": {},
   "outputs": [
    {
     "name": "stdout",
     "output_type": "stream",
     "text": [
      "Hello\n"
     ]
    }
   ],
   "source": [
    "print('Hello')"
   ]
  },
  {
   "cell_type": "code",
   "execution_count": 6,
   "id": "03d748e2-1223-47e3-8e23-1d4060b813b5",
   "metadata": {},
   "outputs": [],
   "source": [
    "a = 'He'\n",
    "b = 'llo'"
   ]
  },
  {
   "cell_type": "code",
   "execution_count": 7,
   "id": "5eadb361-8c5e-4bbb-9f63-93f045c4daba",
   "metadata": {},
   "outputs": [
    {
     "data": {
      "text/plain": [
       "'Hello'"
      ]
     },
     "execution_count": 7,
     "metadata": {},
     "output_type": "execute_result"
    }
   ],
   "source": [
    "a + b"
   ]
  },
  {
   "cell_type": "code",
   "execution_count": 8,
   "id": "7dd65848-f635-477d-8725-5013bc31f8c7",
   "metadata": {},
   "outputs": [
    {
     "name": "stdout",
     "output_type": "stream",
     "text": [
      "He, llo\n"
     ]
    }
   ],
   "source": [
    "# js 에서는 `${a}, ${b}` 이렇게 쓰느..\n",
    "# python 에서는\n",
    "print(f'{a}, {b}')"
   ]
  },
  {
   "cell_type": "code",
   "execution_count": 9,
   "id": "1b63b052-acee-4f13-a547-369683a09df1",
   "metadata": {},
   "outputs": [
    {
     "name": "stdout",
     "output_type": "stream",
     "text": [
      "12가 크다\n"
     ]
    }
   ],
   "source": [
    "if 12 > 5 : \n",
    "    print('12가 크다')"
   ]
  },
  {
   "cell_type": "code",
   "execution_count": 12,
   "id": "d366c8c3-d43b-48c6-a8f2-7823cb17a4d9",
   "metadata": {},
   "outputs": [
    {
     "name": "stdout",
     "output_type": "stream",
     "text": [
      "1 : 0\n",
      "2 : 1\n",
      "3 : 2\n",
      "4 : 3\n",
      "5 : 4\n"
     ]
    }
   ],
   "source": [
    "for v, idx in enumerate([1,2,3,4,5]):\n",
    "    print(f'{idx} : {v}')"
   ]
  },
  {
   "cell_type": "code",
   "execution_count": 1,
   "id": "c1dde07c-a459-42b0-825e-fcf0c50fa3dd",
   "metadata": {},
   "outputs": [],
   "source": [
    "import numpy as np"
   ]
  },
  {
   "cell_type": "code",
   "execution_count": 4,
   "id": "ada3e2f1-8e80-428e-a963-d5dccb77437a",
   "metadata": {},
   "outputs": [],
   "source": [
    "a = np.arange(1, 10)"
   ]
  },
  {
   "cell_type": "code",
   "execution_count": 6,
   "id": "9ff3d543-582a-46d3-b826-f516cabe6fbf",
   "metadata": {},
   "outputs": [
    {
     "data": {
      "text/plain": [
       "[1, 2, 3, 4, 5, 6, 7, 8, 9]"
      ]
     },
     "execution_count": 6,
     "metadata": {},
     "output_type": "execute_result"
    }
   ],
   "source": [
    "a.tolist()"
   ]
  },
  {
   "cell_type": "code",
   "execution_count": null,
   "id": "56847ddb-a3dc-4fd2-80b8-991fc641ec8b",
   "metadata": {},
   "outputs": [],
   "source": []
  }
 ],
 "metadata": {
  "kernelspec": {
   "display_name": "Python 3 (ipykernel)",
   "language": "python",
   "name": "python3"
  },
  "language_info": {
   "codemirror_mode": {
    "name": "ipython",
    "version": 3
   },
   "file_extension": ".py",
   "mimetype": "text/x-python",
   "name": "python",
   "nbconvert_exporter": "python",
   "pygments_lexer": "ipython3",
   "version": "3.11.2"
  }
 },
 "nbformat": 4,
 "nbformat_minor": 5
}
